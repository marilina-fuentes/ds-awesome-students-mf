{
 "cells": [
  {
   "cell_type": "code",
   "execution_count": null,
   "metadata": {},
   "outputs": [],
   "source": [
    "# ● Elaborar un modelo predictivo aplicando el algoritmo de Regresión Logística para resolver un problema de clasificación utilizando el lenguaje Python.\n",
    "\n",
    "# Ejercicios planteados\n",
    "\n",
    "# El archivo rrhh.csv contiene información de la situación laboral de los trabajadores de la empresa ABAC. Las variables disponibles son:\n",
    "# ● Estado: Estado actual del trabajador en la empresa (1: desvinculado, 0: vinculado).\n",
    "# ● Edad: Edad del trabajador en años.\n",
    "# ● Ratio.Pago: Medida de pago por hora (numerico)\n",
    "# ● Salario: Salario mensual en dólares que tiene o tenía el trabajador\n",
    "# ● Dias.trabajados: Días que lleva o llevaba trabajando en la empresa\n",
    "# ● Ausencias: Días que ha faltado a trabajar\n",
    "# ● Sexo: Sexo del trabajador (Female , Male)\n",
    "# ● Estado.Civil: Estado civil del trabajador (1: divorciado, 2: casado,3: separado, 4: soltero, 5: viuda)\n",
    "# ● Departamento: Lugar de trabajo en la empresa (Admin Offices,..)\n",
    "# ● Posicion: Cargo del trabajador/empleado (Accountant I ,.... )\n",
    "# ● Desempeño: Clasificación del desempeño del trabajador."
   ]
  },
  {
   "cell_type": "code",
   "execution_count": 33,
   "metadata": {},
   "outputs": [],
   "source": [
    "import pandas as pd\n",
    "from sklearn.model_selection import train_test_split\n",
    "from sklearn.linear_model import LogisticRegression\n",
    "from sklearn.metrics import accuracy_score, confusion_matrix\n",
    "import matplotlib.pyplot as plt\n",
    "import seaborn as sns\n",
    "from scipy.stats import ttest_ind"
   ]
  },
  {
   "cell_type": "code",
   "execution_count": 4,
   "metadata": {},
   "outputs": [
    {
     "data": {
      "text/html": [
       "<div>\n",
       "<style scoped>\n",
       "    .dataframe tbody tr th:only-of-type {\n",
       "        vertical-align: middle;\n",
       "    }\n",
       "\n",
       "    .dataframe tbody tr th {\n",
       "        vertical-align: top;\n",
       "    }\n",
       "\n",
       "    .dataframe thead th {\n",
       "        text-align: right;\n",
       "    }\n",
       "</style>\n",
       "<table border=\"1\" class=\"dataframe\">\n",
       "  <thead>\n",
       "    <tr style=\"text-align: right;\">\n",
       "      <th></th>\n",
       "      <th>Estado</th>\n",
       "      <th>Edad</th>\n",
       "      <th>Ratio.Pago</th>\n",
       "      <th>Salario</th>\n",
       "      <th>Dias.trabajados</th>\n",
       "      <th>Ausencias</th>\n",
       "      <th>Sexo</th>\n",
       "      <th>Estado.Civil</th>\n",
       "      <th>Departamento</th>\n",
       "      <th>Posicion</th>\n",
       "      <th>Desempeño</th>\n",
       "    </tr>\n",
       "  </thead>\n",
       "  <tbody>\n",
       "    <tr>\n",
       "      <th>0</th>\n",
       "      <td>0</td>\n",
       "      <td>30.0</td>\n",
       "      <td>28.50</td>\n",
       "      <td>4167.066667</td>\n",
       "      <td>3317</td>\n",
       "      <td>1</td>\n",
       "      <td>Female</td>\n",
       "      <td>2</td>\n",
       "      <td>Admin Offices</td>\n",
       "      <td>Accountant I</td>\n",
       "      <td>Fully Meets</td>\n",
       "    </tr>\n",
       "    <tr>\n",
       "      <th>1</th>\n",
       "      <td>0</td>\n",
       "      <td>34.0</td>\n",
       "      <td>23.00</td>\n",
       "      <td>6962.466667</td>\n",
       "      <td>1420</td>\n",
       "      <td>17</td>\n",
       "      <td>Male</td>\n",
       "      <td>1</td>\n",
       "      <td>Admin Offices</td>\n",
       "      <td>Accountant I</td>\n",
       "      <td>Fully Meets</td>\n",
       "    </tr>\n",
       "    <tr>\n",
       "      <th>2</th>\n",
       "      <td>0</td>\n",
       "      <td>31.0</td>\n",
       "      <td>29.00</td>\n",
       "      <td>4330.333333</td>\n",
       "      <td>1154</td>\n",
       "      <td>3</td>\n",
       "      <td>Male</td>\n",
       "      <td>4</td>\n",
       "      <td>Admin Offices</td>\n",
       "      <td>Accountant I</td>\n",
       "      <td>Fully Meets</td>\n",
       "    </tr>\n",
       "    <tr>\n",
       "      <th>3</th>\n",
       "      <td>0</td>\n",
       "      <td>32.0</td>\n",
       "      <td>21.50</td>\n",
       "      <td>4332.733333</td>\n",
       "      <td>58</td>\n",
       "      <td>15</td>\n",
       "      <td>Female</td>\n",
       "      <td>2</td>\n",
       "      <td>Admin Offices</td>\n",
       "      <td>Administrative Assistant</td>\n",
       "      <td>N/A- too early to review</td>\n",
       "    </tr>\n",
       "    <tr>\n",
       "      <th>4</th>\n",
       "      <td>0</td>\n",
       "      <td>30.0</td>\n",
       "      <td>16.56</td>\n",
       "      <td>3388.333333</td>\n",
       "      <td>940</td>\n",
       "      <td>2</td>\n",
       "      <td>Female</td>\n",
       "      <td>4</td>\n",
       "      <td>Admin Offices</td>\n",
       "      <td>Administrative Assistant</td>\n",
       "      <td>N/A- too early to review</td>\n",
       "    </tr>\n",
       "  </tbody>\n",
       "</table>\n",
       "</div>"
      ],
      "text/plain": [
       "   Estado  Edad  Ratio.Pago      Salario  Dias.trabajados  Ausencias    Sexo   \n",
       "0       0  30.0       28.50  4167.066667             3317          1  Female  \\\n",
       "1       0  34.0       23.00  6962.466667             1420         17    Male   \n",
       "2       0  31.0       29.00  4330.333333             1154          3    Male   \n",
       "3       0  32.0       21.50  4332.733333               58         15  Female   \n",
       "4       0  30.0       16.56  3388.333333              940          2  Female   \n",
       "\n",
       "   Estado.Civil   Departamento                  Posicion   \n",
       "0             2  Admin Offices              Accountant I  \\\n",
       "1             1  Admin Offices              Accountant I   \n",
       "2             4  Admin Offices              Accountant I   \n",
       "3             2  Admin Offices  Administrative Assistant   \n",
       "4             4  Admin Offices  Administrative Assistant   \n",
       "\n",
       "                  Desempeño  \n",
       "0               Fully Meets  \n",
       "1               Fully Meets  \n",
       "2               Fully Meets  \n",
       "3  N/A- too early to review  \n",
       "4  N/A- too early to review  "
      ]
     },
     "execution_count": 4,
     "metadata": {},
     "output_type": "execute_result"
    }
   ],
   "source": [
    "#1. Cargue los datos y revise los formatos de cada variable, recuerde codificar las variables como numéricas o factores según corresponda.\n",
    "data = pd.read_csv('C:/Users/bebit/Downloads/rrhh.csv')\n",
    "data.head() \n"
   ]
  },
  {
   "cell_type": "code",
   "execution_count": 24,
   "metadata": {},
   "outputs": [
    {
     "data": {
      "text/plain": [
       "Estado             0\n",
       "Edad               0\n",
       "Ratio.Pago         0\n",
       "Salario            0\n",
       "Dias.trabajados    0\n",
       "Ausencias          0\n",
       "Sexo               0\n",
       "Estado.Civil       0\n",
       "Departamento       0\n",
       "Posicion           0\n",
       "Desempeño          0\n",
       "dtype: int64"
      ]
     },
     "execution_count": 24,
     "metadata": {},
     "output_type": "execute_result"
    }
   ],
   "source": [
    "#2. Realice un análisis descriptivo de sus datos. Determinar si existen observaciones faltantes, en el caso de existir tome la decisión de omitirlas del estudio u omitir \n",
    "# la variable. Evalúe si existen posibles incongruencias en la fuente de datos (ej: edades negativas). Y # finalmente análice la presencia de valores atípicos en las variables.\n",
    "\n",
    "data.isnull().sum() # verificamos si hay valores nulos"
   ]
  },
  {
   "cell_type": "code",
   "execution_count": 25,
   "metadata": {},
   "outputs": [
    {
     "data": {
      "text/html": [
       "<div>\n",
       "<style scoped>\n",
       "    .dataframe tbody tr th:only-of-type {\n",
       "        vertical-align: middle;\n",
       "    }\n",
       "\n",
       "    .dataframe tbody tr th {\n",
       "        vertical-align: top;\n",
       "    }\n",
       "\n",
       "    .dataframe thead th {\n",
       "        text-align: right;\n",
       "    }\n",
       "</style>\n",
       "<table border=\"1\" class=\"dataframe\">\n",
       "  <thead>\n",
       "    <tr style=\"text-align: right;\">\n",
       "      <th></th>\n",
       "      <th>Estado</th>\n",
       "      <th>Edad</th>\n",
       "      <th>Ratio.Pago</th>\n",
       "      <th>Salario</th>\n",
       "      <th>Dias.trabajados</th>\n",
       "      <th>Ausencias</th>\n",
       "      <th>Estado.Civil</th>\n",
       "    </tr>\n",
       "  </thead>\n",
       "  <tbody>\n",
       "    <tr>\n",
       "      <th>count</th>\n",
       "      <td>310.000000</td>\n",
       "      <td>310.000000</td>\n",
       "      <td>310.000000</td>\n",
       "      <td>310.000000</td>\n",
       "      <td>310.000000</td>\n",
       "      <td>310.000000</td>\n",
       "      <td>310.000000</td>\n",
       "    </tr>\n",
       "    <tr>\n",
       "      <th>mean</th>\n",
       "      <td>0.409677</td>\n",
       "      <td>38.867742</td>\n",
       "      <td>31.284806</td>\n",
       "      <td>4606.534839</td>\n",
       "      <td>1296.080645</td>\n",
       "      <td>10.264516</td>\n",
       "      <td>2.903226</td>\n",
       "    </tr>\n",
       "    <tr>\n",
       "      <th>std</th>\n",
       "      <td>0.492569</td>\n",
       "      <td>8.922459</td>\n",
       "      <td>15.383615</td>\n",
       "      <td>1677.350176</td>\n",
       "      <td>769.491382</td>\n",
       "      <td>5.843235</td>\n",
       "      <td>1.150625</td>\n",
       "    </tr>\n",
       "    <tr>\n",
       "      <th>min</th>\n",
       "      <td>0.000000</td>\n",
       "      <td>25.000000</td>\n",
       "      <td>14.000000</td>\n",
       "      <td>3004.600000</td>\n",
       "      <td>2.000000</td>\n",
       "      <td>1.000000</td>\n",
       "      <td>1.000000</td>\n",
       "    </tr>\n",
       "    <tr>\n",
       "      <th>25%</th>\n",
       "      <td>0.000000</td>\n",
       "      <td>32.000000</td>\n",
       "      <td>20.000000</td>\n",
       "      <td>3707.033333</td>\n",
       "      <td>766.250000</td>\n",
       "      <td>5.000000</td>\n",
       "      <td>2.000000</td>\n",
       "    </tr>\n",
       "    <tr>\n",
       "      <th>50%</th>\n",
       "      <td>0.000000</td>\n",
       "      <td>37.000000</td>\n",
       "      <td>24.000000</td>\n",
       "      <td>4190.666667</td>\n",
       "      <td>1238.000000</td>\n",
       "      <td>10.000000</td>\n",
       "      <td>3.000000</td>\n",
       "    </tr>\n",
       "    <tr>\n",
       "      <th>75%</th>\n",
       "      <td>1.000000</td>\n",
       "      <td>44.000000</td>\n",
       "      <td>45.315000</td>\n",
       "      <td>4804.733333</td>\n",
       "      <td>1732.750000</td>\n",
       "      <td>15.000000</td>\n",
       "      <td>4.000000</td>\n",
       "    </tr>\n",
       "    <tr>\n",
       "      <th>max</th>\n",
       "      <td>1.000000</td>\n",
       "      <td>67.000000</td>\n",
       "      <td>80.000000</td>\n",
       "      <td>16666.666667</td>\n",
       "      <td>4339.000000</td>\n",
       "      <td>20.000000</td>\n",
       "      <td>5.000000</td>\n",
       "    </tr>\n",
       "  </tbody>\n",
       "</table>\n",
       "</div>"
      ],
      "text/plain": [
       "           Estado        Edad  Ratio.Pago       Salario  Dias.trabajados   \n",
       "count  310.000000  310.000000  310.000000    310.000000       310.000000  \\\n",
       "mean     0.409677   38.867742   31.284806   4606.534839      1296.080645   \n",
       "std      0.492569    8.922459   15.383615   1677.350176       769.491382   \n",
       "min      0.000000   25.000000   14.000000   3004.600000         2.000000   \n",
       "25%      0.000000   32.000000   20.000000   3707.033333       766.250000   \n",
       "50%      0.000000   37.000000   24.000000   4190.666667      1238.000000   \n",
       "75%      1.000000   44.000000   45.315000   4804.733333      1732.750000   \n",
       "max      1.000000   67.000000   80.000000  16666.666667      4339.000000   \n",
       "\n",
       "        Ausencias  Estado.Civil  \n",
       "count  310.000000    310.000000  \n",
       "mean    10.264516      2.903226  \n",
       "std      5.843235      1.150625  \n",
       "min      1.000000      1.000000  \n",
       "25%      5.000000      2.000000  \n",
       "50%     10.000000      3.000000  \n",
       "75%     15.000000      4.000000  \n",
       "max     20.000000      5.000000  "
      ]
     },
     "execution_count": 25,
     "metadata": {},
     "output_type": "execute_result"
    }
   ],
   "source": [
    "data.describe() # describimos los datos"
   ]
  },
  {
   "cell_type": "code",
   "execution_count": 27,
   "metadata": {},
   "outputs": [
    {
     "data": {
      "image/png": "[encoded data removed]",
      "text/plain": [
       "<Figure size 640x480 with 1 Axes>"
      ]
     },
     "metadata": {},
     "output_type": "display_data"
    }
   ],
   "source": [
    "data.boxplot(column=['Edad', 'Ratio.Pago', 'Salario', 'Dias.trabajados', 'Ausencias']) # graficamos los datos para ver si hay valores atipicos\n",
    "plt.show()"
   ]
  },
  {
   "cell_type": "code",
   "execution_count": 28,
   "metadata": {},
   "outputs": [],
   "source": [
    "#3. Realice análisis de cómo se relacionan las variables continuas con la variable de interés. Acompañe con gráficos y estadísticas. ¿Qué variables pudieran resultar \n",
    "# significativas a la hora de modelar la probabilidad de que el trabajador sea desvinculado a la empresa?\n",
    "\n",
    "desvinculados = data[data['Estado'] == 1] # filtramos los datos de los desvinculados\n",
    "vinculados = data[data['Estado'] == 0] # filtramos los datos de los vinculados\n"
   ]
  },
  {
   "cell_type": "code",
   "execution_count": 31,
   "metadata": {},
   "outputs": [
    {
     "data": {
      "image/png": "[encoded data removed]",
      "text/plain": [
       "<Figure size 640x480 with 1 Axes>"
      ]
     },
     "metadata": {},
     "output_type": "display_data"
    }
   ],
   "source": [
    "sns.boxplot(x='Estado', y='Edad', data=data) # graficamos la edad de los desvinculados y vinculados\n",
    "plt.title('Distribución de Edad según el Estado') # titulo del grafico\n",
    "plt.show()"
   ]
  },
  {
   "cell_type": "code",
   "execution_count": 34,
   "metadata": {},
   "outputs": [
    {
     "data": {
      "text/plain": [
       "Ttest_indResult(statistic=-0.14717326456812824, pvalue=0.883091552654905)"
      ]
     },
     "execution_count": 34,
     "metadata": {},
     "output_type": "execute_result"
    }
   ],
   "source": [
    "ttest_ind(desvinculados['Salario'], vinculados['Salario'])"
   ]
  },
  {
   "cell_type": "code",
   "execution_count": 38,
   "metadata": {},
   "outputs": [
    {
     "name": "stdout",
     "output_type": "stream",
     "text": [
      "Index(['Estado', 'Edad', 'Ratio.Pago', 'Salario', 'Dias.trabajados',\n",
      "       'Ausencias', 'Sexo', 'Estado.Civil', 'Departamento', 'Posicion',\n",
      "       'Desempeño'],\n",
      "      dtype='object')\n"
     ]
    }
   ],
   "source": [
    "print(data.columns)\n"
   ]
  },
  {
   "cell_type": "code",
   "execution_count": 39,
   "metadata": {},
   "outputs": [
    {
     "name": "stdout",
     "output_type": "stream",
     "text": [
      "Estado    0   1\n",
      "Sexo           \n",
      "Female  101  76\n",
      "Male     82  51\n"
     ]
    },
    {
     "data": {
      "image/png": "[encoded data removed]",
      "text/plain": [
       "<Figure size 640x480 with 1 Axes>"
      ]
     },
     "metadata": {},
     "output_type": "display_data"
    }
   ],
   "source": [
    "# 4. Realice análisis de cómo se relacionan las variables categóricas con la variable de interés. Acompañe con gráficos y estadísticas. ¿Qué variables pudieran resultar \n",
    "# significativas a la hora de modelar la probabilidad de que el trabajador sea desvinculado a la empresa?\n",
    "\n",
    "tabla_contingencia = pd.crosstab(data['Sexo'], data['Estado'])# creamos una tabla de contingencia\n",
    "print(tabla_contingencia)\n",
    "\n",
    "tabla_contingencia.plot(kind='bar', stacked=True)# graficamos la tabla de contingencia\n",
    "plt.xlabel('Sexo')# etiqueta del eje x\n",
    "plt.ylabel('Frecuencia')# etiqueta del eje y\n",
    "plt.title('Relación entre Sexo y Estado')# titulo del grafico\n",
    "plt.show()"
   ]
  },
  {
   "cell_type": "code",
   "execution_count": 40,
   "metadata": {},
   "outputs": [
    {
     "name": "stdout",
     "output_type": "stream",
     "text": [
      "Estado          0          1\n",
      "Sexo                        \n",
      "Female  57.062147  42.937853\n",
      "Male    61.654135  38.345865\n"
     ]
    }
   ],
   "source": [
    "porcentajes = tabla_contingencia.div(tabla_contingencia.sum(axis=1), axis=0) * 100\n",
    "print(porcentajes)\n"
   ]
  },
  {
   "cell_type": "code",
   "execution_count": 46,
   "metadata": {},
   "outputs": [
    {
     "name": "stdout",
     "output_type": "stream",
     "text": [
      "Index(['Estado', 'Edad', 'Ratio.Pago', 'Salario', 'Dias.trabajados',\n",
      "       'Ausencias', 'Sexo', 'Estado.Civil', 'Departamento', 'Posicion',\n",
      "       'Desempeño'],\n",
      "      dtype='object')\n"
     ]
    }
   ],
   "source": [
    "print(data.columns)"
   ]
  },
  {
   "cell_type": "code",
   "execution_count": 50,
   "metadata": {},
   "outputs": [
    {
     "data": {
      "image/png": "[encoded data removed]",
      "text/plain": [
       "<Figure size 640x480 with 1 Axes>"
      ]
     },
     "metadata": {},
     "output_type": "display_data"
    }
   ],
   "source": [
    "sns.countplot(x='Estado', hue='Sexo', data=data)\n",
    "plt.title('Relación entre Departamento y Posicion')\n",
    "plt.show()"
   ]
  }
 ],
 "metadata": {
  "kernelspec": {
   "display_name": "Python 3",
   "language": "python",
   "name": "python3"
  },
  "language_info": {
   "codemirror_mode": {
    "name": "ipython",
    "version": 3
   },
   "file_extension": ".py",
   "mimetype": "text/x-python",
   "name": "python",
   "nbconvert_exporter": "python",
   "pygments_lexer": "ipython3",
   "version": "3.10.11"
  },
  "orig_nbformat": 4
 },
 "nbformat": 4,
 "nbformat_minor": 2
}
