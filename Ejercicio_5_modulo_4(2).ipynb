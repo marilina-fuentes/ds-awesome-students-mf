{
 "cells": [
  {
   "cell_type": "code",
   "execution_count": 3,
   "metadata": {},
   "outputs": [
    {
     "name": "stdout",
     "output_type": "stream",
     "text": [
      "El valor estadístico de prueba es: 2.1516\n",
      "El valor crítico es: 1.2816\n",
      "Se rechaza hipótesis nula\n",
      "El valor p de la decision es: 0.0157\n",
      "Hay evidencia para afirmar que el promedio del consumo de energía eléctrica hogareño de los empleados de la empresa es superior a la media del consumo a nivel provincial\n"
     ]
    }
   ],
   "source": [
    "# Caso 1\n",
    "# Se sabe que la media del consumo de energía eléctrica en cierta provincia es\n",
    "# de 721 kwh.\n",
    "# Una empresa tecnológica de la región cree que sus empleados consumen más\n",
    "# que el promedio provincial. Recoge información sobre los consumos de 20\n",
    "# empleados escogidos al azar, y obtiene los siguientes datos:\n",
    "# 710 774 814 768 823 \n",
    "# 732 675 755 770 660\n",
    "# 654 757 736 677 797\n",
    "# 760 718 774 747 796\n",
    "\n",
    "#Si la distribución del consumo mensual de energía eléctrica es normal:\n",
    "\n",
    "import math\n",
    "from scipy.stats import norm\n",
    "\n",
    "# Media del consumo de energía eléctrica en cierta provincia es:\n",
    "MediaPoblacional = 721 \n",
    "\n",
    "# Datos de la muestra\n",
    "n = 20\n",
    "x_bar = sum([710, 774, 814, 768, 823, 732, 675, 755, 770, 660,\n",
    "             654, 757, 736, 677, 797, 760, 718, 774, 747, 796]) / n\n",
    "s = math.sqrt(sum([(xi - x_bar)**2 for xi in [710, 774, 814, 768, 823, 732, 675, 755, 770, 660,\n",
    "                                               654, 757, 736, 677, 797, 760, 718, 774, 747, 796]]) / (n - 1))\n",
    "\n",
    "\n",
    "# a) ¿Hay evidencias para afirmar que el promedio del consumo de energía eléctrica hogareño de los empleados de la empresa es superior a la media del \n",
    "# consumo a nivel provincial? Usar un nivel de significación del 10%.\n",
    "\n",
    "alpha = 0.10 # nivel significación\n",
    "tail = \"right\" # prueba cola derecha\n",
    "\n",
    "# Calcular el estadístico de prueba\n",
    "z = (x_bar - MediaPoblacional) / (s / math.sqrt(n))\n",
    "\n",
    "#b) ¿Cuál es el valor p de la decisión?\n",
    "\n",
    "# Calcular el valor crítico y el valor p\n",
    "if tail == \"left\":\n",
    "    z_critico = -1 * abs(norm.ppf(alpha))\n",
    "    p_value = norm.cdf(z)\n",
    "elif tail == \"right\":\n",
    "    z_critico = abs(norm.ppf(alpha))\n",
    "    p_value = 1 - norm.cdf(z)\n",
    "else:\n",
    "    z_critico = abs(norm.ppf(alpha/2))\n",
    "    p_value = 2 * (1 - norm.cdf(abs(z)))\n",
    "\n",
    "# Imprimir los resultados\n",
    "print(f\"El valor estadístico de prueba es: {z:.4f}\")\n",
    "print(f\"El valor crítico es: {z_critico:.4f}\")\n",
    "if abs(z) > abs(z_critico):\n",
    "    print(\"Se rechaza hipótesis nula\")\n",
    "else:\n",
    "    print(\"No se puede rechazar la hipótesis nula\")\n",
    "print(f\"El valor p de la decision es: {p_value:.4f}\")\n",
    "if p_value < alpha:\n",
    "    print(\"Hay evidencia para afirmar que el promedio del consumo de energía eléctrica hogareño de los empleados de la empresa es superior a la media del consumo a nivel provincial\")\n",
    "else:\n",
    "    print(\"No hay suficiente evidencia para afirmar que el promedio del consumo de energía eléctrica hogareño de los empleados de la empresa es superior a la media del consumo a nivel provincial\")\n"
   ]
  }
 ],
 "metadata": {
  "kernelspec": {
   "display_name": "Python 3",
   "language": "python",
   "name": "python3"
  },
  "language_info": {
   "codemirror_mode": {
    "name": "ipython",
    "version": 3
   },
   "file_extension": ".py",
   "mimetype": "text/x-python",
   "name": "python",
   "nbconvert_exporter": "python",
   "pygments_lexer": "ipython3",
   "version": "3.10.11"
  },
  "orig_nbformat": 4
 },
 "nbformat": 4,
 "nbformat_minor": 2
}
