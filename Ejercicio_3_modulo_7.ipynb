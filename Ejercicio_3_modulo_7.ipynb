{
 "cells": [
  {
   "cell_type": "code",
   "execution_count": 23,
   "metadata": {},
   "outputs": [],
   "source": [
    "from tensorflow import keras\n",
    "import tensorflow as tf\n",
    "import tensorflow.keras.utils as np_utils\n",
    "from keras.datasets import fashion_mnist\n",
    "(train_X,train_Y), (test_X,test_Y) = fashion_mnist.load_data()\n",
    "import numpy as np\n",
    "from tensorflow.keras.utils import to_categorical\n",
    "import matplotlib.pyplot as plt\n",
    "from sklearn.model_selection import train_test_split\n"
   ]
  },
  {
   "cell_type": "code",
   "execution_count": 2,
   "metadata": {},
   "outputs": [],
   "source": [
    "from tensorflow.keras.models import Sequential, Model\n",
    "from tensorflow.keras.layers import Dense, Dropout, Flatten, Input\n",
    "from tensorflow.keras.layers import Conv2D, MaxPooling2D\n",
    "from tensorflow.keras.layers import BatchNormalization\n",
    "from tensorflow.keras.layers import LeakyReLU"
   ]
  },
  {
   "cell_type": "code",
   "execution_count": 3,
   "metadata": {},
   "outputs": [
    {
     "name": "stdout",
     "output_type": "stream",
     "text": [
      "Requirement already satisfied: tensorflow<2.11 in c:\\users\\bebit\\anaconda3\\envs\\venv39\\lib\\site-packages (2.10.1)\n",
      "Requirement already satisfied: keras-preprocessing>=1.1.1 in c:\\users\\bebit\\anaconda3\\envs\\venv39\\lib\\site-packages (from tensorflow<2.11) (1.1.2)\n",
      "Requirement already satisfied: grpcio<2.0,>=1.24.3 in c:\\users\\bebit\\anaconda3\\envs\\venv39\\lib\\site-packages (from tensorflow<2.11) (1.48.2)\n",
      "Requirement already satisfied: tensorboard<2.11,>=2.10 in c:\\users\\bebit\\anaconda3\\envs\\venv39\\lib\\site-packages (from tensorflow<2.11) (2.10.1)\n",
      "Requirement already satisfied: typing-extensions>=3.6.6 in c:\\users\\bebit\\anaconda3\\envs\\venv39\\lib\\site-packages (from tensorflow<2.11) (4.5.0)\n",
      "Requirement already satisfied: absl-py>=1.0.0 in c:\\users\\bebit\\anaconda3\\envs\\venv39\\lib\\site-packages (from tensorflow<2.11) (1.3.0)\n",
      "Requirement already satisfied: tensorflow-io-gcs-filesystem>=0.23.1 in c:\\users\\bebit\\anaconda3\\envs\\venv39\\lib\\site-packages (from tensorflow<2.11) (0.31.0)\n",
      "Requirement already satisfied: h5py>=2.9.0 in c:\\users\\bebit\\anaconda3\\envs\\venv39\\lib\\site-packages (from tensorflow<2.11) (3.7.0)\n",
      "Requirement already satisfied: astunparse>=1.6.0 in c:\\users\\bebit\\anaconda3\\envs\\venv39\\lib\\site-packages (from tensorflow<2.11) (1.6.3)\n",
      "Requirement already satisfied: opt-einsum>=2.3.2 in c:\\users\\bebit\\anaconda3\\envs\\venv39\\lib\\site-packages (from tensorflow<2.11) (3.3.0)\n",
      "Requirement already satisfied: flatbuffers>=2.0 in c:\\users\\bebit\\anaconda3\\envs\\venv39\\lib\\site-packages (from tensorflow<2.11) (2.0)\n",
      "Requirement already satisfied: tensorflow-estimator<2.11,>=2.10.0 in c:\\users\\bebit\\anaconda3\\envs\\venv39\\lib\\site-packages (from tensorflow<2.11) (2.10.0)\n",
      "Requirement already satisfied: google-pasta>=0.1.1 in c:\\users\\bebit\\anaconda3\\envs\\venv39\\lib\\site-packages (from tensorflow<2.11) (0.2.0)\n",
      "Requirement already satisfied: wrapt>=1.11.0 in c:\\users\\bebit\\anaconda3\\envs\\venv39\\lib\\site-packages (from tensorflow<2.11) (1.14.1)\n",
      "Requirement already satisfied: gast<=0.4.0,>=0.2.1 in c:\\users\\bebit\\anaconda3\\envs\\venv39\\lib\\site-packages (from tensorflow<2.11) (0.4.0)\n",
      "Requirement already satisfied: protobuf<3.20,>=3.9.2 in c:\\users\\bebit\\anaconda3\\envs\\venv39\\lib\\site-packages (from tensorflow<2.11) (3.19.6)\n",
      "Requirement already satisfied: six>=1.12.0 in c:\\users\\bebit\\anaconda3\\envs\\venv39\\lib\\site-packages (from tensorflow<2.11) (1.16.0)\n",
      "Requirement already satisfied: termcolor>=1.1.0 in c:\\users\\bebit\\anaconda3\\envs\\venv39\\lib\\site-packages (from tensorflow<2.11) (2.1.0)\n",
      "Requirement already satisfied: setuptools in c:\\users\\bebit\\anaconda3\\envs\\venv39\\lib\\site-packages (from tensorflow<2.11) (66.0.0)\n",
      "Requirement already satisfied: keras<2.11,>=2.10.0 in c:\\users\\bebit\\anaconda3\\envs\\venv39\\lib\\site-packages (from tensorflow<2.11) (2.10.0)\n",
      "Requirement already satisfied: packaging in c:\\users\\bebit\\anaconda3\\envs\\venv39\\lib\\site-packages (from tensorflow<2.11) (23.0)\n",
      "Requirement already satisfied: libclang>=13.0.0 in c:\\users\\bebit\\anaconda3\\envs\\venv39\\lib\\site-packages (from tensorflow<2.11) (16.0.0)\n",
      "Requirement already satisfied: numpy>=1.20 in c:\\users\\bebit\\anaconda3\\envs\\venv39\\lib\\site-packages (from tensorflow<2.11) (1.23.5)\n",
      "Requirement already satisfied: wheel<1.0,>=0.23.0 in c:\\users\\bebit\\anaconda3\\envs\\venv39\\lib\\site-packages (from astunparse>=1.6.0->tensorflow<2.11) (0.38.4)\n",
      "Requirement already satisfied: google-auth-oauthlib<0.5,>=0.4.1 in c:\\users\\bebit\\anaconda3\\envs\\venv39\\lib\\site-packages (from tensorboard<2.11,>=2.10->tensorflow<2.11) (0.4.6)\n",
      "Requirement already satisfied: markdown>=2.6.8 in c:\\users\\bebit\\anaconda3\\envs\\venv39\\lib\\site-packages (from tensorboard<2.11,>=2.10->tensorflow<2.11) (3.4.1)\n",
      "Requirement already satisfied: tensorboard-plugin-wit>=1.6.0 in c:\\users\\bebit\\anaconda3\\envs\\venv39\\lib\\site-packages (from tensorboard<2.11,>=2.10->tensorflow<2.11) (1.8.1)\n",
      "Requirement already satisfied: werkzeug>=1.0.1 in c:\\users\\bebit\\anaconda3\\envs\\venv39\\lib\\site-packages (from tensorboard<2.11,>=2.10->tensorflow<2.11) (2.2.3)\n",
      "Requirement already satisfied: tensorboard-data-server<0.7.0,>=0.6.0 in c:\\users\\bebit\\anaconda3\\envs\\venv39\\lib\\site-packages (from tensorboard<2.11,>=2.10->tensorflow<2.11) (0.6.1)\n",
      "Requirement already satisfied: requests<3,>=2.21.0 in c:\\users\\bebit\\anaconda3\\envs\\venv39\\lib\\site-packages (from tensorboard<2.11,>=2.10->tensorflow<2.11) (2.29.0)\n",
      "Requirement already satisfied: google-auth<3,>=1.6.3 in c:\\users\\bebit\\anaconda3\\envs\\venv39\\lib\\site-packages (from tensorboard<2.11,>=2.10->tensorflow<2.11) (2.18.1)\n",
      "Requirement already satisfied: urllib3<2.0 in c:\\users\\bebit\\anaconda3\\envs\\venv39\\lib\\site-packages (from google-auth<3,>=1.6.3->tensorboard<2.11,>=2.10->tensorflow<2.11) (1.26.15)\n",
      "Requirement already satisfied: cachetools<6.0,>=2.0.0 in c:\\users\\bebit\\anaconda3\\envs\\venv39\\lib\\site-packages (from google-auth<3,>=1.6.3->tensorboard<2.11,>=2.10->tensorflow<2.11) (4.2.2)\n",
      "Requirement already satisfied: rsa<5,>=3.1.4 in c:\\users\\bebit\\anaconda3\\envs\\venv39\\lib\\site-packages (from google-auth<3,>=1.6.3->tensorboard<2.11,>=2.10->tensorflow<2.11) (4.7.2)\n",
      "Requirement already satisfied: pyasn1-modules>=0.2.1 in c:\\users\\bebit\\anaconda3\\envs\\venv39\\lib\\site-packages (from google-auth<3,>=1.6.3->tensorboard<2.11,>=2.10->tensorflow<2.11) (0.2.8)\n",
      "Requirement already satisfied: requests-oauthlib>=0.7.0 in c:\\users\\bebit\\anaconda3\\envs\\venv39\\lib\\site-packages (from google-auth-oauthlib<0.5,>=0.4.1->tensorboard<2.11,>=2.10->tensorflow<2.11) (1.3.0)\n",
      "Requirement already satisfied: importlib-metadata>=4.4 in c:\\users\\bebit\\anaconda3\\envs\\venv39\\lib\\site-packages (from markdown>=2.6.8->tensorboard<2.11,>=2.10->tensorflow<2.11) (6.0.0)\n",
      "Requirement already satisfied: charset-normalizer<4,>=2 in c:\\users\\bebit\\anaconda3\\envs\\venv39\\lib\\site-packages (from requests<3,>=2.21.0->tensorboard<2.11,>=2.10->tensorflow<2.11) (2.0.4)\n",
      "Requirement already satisfied: idna<4,>=2.5 in c:\\users\\bebit\\anaconda3\\envs\\venv39\\lib\\site-packages (from requests<3,>=2.21.0->tensorboard<2.11,>=2.10->tensorflow<2.11) (3.4)\n",
      "Requirement already satisfied: certifi>=2017.4.17 in c:\\users\\bebit\\anaconda3\\envs\\venv39\\lib\\site-packages (from requests<3,>=2.21.0->tensorboard<2.11,>=2.10->tensorflow<2.11) (2023.5.7)\n",
      "Requirement already satisfied: MarkupSafe>=2.1.1 in c:\\users\\bebit\\anaconda3\\envs\\venv39\\lib\\site-packages (from werkzeug>=1.0.1->tensorboard<2.11,>=2.10->tensorflow<2.11) (2.1.1)\n",
      "Requirement already satisfied: zipp>=0.5 in c:\\users\\bebit\\anaconda3\\envs\\venv39\\lib\\site-packages (from importlib-metadata>=4.4->markdown>=2.6.8->tensorboard<2.11,>=2.10->tensorflow<2.11) (3.11.0)\n",
      "Requirement already satisfied: pyasn1<0.5.0,>=0.4.6 in c:\\users\\bebit\\anaconda3\\envs\\venv39\\lib\\site-packages (from pyasn1-modules>=0.2.1->google-auth<3,>=1.6.3->tensorboard<2.11,>=2.10->tensorflow<2.11) (0.4.8)\n",
      "Requirement already satisfied: oauthlib>=3.0.0 in c:\\users\\bebit\\anaconda3\\envs\\venv39\\lib\\site-packages (from requests-oauthlib>=0.7.0->google-auth-oauthlib<0.5,>=0.4.1->tensorboard<2.11,>=2.10->tensorflow<2.11) (3.2.2)\n",
      "Note: you may need to restart the kernel to use updated packages.\n"
     ]
    }
   ],
   "source": [
    "pip install \"tensorflow<2.11"
   ]
  },
  {
   "cell_type": "code",
   "execution_count": 21,
   "metadata": {},
   "outputs": [
    {
     "name": "stdout",
     "output_type": "stream",
     "text": [
      "Collecting scikit-learn\n",
      "  Downloading scikit_learn-1.2.2-cp39-cp39-win_amd64.whl (8.4 MB)\n",
      "     ---------------------------------------- 8.4/8.4 MB 16.2 MB/s eta 0:00:00\n",
      "Requirement already satisfied: numpy>=1.17.3 in c:\\users\\bebit\\anaconda3\\envs\\venv39\\lib\\site-packages (from scikit-learn) (1.23.5)\n",
      "Collecting joblib>=1.1.1\n",
      "  Downloading joblib-1.2.0-py3-none-any.whl (297 kB)\n",
      "     ------------------------------------- 298.0/298.0 kB 18.0 MB/s eta 0:00:00\n",
      "Requirement already satisfied: scipy>=1.3.2 in c:\\users\\bebit\\anaconda3\\envs\\venv39\\lib\\site-packages (from scikit-learn) (1.10.1)\n",
      "Collecting threadpoolctl>=2.0.0\n",
      "  Downloading threadpoolctl-3.1.0-py3-none-any.whl (14 kB)\n",
      "Installing collected packages: threadpoolctl, joblib, scikit-learn\n",
      "Successfully installed joblib-1.2.0 scikit-learn-1.2.2 threadpoolctl-3.1.0\n",
      "Note: you may need to restart the kernel to use updated packages.\n"
     ]
    }
   ],
   "source": [
    "pip install scikit-learn"
   ]
  },
  {
   "cell_type": "code",
   "execution_count": 2,
   "metadata": {},
   "outputs": [
    {
     "name": "stdout",
     "output_type": "stream",
     "text": [
      "Requirement already satisfied: keras in c:\\users\\bebit\\appdata\\local\\packages\\pythonsoftwarefoundation.python.3.10_qbz5n2kfra8p0\\localcache\\local-packages\\python310\\site-packages (2.10.0)\n",
      "Note: you may need to restart the kernel to use updated packages.\n"
     ]
    },
    {
     "name": "stderr",
     "output_type": "stream",
     "text": [
      "\n",
      "[notice] A new release of pip is available: 23.1.1 -> 23.1.2\n",
      "[notice] To update, run: C:\\Users\\bebit\\AppData\\Local\\Microsoft\\WindowsApps\\PythonSoftwareFoundation.Python.3.10_qbz5n2kfra8p0\\python.exe -m pip install --upgrade pip\n"
     ]
    }
   ],
   "source": [
    "pip install keras"
   ]
  },
  {
   "cell_type": "code",
   "execution_count": 4,
   "metadata": {},
   "outputs": [
    {
     "name": "stdout",
     "output_type": "stream",
     "text": [
      "Training data shape :  (60000, 28, 28) (60000,)\n",
      "Testing data shape :  (10000, 28, 28) (10000,)\n"
     ]
    }
   ],
   "source": [
    "#1. Obtenga el tamaño de los datos de test y testeo, además de las dimensiones de las imágenes.\n",
    "\n",
    "print('Training data shape : ', train_X.shape, train_Y.shape)\n",
    "print('Testing data shape : ', test_X.shape, test_Y.shape)"
   ]
  },
  {
   "cell_type": "code",
   "execution_count": 5,
   "metadata": {},
   "outputs": [],
   "source": [
    "#2. Obtenga las categorías de la base\n",
    "\n",
    "fashion_mnist = keras.datasets.fashion_mnist\n",
    "(train_images, train_labels), (test_images, test_labels) = fashion_mnist.load_data()\n",
    "#3. Descripción de la base de datos\n",
    "\n",
    "class_names = ['Camiseta', 'Pantalón', 'Suéter', 'Vestido', 'Abrigo', 'Sandalia', 'Camisa', 'Zapatilla deportiva', 'Bolso', 'Botines']"
   ]
  },
  {
   "cell_type": "code",
   "execution_count": 10,
   "metadata": {},
   "outputs": [
    {
     "data": {
      "image/png": "[encoded data removed]",
      "text/plain": [
       "<Figure size 640x480 with 2 Axes>"
      ]
     },
     "metadata": {},
     "output_type": "display_data"
    },
    {
     "data": {
      "image/png": "[encoded data removed]",
      "text/plain": [
       "<Figure size 640x480 with 2 Axes>"
      ]
     },
     "metadata": {},
     "output_type": "display_data"
    }
   ],
   "source": [
    "# 3. Visualice sus datos.\n",
    "\n",
    "plt.figure()\n",
    "plt.imshow(train_images[9])\n",
    "plt.colorbar()\n",
    "plt.grid(False)\n",
    "plt.show()\n",
    "\n",
    "plt.figure()\n",
    "plt.imshow(train_images[5])\n",
    "plt.colorbar()\n",
    "plt.grid(False)\n",
    "plt.show()"
   ]
  },
  {
   "cell_type": "code",
   "execution_count": 11,
   "metadata": {},
   "outputs": [],
   "source": [
    "# 4. Convierta cada imagen de 28 x 28 del tren y del equipo de prueba en una matriz de tamaño 28 x 28 x 1 que se alimenta a la red. Además, debe\n",
    "# convertir su tipo a float32, y también debe volver a escalar los valores de píxel en el rango 0 - 1 inclusive.\n",
    "\n",
    "train_X = train_X.reshape(-1, 28,28, 1).astype('float32')/255.0\n",
    "test_X = test_X.reshape(-1, 28,28, 1).astype('float32')/255.0"
   ]
  },
  {
   "cell_type": "code",
   "execution_count": 16,
   "metadata": {},
   "outputs": [],
   "source": [
    "# 5. Convierta las etiquetas de entrenamiento y prueba en vectores de codificación one-hot.\n",
    "\n",
    "num_categories = 10  # Número de categorías/clases en el conjunto de datos\n",
    "\n",
    "# Convertir las etiquetas de entrenamiento a codificación one-hot\n",
    "train_y = np_utils.to_categorical(train_Y, num_categories)\n",
    "\n",
    "# Convertir las etiquetas de prueba a codificación one-hot\n",
    "test_y = np_utils.to_categorical(test_Y, num_categories)"
   ]
  },
  {
   "cell_type": "code",
   "execution_count": 25,
   "metadata": {},
   "outputs": [
    {
     "name": "stdout",
     "output_type": "stream",
     "text": [
      "Dimensiones de los datos de entrenamiento: (48000, 28, 28) (48000, 10)\n",
      "Dimensiones de los datos de prueba: (12000, 28, 28) (12000, 10)\n"
     ]
    }
   ],
   "source": [
    "# 6. Separar datos de entrenamiento y testeo\n",
    "\n",
    "data_X = train_X\n",
    "data_y = train_y \n",
    "\n",
    "# Dividir los datos en conjuntos de entrenamiento y prueba\n",
    "train_X, test_X, train_y, test_y = train_test_split(data_X, data_y, test_size=0.2, random_state=42)\n",
    "\n",
    "# Imprimir las dimensiones de los conjuntos de entrenamiento y prueba\n",
    "print(\"Dimensiones de los datos de entrenamiento:\", train_X.shape, train_y.shape)\n",
    "print(\"Dimensiones de los datos de prueba:\", test_X.shape, test_y.shape)\n"
   ]
  },
  {
   "cell_type": "code",
   "execution_count": 30,
   "metadata": {},
   "outputs": [
    {
     "name": "stdout",
     "output_type": "stream",
     "text": [
      "Model: \"sequential_1\"\n",
      "_________________________________________________________________\n",
      " Layer (type)                Output Shape              Param #   \n",
      "=================================================================\n",
      " conv2d_1 (Conv2D)           (None, 26, 26, 32)        320       \n",
      "                                                                 \n",
      " max_pooling2d_1 (MaxPooling  (None, 13, 13, 32)       0         \n",
      " 2D)                                                             \n",
      "                                                                 \n",
      "=================================================================\n",
      "Total params: 320\n",
      "Trainable params: 320\n",
      "Non-trainable params: 0\n",
      "_________________________________________________________________\n"
     ]
    }
   ],
   "source": [
    "#7. Para modelar sus datos, utilice los siguientes paquetes:\n",
    "# import keras\n",
    "# from keras.models import Sequential,Input,Model\n",
    "# from keras.layers import Dense, Dropout, Flatten\n",
    "# from keras.layers import Conv2D, MaxPooling2D\n",
    "# from keras.layers.normalization import BatchNormalization\n",
    "# from keras.layers.advanced_activations import LeakyReLU\n",
    "\n",
    "batch_size = 64\n",
    "epochs = 20\n",
    "num_classes = 10\n"
   ]
  },
  {
   "cell_type": "code",
   "execution_count": 29,
   "metadata": {},
   "outputs": [
    {
     "name": "stdout",
     "output_type": "stream",
     "text": [
      "Model: \"sequential_1\"\n",
      "_________________________________________________________________\n",
      " Layer (type)                Output Shape              Param #   \n",
      "=================================================================\n",
      " conv2d_1 (Conv2D)           (None, 26, 26, 32)        320       \n",
      "                                                                 \n",
      " max_pooling2d_1 (MaxPooling  (None, 13, 13, 32)       0         \n",
      " 2D)                                                             \n",
      "                                                                 \n",
      "=================================================================\n",
      "Total params: 320\n",
      "Trainable params: 320\n",
      "Non-trainable params: 0\n",
      "_________________________________________________________________\n"
     ]
    }
   ],
   "source": [
    "#8. Agregue la capa de agrupación máxima con MaxPooling2D() y así sucesivamente.\n",
    "\n",
    "model = Sequential()\n",
    "model.add(Conv2D(32, (3, 3), activation='relu', input_shape=(28, 28, 1)))  # Capa convolucional\n",
    "model.add(MaxPooling2D(pool_size=(2, 2)))  # Capa de agrupación máxima\n",
    "\n",
    "model.summary()"
   ]
  },
  {
   "cell_type": "code",
   "execution_count": 34,
   "metadata": {},
   "outputs": [
    {
     "name": "stdout",
     "output_type": "stream",
     "text": [
      "Model: \"sequential_4\"\n",
      "_________________________________________________________________\n",
      " Layer (type)                Output Shape              Param #   \n",
      "=================================================================\n",
      " dense (Dense)               (None, 28, 64)            1856      \n",
      "                                                                 \n",
      " dense_1 (Dense)             (None, 28, 10)            650       \n",
      "                                                                 \n",
      "=================================================================\n",
      "Total params: 2,506\n",
      "Trainable params: 2,506\n",
      "Non-trainable params: 0\n",
      "_________________________________________________________________\n"
     ]
    }
   ],
   "source": [
    "#9. Compilación y visualización del modelo\n",
    "\n",
    "# Crear un modelo secuencial\n",
    "model = Sequential()\n",
    "\n",
    "# Agregar capas al modelo\n",
    "model.add(Dense(64, activation='relu', input_shape=train_X.shape[1:]))\n",
    "model.add(Dense(num_classes, activation='softmax'))\n",
    "\n",
    "# Construir el modelo\n",
    "model.build(input_shape=(None, *train_X.shape[1:]))\n",
    "model.compile(optimizer='adam',\n",
    "              loss='categorical_crossentropy',\n",
    "              metrics=['accuracy'])\n",
    "\n",
    "# Visualizar el modelo\n",
    "model.summary()"
   ]
  },
  {
   "cell_type": "code",
   "execution_count": null,
   "metadata": {},
   "outputs": [],
   "source": [
    "# - Qué es Keras\n",
    "# Es una biblioteca de Python para construir y entrenar redes neuronales de forma sencilla y modular. \n",
    "# Proporciona una interfaz intuitiva, predefinición de capas y modelos, y es compatible con diferentes \n",
    "# motores de cálculo. Es ampliamente utilizada en el desarrollo de modelos de aprendizaje profundo.\n",
    "\n",
    "# - Redes neuronales convolucionales (CNN)\n",
    "# Son un tipo de modelo de aprendizaje profundo especialmente diseñado para procesar datos con estructura \n",
    "# de cuadrícula, como imágenes. Utilizan capas de convolución para extraer características relevantes y \n",
    "# capas de pooling para reducir la dimensionalidad. Su capacidad para aprender patrones visuales las hace \n",
    "# efectivas en tareas de visión por computadora y reconocimiento de imágenes.\n",
    "\n",
    "# - Capas\n",
    "# En una red neuronal son componentes que procesan y transforman los datos. Pueden incluir capas de entrada, \n",
    "# capas ocultas y capas de salida. Cada capa realiza operaciones específicas, como multiplicaciones de pesos, \n",
    "# funciones de activación y cálculos de pérdida. Estas capas se organizan en una secuencia para formar la \n",
    "# arquitectura de la red y permiten el aprendizaje y la inferencia de datos."
   ]
  }
 ],
 "metadata": {
  "kernelspec": {
   "display_name": "venv39",
   "language": "python",
   "name": "python3"
  },
  "language_info": {
   "codemirror_mode": {
    "name": "ipython",
    "version": 3
   },
   "file_extension": ".py",
   "mimetype": "text/x-python",
   "name": "python",
   "nbconvert_exporter": "python",
   "pygments_lexer": "ipython3",
   "version": "3.9.16"
  },
  "orig_nbformat": 4
 },
 "nbformat": 4,
 "nbformat_minor": 2
}
