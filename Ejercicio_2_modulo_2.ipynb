{
 "cells": [
  {
   "cell_type": "code",
   "execution_count": 3,
   "metadata": {},
   "outputs": [
    {
     "name": "stdout",
     "output_type": "stream",
     "text": [
      "\n",
      "Ventas antes del descuento:\n",
      "2021     15485452.0\n",
      "2022    125645752.0\n",
      "2023     12554525.0\n",
      "dtype: float64\n",
      "\n",
      "Ventas después del descuento:\n",
      "2021     13936906.8\n",
      "2022    113081176.8\n",
      "2023     11299072.5\n",
      "dtype: float64\n"
     ]
    }
   ],
   "source": [
    "#1. Escribir un programa que pregunte al usuario por las ventas de un rango de años y muestre por pantalla una serie con los datos de las ventas\n",
    "#indexada por los años, antes y después de aplicarles un descuento del 10%.\n",
    "\n",
    "import pandas as pd\n",
    "\n",
    "# Ingreso datos ventas\n",
    "inicio = int(input(\"Ingrese el año inicial: \"))\n",
    "fin = int(input(\"Ingrese el año final: \"))\n",
    "ventas = {}\n",
    "\n",
    "#obtener ventas\n",
    "for i in range(inicio, fin + 1):\n",
    "    ventas[i] = float(input(f\"Ingrese las ventas para el año {i}: \"))\n",
    "\n",
    "# datos venta\n",
    "serie_ventas = pd.Series(ventas)\n",
    "\n",
    "# Descuento 10%\n",
    "descuento = serie_ventas * 0.1\n",
    "serie_ventas_descuento = serie_ventas - descuento\n",
    "\n",
    "# mostrar datos por año sin descuento\n",
    "print(\"\\nVentas antes del descuento:\")\n",
    "print(serie_ventas)\n",
    "#mostrar datos por año con descuento\n",
    "print(\"\\nVentas después del descuento:\")\n",
    "print(serie_ventas_descuento)\n"
   ]
  },
  {
   "cell_type": "code",
   "execution_count": 5,
   "metadata": {},
   "outputs": [
    {
     "name": "stdout",
     "output_type": "stream",
     "text": [
      "Mínimo               6.800000\n",
      "Máximo               9.100000\n",
      "Media                7.900000\n",
      "Desviación Típica    0.851469\n",
      "dtype: float64\n"
     ]
    }
   ],
   "source": [
    "#2. Escribir una función que reciba un diccionario con las notas de los alumnos en curso en un examen y devuelva una serie con la nota\n",
    "#mínima, la máxima, media y la desviación típica.\n",
    "\n",
    "import pandas as pd\n",
    "import numpy as np\n",
    "\n",
    "def estadisticas_notas(notas):\n",
    "    s_notas = pd.Series(notas)\n",
    "    minimo = s_notas.min()\n",
    "    maximo = s_notas.max()\n",
    "    media = s_notas.mean()\n",
    "    desv_tipica = np.sqrt(((s_notas - media) ** 2).sum() / s_notas.size)\n",
    "    return pd.Series([minimo, maximo, media, desv_tipica], index=[\"Mínimo\", \"Máximo\", \"Media\", \"Desviación Típica\"])\n",
    "\n",
    "notas = {\"Alumno1\": 7.5, \"Alumno2\": 8.2, \"Alumno3\": 6.8, \"Alumno4\": 9.1}\n",
    "estadisticas = estadisticas_notas(notas)\n",
    "print(estadisticas)\n"
   ]
  },
  {
   "cell_type": "code",
   "execution_count": 7,
   "metadata": {},
   "outputs": [
    {
     "name": "stdout",
     "output_type": "stream",
     "text": [
      "Pedro    8\n",
      "Lucía    7\n",
      "Juan     6\n",
      "Sofía    5\n",
      "dtype: int64\n"
     ]
    }
   ],
   "source": [
    "# Diccionario notas alumnos\n",
    "notas = {'Juan': 6, 'María': 4, 'Pedro': 8, 'Lucía': 7, 'Sofía': 5}\n",
    "\n",
    "# Obtener la serie \n",
    "s_aprobados = notas_aprobados(notas)\n",
    "\n",
    "# alumnos aprobados\n",
    "print(s_aprobados)\n"
   ]
  },
  {
   "cell_type": "code",
   "execution_count": 8,
   "metadata": {},
   "outputs": [
    {
     "name": "stdout",
     "output_type": "stream",
     "text": [
      "       mes  ventas  gastos\n",
      "0    enero   30500   22000\n",
      "1  febrero   35600   23400\n",
      "2    marzo   28300   18100\n",
      "3    abril   33900   20700\n"
     ]
    }
   ],
   "source": [
    "#Escribir programa que genere y muestre por pantalla un DataFrame con los datos de la tabla siguiente:\n",
    "\n",
    "import pandas as pd\n",
    "\n",
    "datos = {\n",
    "    'mes': ['enero', 'febrero', 'marzo', 'abril'],\n",
    "    'ventas': [30500, 35600, 28300, 33900],\n",
    "    'gastos': [22000, 23400, 18100, 20700]\n",
    "}\n",
    "\n",
    "df = pd.DataFrame(datos)\n",
    "\n",
    "print(df)"
   ]
  }
 ],
 "metadata": {
  "kernelspec": {
   "display_name": "Python 3",
   "language": "python",
   "name": "python3"
  },
  "language_info": {
   "codemirror_mode": {
    "name": "ipython",
    "version": 3
   },
   "file_extension": ".py",
   "mimetype": "text/x-python",
   "name": "python",
   "nbconvert_exporter": "python",
   "pygments_lexer": "ipython3",
   "version": "3.10.11"
  },
  "orig_nbformat": 4
 },
 "nbformat": 4,
 "nbformat_minor": 2
}
