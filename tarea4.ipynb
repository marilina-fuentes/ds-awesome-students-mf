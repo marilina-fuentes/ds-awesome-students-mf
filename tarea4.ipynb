{
 "cells": [
  {
   "cell_type": "code",
   "execution_count": 52,
   "metadata": {},
   "outputs": [
    {
     "name": "stdout",
     "output_type": "stream",
     "text": [
      "Nombre: Juan\n",
      "Edad: 28\n",
      "Rut: 12345678-9\n",
      "Es mayor de edad\n"
     ]
    }
   ],
   "source": [
    "#1. Cree una clase llamada Individuo . Sus atributos son: PrimerNombre, Edad y RUT. Construye los siguientes métodos para la clase:\n",
    "#● Un constructor, donde los datos pueden estar vacíos.\n",
    "#● Los setters y getters para cada uno de los atributos. Hay que validar las entradas de datos.\n",
    "#● revelar ( ) : Revela la información de la persona.\n",
    "#● Adulto ( ) : Entrega un valor lógico sí es o no adulto (mayor de 18 años).\n",
    "\n",
    "\n",
    "#Contructor\n",
    "class Individuo:\n",
    "    def __init__(self, primer_nombre='', edad=0, rut=''):\n",
    "        self.primer_nombre = primer_nombre\n",
    "        self.edad = edad\n",
    "        self.rut = rut\n",
    "\n",
    "#Setters y getters\n",
    "    def set_primer_nombre(self, primer_nombre):\n",
    "        self.primer_nombre = primer_nombre\n",
    "\n",
    "    def set_edad(self, edad):\n",
    "        self.edad = edad\n",
    "\n",
    "    def set_rut(self, rut):\n",
    "        self.rut = rut\n",
    "\n",
    "    def get_primer_nombre(self):\n",
    "        return self.primer_nombre\n",
    "\n",
    "    def get_edad(self):\n",
    "        return self.edad\n",
    "\n",
    "    def get_rut(self):\n",
    "        return self.rut\n",
    "\n",
    "#Revelar\n",
    "    def revelar(self):\n",
    "        print(\"Nombre:\", self.get_primer_nombre())\n",
    "        print(\"Edad:\", self.get_edad())\n",
    "        print(\"Rut:\", self.get_rut())\n",
    "\n",
    "#adulto\n",
    "    def adulto(self):\n",
    "        if self.get_edad() >= 18:\n",
    "             print(\"Es mayor de edad\")\n",
    "        else:\n",
    "             print(\"Es menor de edad\")\n",
    "\n",
    "#Prueba\n",
    "individuo1 = Individuo(\"Juan\", 28, \"12345678-9\")\n",
    "individuo1.revelar()\n",
    "es_adulto = individuo1.adulto()\n"
   ]
  },
  {
   "cell_type": "code",
   "execution_count": 2,
   "metadata": {},
   "outputs": [
    {
     "name": "stdout",
     "output_type": "stream",
     "text": [
      "Persona: Maria\n",
      "Saldo: 1000000\n",
      "Persona: Maria\n",
      "Saldo: 2500000\n",
      "Persona: Maria\n",
      "Saldo: 2150000\n"
     ]
    }
   ],
   "source": [
    "#2. Cree una clase que nombrará Cl i e nt e con los siguientes atributos: persona (puede ser el titular de una cuenta) y monto (puede tener\n",
    "#decimales). El atributo persona será obligatorio y el monto es opcional. Debe considerar lo siguiente para la clase pedida:\n",
    "#● Un constructor, donde los datos pueden estar vacíos.\n",
    "#● Los setters y getters para cada uno de los atributos. El atributo no se puede modificar directamente, sólo ingresando o retirando dinero.\n",
    "#● revelar() : Revela la información del Cliente.\n",
    "#● ingresar(monto) : Registra el monto del cliente para una cuenta, si el número que ingresa es negativo, no hará nada.\n",
    "#● retirar(monto) : Registra un posible retiro de la cuenta del cliente. El cliente puede tener un saldo negativo.\n",
    "\n",
    "\n",
    "#Contructor\n",
    "class Cliente:\n",
    "    def __init__(self, persona='', monto=0):\n",
    "        self.persona = persona\n",
    "        self.__saldo = monto\n",
    "\n",
    "\n",
    " #Setters y getters   \n",
    "    def set_persona(self, persona):\n",
    "        self.persona = persona\n",
    "    \n",
    "    def set_monto(self, monto):\n",
    "        if monto >= 0:\n",
    "            self.__saldo = monto\n",
    "    \n",
    "    def get_persona(self):\n",
    "        return self.persona\n",
    "    \n",
    "    def get_monto(self):\n",
    "        return self.__saldo\n",
    "    \n",
    "#Revelar\n",
    "    \n",
    "    def revelar(self):\n",
    "        print(f\"Persona: {self.persona}\")\n",
    "        print(f\"Saldo: {self.__saldo}\")\n",
    "\n",
    "\n",
    "#Atributos    \n",
    "    def ingresar(self, monto):\n",
    "        if monto >= 0:\n",
    "            self.__saldo += monto\n",
    "    \n",
    "    def retirar(self, monto):\n",
    "        self.__saldo -= monto\n",
    "\n",
    "#Prueba\n",
    "cliente1 = Cliente(\"Maria\", 1000000)\n",
    "cliente1.revelar()\n",
    "cliente1.ingresar(1500000)\n",
    "cliente1.revelar()\n",
    "cliente1.retirar(350000)\n",
    "cliente1.revelar()\n"
   ]
  }
 ],
 "metadata": {
  "kernelspec": {
   "display_name": "base",
   "language": "python",
   "name": "python3"
  },
  "language_info": {
   "codemirror_mode": {
    "name": "ipython",
    "version": 3
   },
   "file_extension": ".py",
   "mimetype": "text/x-python",
   "name": "python",
   "nbconvert_exporter": "python",
   "pygments_lexer": "ipython3",
   "version": "3.10.9"
  },
  "orig_nbformat": 4
 },
 "nbformat": 4,
 "nbformat_minor": 2
}
