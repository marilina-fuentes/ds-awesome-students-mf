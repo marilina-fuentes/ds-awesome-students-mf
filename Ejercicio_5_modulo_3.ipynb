{
 "cells": [
  {
   "cell_type": "code",
   "execution_count": 53,
   "metadata": {},
   "outputs": [],
   "source": [
    "#1. Realice un resumen estadístico de sus datos.\n",
    "\n",
    "import pandas as pd\n",
    "import numpy as np\n",
    "import matplotlib.pyplot as plt\n",
    "\n",
    "#Obtengo datos de la URL\n",
    "datos_url = 'http://bit.ly/2cLzoxH'\n",
    "gapminder = pd.read_csv(datos_url)\n",
    "\n"
   ]
  },
  {
   "cell_type": "code",
   "execution_count": 32,
   "metadata": {},
   "outputs": [
    {
     "name": "stdout",
     "output_type": "stream",
     "text": [
      "             year           pop      lifeExp      gdpPercap\n",
      "count  1704.00000  1.704000e+03  1704.000000    1704.000000\n",
      "mean   1979.50000  2.960121e+07    59.474439    7215.327081\n",
      "std      17.26533  1.061579e+08    12.917107    9857.454543\n",
      "min    1952.00000  6.001100e+04    23.599000     241.165876\n",
      "25%    1965.75000  2.793664e+06    48.198000    1202.060309\n",
      "50%    1979.50000  7.023596e+06    60.712500    3531.846988\n",
      "75%    1993.25000  1.958522e+07    70.845500    9325.462346\n",
      "max    2007.00000  1.318683e+09    82.603000  113523.132900\n"
     ]
    }
   ],
   "source": [
    "#resumen estadistico\n",
    "print(gapminder.describe())"
   ]
  },
  {
   "cell_type": "code",
   "execution_count": 34,
   "metadata": {},
   "outputs": [
    {
     "name": "stdout",
     "output_type": "stream",
     "text": [
      "country      1704\n",
      "year            0\n",
      "pop             0\n",
      "continent    1704\n",
      "lifeExp         0\n",
      "gdpPercap       0\n",
      "dtype: int64\n"
     ]
    }
   ],
   "source": [
    "#2. Agrupe por la variable “año”. Comente respecto al resultado al usar groupby.\n",
    "\n",
    "#Verificar si hay valores no numéricos en el DataFrame\n",
    "non_numeric_values = gapminder.apply(lambda x: pd.to_numeric(x, errors='coerce').isna().sum())\n",
    "print(non_numeric_values)"
   ]
  },
  {
   "cell_type": "code",
   "execution_count": 35,
   "metadata": {},
   "outputs": [
    {
     "name": "stdout",
     "output_type": "stream",
     "text": [
      "        pop                                                                 \n",
      "      count          mean           std       min         25%         50%   \n",
      "year                                                                        \n",
      "1952  142.0  1.695040e+07  5.810086e+07   60011.0  1452026.25   3943953.0  \\\n",
      "1957  142.0  1.876341e+07  6.550429e+07   61325.0  1568811.25   4282942.0   \n",
      "1962  142.0  2.042101e+07  6.978865e+07   65345.0  1784362.00   4686039.5   \n",
      "1967  142.0  2.265830e+07  7.837548e+07   70787.0  2034768.50   5170175.5   \n",
      "1972  142.0  2.518998e+07  8.864682e+07   76595.0  2351191.50   5877996.5   \n",
      "1977  142.0  2.767638e+07  9.748109e+07   86796.0  2759717.25   6404036.5   \n",
      "1982  142.0  3.020730e+07  1.050986e+08   98593.0  3006286.25   7007320.0   \n",
      "1987  142.0  3.303857e+07  1.147562e+08  110812.0  3194989.50   7774861.5   \n",
      "1992  142.0  3.599092e+07  1.245026e+08  125911.0  3605992.00   8688686.5   \n",
      "1997  142.0  3.883947e+07  1.334174e+08  145608.0  3770149.75   9735063.5   \n",
      "2002  142.0  4.145759e+07  1.408483e+08  170372.0  4173506.00  10372918.5   \n",
      "2007  142.0  4.402122e+07  1.476214e+08  199579.0  4508033.50  10517531.0   \n",
      "\n",
      "                                lifeExp             ...                     \n",
      "              75%           max   count       mean  ...       75%     max   \n",
      "year                                                ...                     \n",
      "1952   9168197.75  5.562635e+08   142.0  49.057620  ...  59.76500  72.670  \\\n",
      "1957   9817598.00  6.374080e+08   142.0  51.507401  ...  63.03675  73.470   \n",
      "1962  10980084.50  6.657700e+08   142.0  53.609249  ...  65.23450  73.680   \n",
      "1967  12614584.75  7.545500e+08   142.0  55.678290  ...  67.41950  74.160   \n",
      "1972  14679199.50  8.620300e+08   142.0  57.647386  ...  69.24750  74.720   \n",
      "1977  16670227.00  9.434550e+08   142.0  59.570157  ...  70.38250  76.110   \n",
      "1982  18407324.75  1.000281e+09   142.0  61.533197  ...  70.92125  77.110   \n",
      "1987  20947542.50  1.084035e+09   142.0  63.212613  ...  71.87725  78.670   \n",
      "1992  22705382.50  1.164970e+09   142.0  64.160338  ...  72.58250  79.360   \n",
      "1997  24311369.75  1.230075e+09   142.0  65.014676  ...  74.16975  80.690   \n",
      "2002  26545556.25  1.280400e+09   142.0  65.694923  ...  75.45925  82.000   \n",
      "2007  31210041.75  1.318683e+09   142.0  67.007423  ...  76.41325  82.603   \n",
      "\n",
      "     gdpPercap                                                        \n",
      "         count          mean           std         min          25%   \n",
      "year                                                                  \n",
      "1952     142.0   3725.276046   9321.064786  298.846212   864.752389  \\\n",
      "1957     142.0   4299.408345   9869.662202  335.997115   930.540819   \n",
      "1962     142.0   4725.812342   8667.362525  355.203227  1059.149171   \n",
      "1967     142.0   5483.653047   8095.315431  349.000000  1151.245103   \n",
      "1972     142.0   6770.082815  10614.383403  357.000000  1257.193853   \n",
      "1977     142.0   7313.166421   8362.489150  371.000000  1357.257252   \n",
      "1982     142.0   7518.901673   7733.845006  424.000000  1363.338985   \n",
      "1987     142.0   7900.920218   8288.281304  385.000000  1327.469823   \n",
      "1992     142.0   8158.608521   9031.846080  347.000000  1270.660958   \n",
      "1997     142.0   9090.175363  10171.493263  312.188423  1366.837958   \n",
      "2002     142.0   9917.848365  11154.114865  241.165876  1409.567264   \n",
      "2007     142.0  11680.071820  12859.937337  277.551859  1624.842248   \n",
      "\n",
      "                                               \n",
      "              50%           75%           max  \n",
      "year                                           \n",
      "1952  1968.528344   3913.492777  108382.35290  \n",
      "1957  2173.220291   4876.356362  113523.13290  \n",
      "1962  2335.439533   5709.381428   95458.11176  \n",
      "1967  2678.334740   7075.932943   80894.88326  \n",
      "1972  3339.129407   9508.839304  109347.86700  \n",
      "1977  3798.609244  11204.102423   59265.47714  \n",
      "1982  4216.228428  12347.953722   33693.17525  \n",
      "1987  4280.300366  11994.052795   31540.97480  \n",
      "1992  4386.085502  10684.351870   34932.91959  \n",
      "1997  4781.825478  12022.867188   41283.16433  \n",
      "2002  5319.804524  13359.512258   44683.97525  \n",
      "2007  6124.371108  18008.835640   49357.19017  \n",
      "\n",
      "[12 rows x 24 columns]\n"
     ]
    }
   ],
   "source": [
    "#Operacion de agregacion\n",
    "gapminder.groupby('year').describe()\n",
    "#Realizo agregacion\n",
    "grouped = gapminder.groupby('year').describe() \n",
    "#Imprimo resultado\n",
    "print(grouped)\n"
   ]
  },
  {
   "cell_type": "code",
   "execution_count": 41,
   "metadata": {},
   "outputs": [
    {
     "name": "stdout",
     "output_type": "stream",
     "text": [
      "               pop                           continent    lifeExp            \n",
      "               sum          mean      median     first       mean   median   \n",
      "year                                                                         \n",
      "1952  2.406957e+09  1.695040e+07   3943953.0      Asia  49.057620  45.1355  \\\n",
      "1957  2.664405e+09  1.876341e+07   4282942.0      Asia  51.507401  48.3605   \n",
      "1962  2.899783e+09  2.042101e+07   4686039.5      Asia  53.609249  50.8810   \n",
      "1967  3.217478e+09  2.265830e+07   5170175.5      Asia  55.678290  53.8250   \n",
      "1972  3.576977e+09  2.518998e+07   5877996.5      Asia  57.647386  56.5300   \n",
      "1977  3.930046e+09  2.767638e+07   6404036.5      Asia  59.570157  59.6720   \n",
      "1982  4.289437e+09  3.020730e+07   7007320.0      Asia  61.533197  62.4415   \n",
      "1987  4.691477e+09  3.303857e+07   7774861.5      Asia  63.212613  65.8340   \n",
      "1992  5.110710e+09  3.599092e+07   8688686.5      Asia  64.160338  67.7030   \n",
      "1997  5.515204e+09  3.883947e+07   9735063.5      Asia  65.014676  69.3940   \n",
      "2002  5.886978e+09  4.145759e+07  10372918.5      Asia  65.694923  70.8255   \n",
      "2007  6.251013e+09  4.402122e+07  10517531.0      Asia  67.007423  71.9355   \n",
      "\n",
      "         gdpPercap               \n",
      "              mean       median  \n",
      "year                             \n",
      "1952   3725.276046  1968.528344  \n",
      "1957   4299.408345  2173.220291  \n",
      "1962   4725.812342  2335.439533  \n",
      "1967   5483.653047  2678.334740  \n",
      "1972   6770.082815  3339.129407  \n",
      "1977   7313.166421  3798.609244  \n",
      "1982   7518.901673  4216.228428  \n",
      "1987   7900.920218  4280.300366  \n",
      "1992   8158.608521  4386.085502  \n",
      "1997   9090.175363  4781.825478  \n",
      "2002   9917.848365  5319.804524  \n",
      "2007  11680.071820  6124.371108  \n"
     ]
    }
   ],
   "source": [
    "#3. Ahora obtenga la suma (la cantidad), la media y la mediana para cada grupo, es decir, por año.\n",
    "\n",
    "# Agrupo por año para realizar agregacion\n",
    "grouped_gapminder = gapminder.groupby('year').agg({'pop': ['sum', 'mean', 'median'],'continent': 'first', 'lifeExp': ['mean', 'median'], 'gdpPercap': ['mean', 'median']})\n",
    "\n",
    "# Imprimo resultado\n",
    "print(grouped_gapminder)\n"
   ]
  },
  {
   "cell_type": "code",
   "execution_count": 46,
   "metadata": {},
   "outputs": [
    {
     "name": "stdout",
     "output_type": "stream",
     "text": [
      "         year           pop     lifeExp     gdpPercap\n",
      "count   142.0  1.420000e+02  142.000000    142.000000\n",
      "mean   1997.0  3.883947e+07   65.014676   9090.175363\n",
      "std       0.0  1.334174e+08   11.559439  10171.493263\n",
      "min    1997.0  1.456080e+05   36.087000    312.188423\n",
      "25%    1997.0  3.770150e+06   55.633750   1366.837958\n",
      "50%    1997.0  9.735064e+06   69.394000   4781.825478\n",
      "75%    1997.0  2.431137e+07   74.169750  12022.867188\n",
      "max    1997.0  1.230075e+09   80.690000  41283.164330\n"
     ]
    }
   ],
   "source": [
    "#4. ¿Sabías que en 1967 en Chile se inaugura el Aeropuerto Internacional Arturo Merino Benítez? Usando estos datos se puede especificar \n",
    "#un año y obtener un marco de datos más pequeño para el año usando la función get_group(). Por ejemplo, podemos obtener el marco de datos\n",
    "#agrupados para el año 1967. Comenta tus resultados. Escoge otro año explicando el porqué de la elección y qué resultados obtuviste.\n",
    "\n",
    "\n",
    "#Respuesta\n",
    "#Escoge otro año explicando el porqué de la elección y qué resultados obtuviste.\n",
    "#elijo un año que se encontraba dentro de los años en el dataframe y los resultados los muestro con el siguiente script\n",
    "\n",
    "gapminder_1997 = gapminder.groupby('year').get_group(1997)\n",
    "print(gapminder_1997.describe())\n"
   ]
  },
  {
   "cell_type": "code",
   "execution_count": null,
   "metadata": {},
   "outputs": [],
   "source": [
    "#Ahora con los datos anteriores construya tablas pivote según las siguientes instrucciones:"
   ]
  },
  {
   "cell_type": "code",
   "execution_count": 49,
   "metadata": {},
   "outputs": [
    {
     "name": "stdout",
     "output_type": "stream",
     "text": [
      "continent       Africa     Americas          Asia       Europe     Oceania\n",
      "year                                                                      \n",
      "1952       237640501.0  345152446.0  1.395357e+09  418120846.0  10686006.0\n",
      "1957       264837738.0  386953916.0  1.562781e+09  437890351.0  11941976.0\n",
      "1962       296516865.0  433270254.0  1.696357e+09  460355155.0  13283518.0\n",
      "1967       335289489.0  480746623.0  1.905663e+09  481178958.0  14600414.0\n",
      "1972       379879541.0  529384210.0  2.150972e+09  500635059.0  16106100.0\n",
      "1977       433061021.0  578067699.0  2.384514e+09  517164531.0  17239000.0\n",
      "1982       499348587.0  630290920.0  2.610136e+09  531266901.0  18394850.0\n",
      "1987       574834110.0  682753971.0  2.871221e+09  543094160.0  19574415.0\n",
      "1992       659081517.0  739274104.0  3.133292e+09  558142797.0  20919651.0\n",
      "1997       743832984.0  796900410.0  3.383286e+09  568944148.0  22241430.0\n",
      "2002       833723916.0  849772762.0  3.601802e+09  578223869.0  23454829.0\n",
      "2007       929539692.0  898871184.0  3.811954e+09  586098529.0  24549947.0\n"
     ]
    }
   ],
   "source": [
    "#1. Construya una tabla fijando “continent”, con las funciones vistas en clase\n",
    "pivot_continent = pd.pivot_table(gapminder, values='pop', index='year', columns='continent', aggfunc=np.sum)\n",
    "print(pivot_continent)\n"
   ]
  },
  {
   "cell_type": "code",
   "execution_count": 56,
   "metadata": {},
   "outputs": [
    {
     "name": "stdout",
     "output_type": "stream",
     "text": [
      "year               1952          1957          1962          1967   \n",
      "continent                                                           \n",
      "Africa     2.376405e+08  2.648377e+08  2.965169e+08  3.352895e+08  \\\n",
      "Americas   3.451524e+08  3.869539e+08  4.332703e+08  4.807466e+08   \n",
      "Asia       1.395357e+09  1.562781e+09  1.696357e+09  1.905663e+09   \n",
      "Europe     4.181208e+08  4.378904e+08  4.603552e+08  4.811790e+08   \n",
      "Oceania    1.068601e+07  1.194198e+07  1.328352e+07  1.460041e+07   \n",
      "\n",
      "year               1972          1977          1982          1987   \n",
      "continent                                                           \n",
      "Africa     3.798795e+08  4.330610e+08  4.993486e+08  5.748341e+08  \\\n",
      "Americas   5.293842e+08  5.780677e+08  6.302909e+08  6.827540e+08   \n",
      "Asia       2.150972e+09  2.384514e+09  2.610136e+09  2.871221e+09   \n",
      "Europe     5.006351e+08  5.171645e+08  5.312669e+08  5.430942e+08   \n",
      "Oceania    1.610610e+07  1.723900e+07  1.839485e+07  1.957442e+07   \n",
      "\n",
      "year               1992          1997          2002          2007  \n",
      "continent                                                          \n",
      "Africa     6.590815e+08  7.438330e+08  8.337239e+08  9.295397e+08  \n",
      "Americas   7.392741e+08  7.969004e+08  8.497728e+08  8.988712e+08  \n",
      "Asia       3.133292e+09  3.383286e+09  3.601802e+09  3.811954e+09  \n",
      "Europe     5.581428e+08  5.689441e+08  5.782239e+08  5.860985e+08  \n",
      "Oceania    2.091965e+07  2.224143e+07  2.345483e+07  2.454995e+07  \n"
     ]
    }
   ],
   "source": [
    "#2. Realice una tabla de doble entrada, fijando “continent” y “year”. Comente sus resultados.\n",
    "pivot_continent_year = pd.pivot_table(gapminder, values='pop', index='continent', columns='year', aggfunc=np.sum)\n",
    "print(pivot_continent_year)\n"
   ]
  },
  {
   "cell_type": "code",
   "execution_count": 51,
   "metadata": {},
   "outputs": [
    {
     "name": "stdout",
     "output_type": "stream",
     "text": [
      "year\n",
      "1952    1.695040e+07\n",
      "1957    1.876341e+07\n",
      "1962    2.042101e+07\n",
      "1967    2.265830e+07\n",
      "1972    2.518998e+07\n",
      "1977    2.767638e+07\n",
      "1982    3.020730e+07\n",
      "1987    3.303857e+07\n",
      "1992    3.599092e+07\n",
      "1997    3.883947e+07\n",
      "2002    4.145759e+07\n",
      "2007    4.402122e+07\n",
      "Name: pop, dtype: float64\n"
     ]
    }
   ],
   "source": [
    "#3. Con las variables anteriores, obtenga el promedio de la variable “pop”.\n",
    "pop_mean = gapminder.groupby('year')['pop'].mean()\n",
    "print(pop_mean)\n"
   ]
  },
  {
   "cell_type": "code",
   "execution_count": 57,
   "metadata": {},
   "outputs": [
    {
     "data": {
      "image/png": "[encoded data removed]",
      "text/plain": [
       "<Figure size 640x480 with 1 Axes>"
      ]
     },
     "metadata": {},
     "output_type": "display_data"
    }
   ],
   "source": [
    "#4. Obtenga un gráfico de barras del punto 3, comente sus resultados.\n",
    "pop_mean.plot(kind='bar')\n",
    "plt.title('Promedio de variables')\n",
    "plt.xlabel('Año')\n",
    "plt.ylabel('Poblacion')\n",
    "plt.show()\n"
   ]
  }
 ],
 "metadata": {
  "kernelspec": {
   "display_name": "Python 3",
   "language": "python",
   "name": "python3"
  },
  "language_info": {
   "codemirror_mode": {
    "name": "ipython",
    "version": 3
   },
   "file_extension": ".py",
   "mimetype": "text/x-python",
   "name": "python",
   "nbconvert_exporter": "python",
   "pygments_lexer": "ipython3",
   "version": "3.10.11"
  },
  "orig_nbformat": 4
 },
 "nbformat": 4,
 "nbformat_minor": 2
}
