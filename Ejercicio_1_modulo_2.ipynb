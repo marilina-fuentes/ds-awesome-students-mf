{
 "cells": [
  {
   "cell_type": "code",
   "execution_count": 5,
   "metadata": {},
   "outputs": [
    {
     "name": "stdout",
     "output_type": "stream",
     "text": [
      "[[10 10 10]\n",
      " [10 10 10]\n",
      " [10 10 10]]\n"
     ]
    }
   ],
   "source": [
    "#1. Dadas 2 matrices con dimensiones similares, ¿cómo obtener una salida\n",
    "#de matriz en la que cada elemento es una suma de elementos de las 2\n",
    "#matrices? (solo puede usar numpy como librería, si realiza la matriz\n",
    "#con otro paquete el ejercicio no es válido)\n",
    "\n",
    "import numpy as np\n",
    "\n",
    "a = np.array([[1, 2, 3], [4, 5, 6], [7, 8, 9]])\n",
    "b = np.array([[9, 8, 7], [6, 5, 4], [3, 2, 1]])\n",
    "\n",
    "c = np.add(a, b)\n",
    "print(c)"
   ]
  },
  {
   "cell_type": "code",
   "execution_count": 6,
   "metadata": {},
   "outputs": [
    {
     "name": "stdout",
     "output_type": "stream",
     "text": [
      "[[1. 0. 0. 0.]\n",
      " [0. 1. 0. 0.]\n",
      " [0. 0. 1. 0.]\n",
      " [0. 0. 0. 1.]]\n"
     ]
    }
   ],
   "source": [
    "#2. Cree una matriz de identidad de dimensión 4.\n",
    "\n",
    "import numpy as np\n",
    "\n",
    "identity_matrix = np.identity(4)\n",
    "print(identity_matrix)"
   ]
  },
  {
   "cell_type": "code",
   "execution_count": 7,
   "metadata": {},
   "outputs": [
    {
     "name": "stdout",
     "output_type": "stream",
     "text": [
      "[[False  True  True]\n",
      " [ True False  True]\n",
      " [False False  True]]\n"
     ]
    }
   ],
   "source": [
    "#3. Convierte una matriz numpy binaria (que contiene solo 0 y 1) en una matriz numpy booleana.\n",
    "\n",
    "import numpy as np\n",
    "\n",
    "binary_matrix = np.array([[0, 1, 1], [1, 0, 1], [0, 0, 1]])\n",
    "boolean_matrix = np.asarray(binary_matrix, dtype=bool)\n",
    "\n",
    "print(boolean_matrix)"
   ]
  },
  {
   "cell_type": "code",
   "execution_count": 8,
   "metadata": {},
   "outputs": [
    {
     "name": "stdout",
     "output_type": "stream",
     "text": [
      "[  0   2   4   6   8  10  12  14  16  18  20  22  24  26  28  30  32  34\n",
      "  36  38  40  42  44  46  48  50  52  54  56  58  60  62  64  66  68  70\n",
      "  72  74  76  78  80  82  84  86  88  90  92  94  96  98 100]\n"
     ]
    }
   ],
   "source": [
    "#4. Genere una secuencia de números en forma de matriz numpy de 0 a 100 con espacios de 2 números, por ejemplo: 0, 2, 4 ...\n",
    "\n",
    "\n",
    "import numpy as np\n",
    "\n",
    "sequence = np.arange(start=0, stop=101, step=2)\n",
    "print(sequence)\n"
   ]
  }
 ],
 "metadata": {
  "kernelspec": {
   "display_name": "Python 3",
   "language": "python",
   "name": "python3"
  },
  "language_info": {
   "codemirror_mode": {
    "name": "ipython",
    "version": 3
   },
   "file_extension": ".py",
   "mimetype": "text/x-python",
   "name": "python",
   "nbconvert_exporter": "python",
   "pygments_lexer": "ipython3",
   "version": "3.10.11"
  },
  "orig_nbformat": 4
 },
 "nbformat": 4,
 "nbformat_minor": 2
}
