{
 "cells": [
  {
   "cell_type": "code",
   "execution_count": 25,
   "metadata": {},
   "outputs": [
    {
     "name": "stdout",
     "output_type": "stream",
     "text": [
      "Tamaño de la muestra total: 1230\n",
      "Composición de la muestra:\n",
      "- Estrato 1: 30.49%\n",
      "- Estrato 2: 34.15%\n",
      "- Estrato 3: 23.17%\n",
      "- Estrato 4: 12.20%\n"
     ]
    }
   ],
   "source": [
    "# Caso 1: Muestreo \n",
    "# estratificado con afijación proporcional se desea tomar una muestra aleatoria estratificada de las personas mayores de edad de un municipio, cuyos estratos son los siguientes intervalos de\n",
    "# edades, en años: de 18 a 30, de 31 a 45, de 46 a 60 y mayores de 60. En el primer intervalo hay 7500 personas, en el segundo hay 8400, en el tercero  5700 y en el cuarto 3000.\n",
    "# Calcule el tamaño de la muestra total y su composición, sabiendo que el muestreo se hace con afijación proporcional y se han elegido al azar 375 personas del primer estrato.\n",
    "\n",
    "# Para calcular el tamaño de la muestra total, necesitamos conocer la proporción de cada estrato en la población y el tamaño de la muestra en el primer estrato.\n",
    "\n",
    "# La proporción de cada estrato en la población es:\n",
    "\n",
    "# Proporción del primer estrato: 7500 / (7500 + 8400 + 5700 + 3000) = 0.30488\n",
    "# Proporción del segundo estrato: 8400 / (7500 + 8400 + 5700 + 3000) = 0.34146\n",
    "# Proporción del tercer estrato: 5700 / (7500 + 8400 + 5700 + 3000) = 0.23170\n",
    "# Proporción del cuarto estrato: 3000 / (7500 + 8400 + 5700 + 3000) = 0.12195\n",
    "# Luego, utilizamos la proporción del primer estrato para calcular el tamaño de la muestra en los otros estratos:\n",
    "\n",
    "# Tamaño de la muestra en el segundo estrato: 375 * (8400 / 7500) = 420\n",
    "# Tamaño de la muestra en el tercer estrato: 375 * (5700 / 7500) = 285\n",
    "# Tamaño de la muestra en el cuarto estrato: 375 * (3000 / 7500) = 150\n",
    "# Finalmente, sumamos el tamaño de la muestra en todos los estratos para obtener el tamaño de la muestra total:\n",
    "\n",
    "# Tamaño de la muestra total: 375 + 420 + 285 + 150 = 1230\n",
    "# La composición de la muestra en cada estrato se obtiene dividiendo el tamaño de la muestra en cada estrato entre el tamaño de la muestra total y multiplicando por 100:\n",
    "\n",
    "# Composición de la muestra en el primer estrato: 375 / 1230 * 100 ≈ 30.49%\n",
    "# Composición de la muestra en el segundo estrato: 420 / 1230 * 100 ≈ 34.15%\n",
    "# Composición de la muestra en el tercer estrato: 285 / 1230 * 100 ≈ 23.17%\n",
    "# Composición de la muestra en el cuarto estrato: 150 / 1230 * 100 ≈ 12.20%\n",
    "# Por lo tanto, el tamaño de la muestra total es 1230, y la composición de la muestra es aproximadamente 30.49% en el primer estrato, 34.15% en el segundo estrato, 23.17% en el tercer estrato y 12.20% en el cuarto estrato.\n",
    "\n",
    "\n",
    "# Datos\n",
    "N1 = 7500 # Tamaño del estrato 1\n",
    "N2 = 8400 # Tamaño del estrato 2\n",
    "N3 = 5700 # Tamaño del estrato 3\n",
    "N4 = 3000 # Tamaño del estrato 4\n",
    "n1 = 375 # Tamaño de la muestra en el estrato 1\n",
    "\n",
    "# Cálculo de las proporciones de cada estrato\n",
    "N = N1 + N2 + N3 + N4\n",
    "p1 = N1 / N\n",
    "p2 = N2 / N\n",
    "p3 = N3 / N\n",
    "p4 = N4 / N\n",
    "\n",
    "# Cálculo del tamaño de la muestra en cada estrato\n",
    "n2 = round(n1 * p2 / p1) \n",
    "n3 = round(n1 * p3 / p1) \n",
    "n4 = round(n1 * p4 / p1) \n",
    "\n",
    "# Cálculo del tamaño de la muestra total\n",
    "n = n1 + n2 + n3 + n4\n",
    "\n",
    "# Cálculo de la composición de la muestra\n",
    "pc1 = n1 / n * 100\n",
    "pc2 = n2 / n * 100\n",
    "pc3 = n3 / n * 100\n",
    "pc4 = n4 / n * 100\n",
    "\n",
    "# Imprimir resultados\n",
    "# Impresión de los resultados con notación de cadena de formato\n",
    "print(f\"Tamaño de la muestra total: {n}\")\n",
    "print(f\"Composición de la muestra:\")\n",
    "print(f\"- Estrato 1: {pc1:.2f}%\")\n",
    "print(f\"- Estrato 2: {pc2:.2f}%\")\n",
    "print(f\"- Estrato 3: {pc3:.2f}%\")\n",
    "print(f\"- Estrato 4: {pc4:.2f}%\")"
   ]
  },
  {
   "cell_type": "code",
   "execution_count": 6,
   "metadata": {},
   "outputs": [
    {
     "name": "stdout",
     "output_type": "stream",
     "text": [
      "La probabilidad de que para una muestra de tamaño n=5 se obtenga un promedio menor que 7 es: 0.0001\n"
     ]
    }
   ],
   "source": [
    "# Caso 2\n",
    "# Si el contenido en gr. de un determinado medicamento X sigue una\n",
    "# distribución N(7.5,0.3), calcular la probabilidad de que para una muestra de\n",
    "# tamaño n=5, se obtenga medio menor que 7, Pr ( X ≤ 7).\n",
    "\n",
    "# estandarizamos la variable X con la fórmula Z = (X - μ) / (σ / sqrt(n)):\n",
    "# Z = (7 - 7.5) / (0.3 / sqrt(5)) = -3.65148\n",
    "# Luego, calculamos la probabilidad de que Z sea menor o igual que -3.65148 utilizando una tabla de distribución normal \n",
    "# estándar o una calculadora que tenga la función de distribución normal acumulativa. El resultado es:\n",
    "# Pr(Z ≤ -3.65148) = 0.0001\n",
    "# Por lo tanto, la probabilidad de que para una muestra de tamaño n=5 se obtenga un promedio menor que 7, \n",
    "# dadas la media μ = 7.5 y la desviación estándar σ = 0.3 del medicamento X que sigue una distribución normal, es de aproximadamente 0.0001.\n",
    "\n",
    "\n",
    "import math\n",
    "from scipy.stats import norm\n",
    "\n",
    "mu = 7.5 # media del medicamento X\n",
    "sigma = 0.3 # desviación estándar del medicamento X\n",
    "n = 5 # tamaño de la muestra\n",
    "x_bar = 7 # valor del promedio muestral\n",
    "\n",
    "# Calculamos el valor de Z estandarizando la variable X\n",
    "Z = (x_bar - mu) / (sigma / math.sqrt(n))\n",
    "\n",
    "# Calculamos la probabilidad de que Z sea menor o igual que Z_0\n",
    "Z_0 = (7 - mu) / (sigma / math.sqrt(n))\n",
    "P = norm.cdf(Z_0)\n",
    "\n",
    "print(\"La probabilidad de que para una muestra de tamaño n=5 se obtenga un promedio menor que 7 es:\", round(P, 4))\n"
   ]
  },
  {
   "cell_type": "code",
   "execution_count": null,
   "metadata": {},
   "outputs": [],
   "source": [
    "#                                              Preguntas guía\n",
    "\n",
    "# Técnicas de muestreo:\n",
    "# Se refiere al conjunto de métodos y procedimientos utilizados para seleccionar una muestra representativa de una población. \n",
    "# Estas técnicas se dividen en dos categorías: muestreo probabilístico y muestreo no probabilístico.\n",
    "\n",
    "# Muestreo probabilístico: \n",
    "# Es un método de selección de muestras en el que cada elemento de la población tiene una probabilidad conocida y no nula de \n",
    "# ser seleccionado para la muestra. Algunas técnicas de muestreo probabilístico incluyen el muestreo aleatorio simple, \n",
    "# el muestreo estratificado, el muestreo por conglomerados y el muestreo sistemático.\n",
    "\n",
    "# Muestreo no probabilístico: \n",
    "# Es un método de selección de muestras en el que la probabilidad de selección de cada elemento de la población no es conocida \n",
    "# o no es igual para todos los elementos. Algunas técnicas de muestreo no probabilístico incluyen el muestreo por conveniencia, \n",
    "# el muestreo por juicio, el muestreo de bola de nieve y el muestreo intencional.\n"
   ]
  }
 ],
 "metadata": {
  "kernelspec": {
   "display_name": "Python 3",
   "language": "python",
   "name": "python3"
  },
  "language_info": {
   "codemirror_mode": {
    "name": "ipython",
    "version": 3
   },
   "file_extension": ".py",
   "mimetype": "text/x-python",
   "name": "python",
   "nbconvert_exporter": "python",
   "pygments_lexer": "ipython3",
   "version": "3.10.11"
  },
  "orig_nbformat": 4
 },
 "nbformat": 4,
 "nbformat_minor": 2
}
