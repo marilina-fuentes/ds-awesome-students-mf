{
 "cells": [
  {
   "cell_type": "code",
   "execution_count": 12,
   "metadata": {},
   "outputs": [
    {
     "name": "stdout",
     "output_type": "stream",
     "text": [
      "0.2857142857142857\n",
      "0.42857142857142855\n"
     ]
    }
   ],
   "source": [
    "#Caso 1:\n",
    "#Un dado está trucado, de forma que las probabilidades de obtener las distintas\n",
    "#caras son proporcionales a los números de estas.\n",
    "\n",
    "#Hallar:\n",
    "\n",
    "# La probabilidad de obtener el 6 en un lanzamiento.\n",
    "prob_6 = 6/sum([i for i in range(1, 7)])\n",
    "print(prob_6)\n",
    "\n",
    "#La probabilidad de conseguir un número impar en un lanzamiento.\n",
    "impar = sum([1*i for i in range(1, 7) if i % 2 != 0])/sum([1*i for i in range(1, 7)])\n",
    "print(impar)\n",
    "\n"
   ]
  },
  {
   "cell_type": "code",
   "execution_count": 16,
   "metadata": {},
   "outputs": [
    {
     "name": "stdout",
     "output_type": "stream",
     "text": [
      "La probabilidad que salga 7 es: 0.1674\n"
     ]
    }
   ],
   "source": [
    "#Caso 2\n",
    "#Se lanzan dos dados al aire y se anota la suma de los puntos obtenidos. Se pide:\n",
    "\n",
    "#probabilidad de que salga el 7\n",
    "\n",
    "import random\n",
    "\n",
    "n_simulations = 1_000_000\n",
    "count = 0 \n",
    "\n",
    "for i in range(n_simulations):\n",
    "    dice1 = random.randint(1, 6)\n",
    "    dice2 = random.randint(1, 6)\n",
    "    \n",
    "    if dice1 + dice2 == 7:\n",
    "        count += 1\n",
    "\n",
    "probability = count / n_simulations\n",
    "\n",
    "print(f\"La probabilidad que salga 7 es: {probability:.4f}\")\n"
   ]
  },
  {
   "cell_type": "code",
   "execution_count": 18,
   "metadata": {},
   "outputs": [
    {
     "name": "stdout",
     "output_type": "stream",
     "text": [
      "La probabilidad que par es: 0.4999\n"
     ]
    }
   ],
   "source": [
    "n_simulations = 1_000_000\n",
    "count = 0 \n",
    "\n",
    "for i in range(n_simulations):\n",
    "    dice1 = random.randint(1, 6)\n",
    "    dice2 = random.randint(1, 6)\n",
    "    sum=dice1 + dice2\n",
    "    \n",
    "    if sum %2 == 0:\n",
    "        count += 1\n",
    "\n",
    "probability = count / n_simulations\n",
    "\n",
    "print(f\"La probabilidad que par es: {probability:.4f}\")"
   ]
  },
  {
   "cell_type": "code",
   "execution_count": 19,
   "metadata": {},
   "outputs": [
    {
     "name": "stdout",
     "output_type": "stream",
     "text": [
      "La probabilidad de que el número obtenido sea múltiplo de 3 es: 0.4991\n"
     ]
    }
   ],
   "source": [
    "n_simulations = 1_000_000\n",
    "count = 0 \n",
    "\n",
    "for i in range(n_simulations):\n",
    "    dice1 = random.randint(1, 6)\n",
    "    dice2 = random.randint(1, 6)\n",
    "    sum=dice1 + dice2\n",
    "    \n",
    "    if sum %2 == 0:\n",
    "        count += 1\n",
    "\n",
    "probability = count / n_simulations\n",
    "\n",
    "print(f\"La probabilidad de que el número obtenido sea múltiplo de 3 es: {probability:.4f}\")"
   ]
  },
  {
   "cell_type": "code",
   "execution_count": 22,
   "metadata": {},
   "outputs": [
    {
     "name": "stdout",
     "output_type": "stream",
     "text": [
      "La probabilidad de que salgan dos caras y una cruz es de: 0.1256\n"
     ]
    }
   ],
   "source": [
    "n_simulations = 1_000_000\n",
    "count = 0 \n",
    "\n",
    "for i in range(n_simulations):\n",
    "    coin1 = random.choice([\"heads\", \"tails\"])\n",
    "    coin2 = random.choice([\"heads\", \"tails\"])\n",
    "    coin3 = random.choice([\"heads\", \"tails\"])\n",
    "    \n",
    "    if coin1 == \"heads\" and coin2 == \"heads\" and coin3 == \"tails\":\n",
    "        count += 1\n",
    "\n",
    "probability = count / n_simulations\n",
    "\n",
    "print(f\"La probabilidad de que salgan dos caras y una cruz es de: {probability:.4f}\")\n"
   ]
  },
  {
   "cell_type": "code",
   "execution_count": 33,
   "metadata": {},
   "outputs": [
    {
     "name": "stdout",
     "output_type": "stream",
     "text": [
      "La probabilidad de que la bola sea blanca y de la primera bolsa es: 0.3\n",
      "La probabilidad de que la bola sea blanca es: 0.4666666666666667\n",
      "Si la bola es negra, la probabilidad de que sea de la segunda bolsa es: 0.6666666666666666\n"
     ]
    }
   ],
   "source": [
    "#Caso 4\n",
    "#Una bolsa contiene 2 bolas negras y 3 bolas blancas. Otra bolsa tiene 4 bolas\n",
    "#negras y 2 blancas. Se elige una de las bolsas al azar y se extrae una bola.\n",
    "#Calcular la probabilidad de:\n",
    "\n",
    "## elegir una bolsa al azar\n",
    "bolsa = random.choice([1, 2]) \n",
    "\n",
    "if bolsa == 1:\n",
    "    #1 bolsa\n",
    "\n",
    "    #probabilidad de que la bola sea blanca y de la primera bolsa  \n",
    "    prob_a = (3/5) * (1/2) \n",
    "    #probabilidad de que la bola sea blanca\n",
    "    prob_b = ((3/5) * (1/2)) + ((2/6) * (1/2))  \n",
    "else:\n",
    "    #2 bolsa\n",
    "\n",
    "    #no hay bolas blancas\n",
    "    prob_a = 0  \n",
    "    #probabilidad de que la bola sea blanca\n",
    "    prob_b = ((3/5) * (1/2)) + ((4/6) * (1/2))  \n",
    "    #probabilidad de que la bola sea negra y de la segunda bolsa\n",
    "    prob_c = (4/6)  \n",
    "\n",
    "# imprimir los resultados\n",
    "print(\"La probabilidad de que la bola sea blanca y de la primera bolsa es:\", prob_a)\n",
    "print(\"La probabilidad de que la bola sea blanca es:\", prob_b)\n",
    "print(\"Si la bola es negra, la probabilidad de que sea de la segunda bolsa es:\", prob_c)\n",
    "\n"
   ]
  }
 ],
 "metadata": {
  "kernelspec": {
   "display_name": "Python 3",
   "language": "python",
   "name": "python3"
  },
  "language_info": {
   "codemirror_mode": {
    "name": "ipython",
    "version": 3
   },
   "file_extension": ".py",
   "mimetype": "text/x-python",
   "name": "python",
   "nbconvert_exporter": "python",
   "pygments_lexer": "ipython3",
   "version": "3.10.11"
  },
  "orig_nbformat": 4
 },
 "nbformat": 4,
 "nbformat_minor": 2
}
