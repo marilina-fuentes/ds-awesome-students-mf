{
  "cells": [
    {
      "attachments": {},
      "cell_type": "markdown",
      "metadata": {
        "id": "uxQlE7-koOq9"
      },
      "source": [
        "#Actividad 4 Módulo 6\n",
        "\n",
        "#Preguntas guía\n",
        "\n",
        "- Reducción de dimensionalidad\n",
        "\n",
        "- Regresion lineal\n",
        "\n",
        "#Ejercicios planteados\n",
        "\n",
        "La base de datos House_price.csv contiene información de casas. La idea es obtener un modelo que permita predecir el valor de venta de una casa.\n",
        "\n",
        "Las variables son las siguientes:\n",
        "\n",
        "● LotFrontage: Pies lineales de calle conectados a la propiedad\n",
        "\n",
        "● LotArea: Tamaño del lote en pies cuadrados\n",
        "\n",
        "● MasVnrArea: Área de revestimiento de mampostería en pies cuadrados\n",
        "\n",
        "● BsmtFinSF1: Pies cuadrados del sótano terminados tipo 1\n",
        "\n",
        "● BsmtFinSF2: Pies cuadrados con del sótano acabados tipo 2\n",
        "\n",
        "● BsmtUnfSF: Pies cuadrados sin terminar de área del sótano\n",
        "\n",
        "● TotalBsmtSF: Total de pies cuadrados de área del sótano\n",
        "\n",
        "● 1stFlrSF: Pies cuadrados del primer piso\n",
        "\n",
        "● 2ndFlrSF: Pies cuadrados del segundo piso\n",
        "\n",
        "● LowQualFinSF: Pies cuadrados con acabado de baja calidad (todos los\n",
        "pisos)\n",
        "● GrLivArea: Pies cuadrados de área habitable sobre el nivel (suelo)\n",
        "\n",
        "● GarageArea: Tamaño del garaje en pies cuadrados\n",
        "\n",
        "● WoodDeckSF: Área de la plataforma de madera en pies cuadrados\n",
        "\n",
        "● OpenPorchSF: Área del porche abierto en pies cuadrados\n",
        "\n",
        "● EnclosedPorch: Área del porche cerrado en pies cuadrados\n",
        "\n",
        "● 3SsnPorch: área de porche de tres estaciones en pies cuadrados\n",
        "\n",
        "● ScreenPorch: Área del porche de la pantalla en pies cuadrados\n",
        "\n",
        "● PoolArea: Área de la piscina en pies cuadrados\n",
        "\n",
        "● MiscVal: Valor de la función miscelánea\n",
        "\n",
        "● SalePrice: el precio de venta de la propiedad en dólares. Esta es la variable objetivo que se quiere modelar."
      ]
    },
    {
      "attachments": {},
      "cell_type": "markdown",
      "metadata": {
        "id": "IvaFapuGpyjx"
      },
      "source": [
        "a) Cargue la base de datos"
      ]
    },
    {
      "cell_type": "code",
      "execution_count": 1,
      "metadata": {
        "colab": {
          "base_uri": "https://localhost:8080/"
        },
        "id": "bMCMCINJpyVg",
        "outputId": "bc13b975-ccd6-4801-c493-6d04b28e6ea2"
      },
      "outputs": [
        {
          "name": "stdout",
          "output_type": "stream",
          "text": [
            "Looking in indexes: https://pypi.org/simple, https://us-python.pkg.dev/colab-wheels/public/simple/\n",
            "Collecting umap-learn\n",
            "  Downloading umap-learn-0.5.3.tar.gz (88 kB)\n",
            "\u001b[2K     \u001b[90m━━━━━━━━━━━━━━━━━━━━━━━━━━━━━━━━━━━━━━━━\u001b[0m \u001b[32m88.2/88.2 kB\u001b[0m \u001b[31m2.1 MB/s\u001b[0m eta \u001b[36m0:00:00\u001b[0m\n",
            "\u001b[?25h  Preparing metadata (setup.py) ... \u001b[?25l\u001b[?25hdone\n",
            "Requirement already satisfied: numpy>=1.17 in /usr/local/lib/python3.10/dist-packages (from umap-learn) (1.22.4)\n",
            "Requirement already satisfied: scikit-learn>=0.22 in /usr/local/lib/python3.10/dist-packages (from umap-learn) (1.2.2)\n",
            "Requirement already satisfied: scipy>=1.0 in /usr/local/lib/python3.10/dist-packages (from umap-learn) (1.10.1)\n",
            "Requirement already satisfied: numba>=0.49 in /usr/local/lib/python3.10/dist-packages (from umap-learn) (0.56.4)\n",
            "Collecting pynndescent>=0.5 (from umap-learn)\n",
            "  Downloading pynndescent-0.5.10.tar.gz (1.1 MB)\n",
            "\u001b[2K     \u001b[90m━━━━━━━━━━━━━━━━━━━━━━━━━━━━━━━━━━━━━━━━\u001b[0m \u001b[32m1.1/1.1 MB\u001b[0m \u001b[31m16.9 MB/s\u001b[0m eta \u001b[36m0:00:00\u001b[0m\n",
            "\u001b[?25h  Preparing metadata (setup.py) ... \u001b[?25l\u001b[?25hdone\n",
            "Requirement already satisfied: tqdm in /usr/local/lib/python3.10/dist-packages (from umap-learn) (4.65.0)\n",
            "Requirement already satisfied: llvmlite<0.40,>=0.39.0dev0 in /usr/local/lib/python3.10/dist-packages (from numba>=0.49->umap-learn) (0.39.1)\n",
            "Requirement already satisfied: setuptools in /usr/local/lib/python3.10/dist-packages (from numba>=0.49->umap-learn) (67.7.2)\n",
            "Requirement already satisfied: joblib>=0.11 in /usr/local/lib/python3.10/dist-packages (from pynndescent>=0.5->umap-learn) (1.2.0)\n",
            "Requirement already satisfied: threadpoolctl>=2.0.0 in /usr/local/lib/python3.10/dist-packages (from scikit-learn>=0.22->umap-learn) (3.1.0)\n",
            "Building wheels for collected packages: umap-learn, pynndescent\n",
            "  Building wheel for umap-learn (setup.py) ... \u001b[?25l\u001b[?25hdone\n",
            "  Created wheel for umap-learn: filename=umap_learn-0.5.3-py3-none-any.whl size=82816 sha256=b6703fb1667c6c76291af1c4b2b624039a563ac630ccb15e8125736cc889135b\n",
            "  Stored in directory: /root/.cache/pip/wheels/a0/e8/c6/a37ea663620bd5200ea1ba0907ab3c217042c1d035ef606acc\n",
            "  Building wheel for pynndescent (setup.py) ... \u001b[?25l\u001b[?25hdone\n",
            "  Created wheel for pynndescent: filename=pynndescent-0.5.10-py3-none-any.whl size=55622 sha256=2fcabef8b0030752c6a45d4013a534e9d9b299d609d64487b397d28de129b99a\n",
            "  Stored in directory: /root/.cache/pip/wheels/4a/38/5d/f60a40a66a9512b7e5e83517ebc2d1b42d857be97d135f1096\n",
            "Successfully built umap-learn pynndescent\n",
            "Installing collected packages: pynndescent, umap-learn\n",
            "Successfully installed pynndescent-0.5.10 umap-learn-0.5.3\n"
          ]
        }
      ],
      "source": [
        "import numpy as np\n",
        "import pandas as pd\n",
        "import matplotlib.pyplot as plt\n",
        "import seaborn as sns\n",
        "from sklearn.datasets import load_digits\n",
        "from sklearn.decomposition import PCA\n",
        "!pip install umap-learn\n",
        "import umap\n",
        "import warnings\n",
        "warnings.filterwarnings('ignore')\n",
        "from datetime import datetime\n",
        "from sklearn.linear_model import LinearRegression\n",
        "from sklearn.model_selection import train_test_split\n",
        "from sklearn.metrics import mean_squared_error\n",
        "from sklearn.model_selection import cross_val_score"
      ]
    },
    {
      "cell_type": "code",
      "execution_count": 16,
      "metadata": {
        "id": "XfDpJn6YHC32"
      },
      "outputs": [],
      "source": [
        "# función para reducir número de variables explicativas para entrenar modelo\n",
        "def pca(X):\n",
        "  \"\"\"\n",
        "  input: X (variables explicativas)\n",
        "  out: X (variables PCA)\n",
        "  \"\"\"\n",
        "  # Keep components explaining 80% of variance\n",
        "  pca = PCA(n_components=0.80)\n",
        "  pca.fit(X)\n",
        "  X_pca = pca.transform(X)\n",
        "  # Take the principal components that explain 80% of the variance\n",
        "  n_components = X_pca.shape[1]\n",
        "  print(f'Number of components: {n_components}')\n",
        "  return pca, X_pca\n",
        "\n",
        "# función para definir datos de entrenamiento y prueba\n",
        "def split_dataset(X, y, train_size=0.8):\n",
        "  \"\"\"\n",
        "    input: X, y, train_size\n",
        "    output: X_train, X_test, y_train, y_test\n",
        "  \"\"\"\n",
        "  # División de los datos en train y test\n",
        "  X_train, X_test, y_train, y_test = train_test_split(\n",
        "                                          X,\n",
        "                                          y,\n",
        "                                          train_size   = train_size,\n",
        "                                          random_state = 42,\n",
        "                                          shuffle      = True\n",
        "                                      )\n",
        "  return X_train, X_test, y_train, y_test\n",
        "\n",
        "def crear_entrenar_pred_modelo(X, y, train_size):\n",
        "  \"\"\"\n",
        "    rutina de prueba\n",
        "    input: X, y, train_size\n",
        "    output: scores, mean_score, model_coef, model_intercept, scatter_plot_residual\n",
        "  \"\"\"\n",
        "  # Creación del modelo\n",
        "  modelo = LinearRegression(fit_intercept=True)\n",
        "  # Perform cross-validation\n",
        "  scores = cross_val_score(\n",
        "      modelo, X, y, cv=5\n",
        "  )\n",
        "  display(\"Cross-Validation Scores:\", scores)\n",
        "\n",
        "  mean_score = scores.mean()\n",
        "  display(\"Average Score:\", mean_score)\n",
        "\n",
        "  # Create a linear regression model\n",
        "  modelo = LinearRegression()\n",
        "  \n",
        "  # spli datos para trbajar con el modelo\n",
        "  X_train, X_test, y_train, y_test = split_dataset(X, y, train_size=train_size)\n",
        "\n",
        "  # Fit the model on the training set\n",
        "  modelo.fit(X_train, y_train)\n",
        "\n",
        "  # Evaluate the model on the testing set\n",
        "  score = modelo.score(X_test, y_test)\n",
        "\n",
        "  print(\"Model Score:\", score)\n",
        "\n",
        "  coefficients = modelo.coef_\n",
        "  intercept = modelo.intercept_\n",
        "  display(\"Coefficients:\", coefficients)\n",
        "  display(\"Intercept:\", intercept)\n",
        "\n",
        "  # inspect model residuals\n",
        "  y_pred = modelo.predict(X_test)\n",
        "  residuals = y_test - y_pred\n",
        "  print(residuals.shape, y_test.shape, y_pred.shape)\n",
        "  sns.scatterplot(x=y_test, y=residuals)"
      ]
    },
    {
      "cell_type": "code",
      "execution_count": 3,
      "metadata": {
        "colab": {
          "base_uri": "https://localhost:8080/",
          "height": 488
        },
        "id": "IVig3grns5Vu",
        "outputId": "ba4a01a4-dadb-41e1-b3ab-37da6682c729"
      },
      "outputs": [
        {
          "data": {
            "text/html": [
              "\n",
              "  <div id=\"df-79434f2c-0487-4baf-abb2-20322432b32c\">\n",
              "    <div class=\"colab-df-container\">\n",
              "      <div>\n",
              "<style scoped>\n",
              "    .dataframe tbody tr th:only-of-type {\n",
              "        vertical-align: middle;\n",
              "    }\n",
              "\n",
              "    .dataframe tbody tr th {\n",
              "        vertical-align: top;\n",
              "    }\n",
              "\n",
              "    .dataframe thead th {\n",
              "        text-align: right;\n",
              "    }\n",
              "</style>\n",
              "<table border=\"1\" class=\"dataframe\">\n",
              "  <thead>\n",
              "    <tr style=\"text-align: right;\">\n",
              "      <th></th>\n",
              "      <th>Id</th>\n",
              "      <th>LotFrontage</th>\n",
              "      <th>LotArea</th>\n",
              "      <th>MasVnrArea</th>\n",
              "      <th>BsmtFinSF1</th>\n",
              "      <th>BsmtFinSF2</th>\n",
              "      <th>BsmtUnfSF</th>\n",
              "      <th>TotalBsmtSF</th>\n",
              "      <th>1stFlrSF</th>\n",
              "      <th>2ndFlrSF</th>\n",
              "      <th>...</th>\n",
              "      <th>GrLivArea</th>\n",
              "      <th>GarageArea</th>\n",
              "      <th>WoodDeckSF</th>\n",
              "      <th>OpenPorchSF</th>\n",
              "      <th>EnclosedPorch</th>\n",
              "      <th>3SsnPorch</th>\n",
              "      <th>ScreenPorch</th>\n",
              "      <th>PoolArea</th>\n",
              "      <th>MiscVal</th>\n",
              "      <th>SalePrice</th>\n",
              "    </tr>\n",
              "  </thead>\n",
              "  <tbody>\n",
              "    <tr>\n",
              "      <th>0</th>\n",
              "      <td>1</td>\n",
              "      <td>65.0</td>\n",
              "      <td>8450</td>\n",
              "      <td>196.0</td>\n",
              "      <td>706</td>\n",
              "      <td>0</td>\n",
              "      <td>150</td>\n",
              "      <td>856</td>\n",
              "      <td>856</td>\n",
              "      <td>854</td>\n",
              "      <td>...</td>\n",
              "      <td>1710</td>\n",
              "      <td>548</td>\n",
              "      <td>0</td>\n",
              "      <td>61</td>\n",
              "      <td>0</td>\n",
              "      <td>0</td>\n",
              "      <td>0</td>\n",
              "      <td>0</td>\n",
              "      <td>0</td>\n",
              "      <td>208500</td>\n",
              "    </tr>\n",
              "    <tr>\n",
              "      <th>1</th>\n",
              "      <td>2</td>\n",
              "      <td>80.0</td>\n",
              "      <td>9600</td>\n",
              "      <td>0.0</td>\n",
              "      <td>978</td>\n",
              "      <td>0</td>\n",
              "      <td>284</td>\n",
              "      <td>1262</td>\n",
              "      <td>1262</td>\n",
              "      <td>0</td>\n",
              "      <td>...</td>\n",
              "      <td>1262</td>\n",
              "      <td>460</td>\n",
              "      <td>298</td>\n",
              "      <td>0</td>\n",
              "      <td>0</td>\n",
              "      <td>0</td>\n",
              "      <td>0</td>\n",
              "      <td>0</td>\n",
              "      <td>0</td>\n",
              "      <td>181500</td>\n",
              "    </tr>\n",
              "    <tr>\n",
              "      <th>2</th>\n",
              "      <td>3</td>\n",
              "      <td>68.0</td>\n",
              "      <td>11250</td>\n",
              "      <td>162.0</td>\n",
              "      <td>486</td>\n",
              "      <td>0</td>\n",
              "      <td>434</td>\n",
              "      <td>920</td>\n",
              "      <td>920</td>\n",
              "      <td>866</td>\n",
              "      <td>...</td>\n",
              "      <td>1786</td>\n",
              "      <td>608</td>\n",
              "      <td>0</td>\n",
              "      <td>42</td>\n",
              "      <td>0</td>\n",
              "      <td>0</td>\n",
              "      <td>0</td>\n",
              "      <td>0</td>\n",
              "      <td>0</td>\n",
              "      <td>223500</td>\n",
              "    </tr>\n",
              "    <tr>\n",
              "      <th>3</th>\n",
              "      <td>4</td>\n",
              "      <td>60.0</td>\n",
              "      <td>9550</td>\n",
              "      <td>0.0</td>\n",
              "      <td>216</td>\n",
              "      <td>0</td>\n",
              "      <td>540</td>\n",
              "      <td>756</td>\n",
              "      <td>961</td>\n",
              "      <td>756</td>\n",
              "      <td>...</td>\n",
              "      <td>1717</td>\n",
              "      <td>642</td>\n",
              "      <td>0</td>\n",
              "      <td>35</td>\n",
              "      <td>272</td>\n",
              "      <td>0</td>\n",
              "      <td>0</td>\n",
              "      <td>0</td>\n",
              "      <td>0</td>\n",
              "      <td>140000</td>\n",
              "    </tr>\n",
              "    <tr>\n",
              "      <th>4</th>\n",
              "      <td>5</td>\n",
              "      <td>84.0</td>\n",
              "      <td>14260</td>\n",
              "      <td>350.0</td>\n",
              "      <td>655</td>\n",
              "      <td>0</td>\n",
              "      <td>490</td>\n",
              "      <td>1145</td>\n",
              "      <td>1145</td>\n",
              "      <td>1053</td>\n",
              "      <td>...</td>\n",
              "      <td>2198</td>\n",
              "      <td>836</td>\n",
              "      <td>192</td>\n",
              "      <td>84</td>\n",
              "      <td>0</td>\n",
              "      <td>0</td>\n",
              "      <td>0</td>\n",
              "      <td>0</td>\n",
              "      <td>0</td>\n",
              "      <td>250000</td>\n",
              "    </tr>\n",
              "    <tr>\n",
              "      <th>...</th>\n",
              "      <td>...</td>\n",
              "      <td>...</td>\n",
              "      <td>...</td>\n",
              "      <td>...</td>\n",
              "      <td>...</td>\n",
              "      <td>...</td>\n",
              "      <td>...</td>\n",
              "      <td>...</td>\n",
              "      <td>...</td>\n",
              "      <td>...</td>\n",
              "      <td>...</td>\n",
              "      <td>...</td>\n",
              "      <td>...</td>\n",
              "      <td>...</td>\n",
              "      <td>...</td>\n",
              "      <td>...</td>\n",
              "      <td>...</td>\n",
              "      <td>...</td>\n",
              "      <td>...</td>\n",
              "      <td>...</td>\n",
              "      <td>...</td>\n",
              "    </tr>\n",
              "    <tr>\n",
              "      <th>1455</th>\n",
              "      <td>1456</td>\n",
              "      <td>62.0</td>\n",
              "      <td>7917</td>\n",
              "      <td>0.0</td>\n",
              "      <td>0</td>\n",
              "      <td>0</td>\n",
              "      <td>953</td>\n",
              "      <td>953</td>\n",
              "      <td>953</td>\n",
              "      <td>694</td>\n",
              "      <td>...</td>\n",
              "      <td>1647</td>\n",
              "      <td>460</td>\n",
              "      <td>0</td>\n",
              "      <td>40</td>\n",
              "      <td>0</td>\n",
              "      <td>0</td>\n",
              "      <td>0</td>\n",
              "      <td>0</td>\n",
              "      <td>0</td>\n",
              "      <td>175000</td>\n",
              "    </tr>\n",
              "    <tr>\n",
              "      <th>1456</th>\n",
              "      <td>1457</td>\n",
              "      <td>85.0</td>\n",
              "      <td>13175</td>\n",
              "      <td>119.0</td>\n",
              "      <td>790</td>\n",
              "      <td>163</td>\n",
              "      <td>589</td>\n",
              "      <td>1542</td>\n",
              "      <td>2073</td>\n",
              "      <td>0</td>\n",
              "      <td>...</td>\n",
              "      <td>2073</td>\n",
              "      <td>500</td>\n",
              "      <td>349</td>\n",
              "      <td>0</td>\n",
              "      <td>0</td>\n",
              "      <td>0</td>\n",
              "      <td>0</td>\n",
              "      <td>0</td>\n",
              "      <td>0</td>\n",
              "      <td>210000</td>\n",
              "    </tr>\n",
              "    <tr>\n",
              "      <th>1457</th>\n",
              "      <td>1458</td>\n",
              "      <td>66.0</td>\n",
              "      <td>9042</td>\n",
              "      <td>0.0</td>\n",
              "      <td>275</td>\n",
              "      <td>0</td>\n",
              "      <td>877</td>\n",
              "      <td>1152</td>\n",
              "      <td>1188</td>\n",
              "      <td>1152</td>\n",
              "      <td>...</td>\n",
              "      <td>2340</td>\n",
              "      <td>252</td>\n",
              "      <td>0</td>\n",
              "      <td>60</td>\n",
              "      <td>0</td>\n",
              "      <td>0</td>\n",
              "      <td>0</td>\n",
              "      <td>0</td>\n",
              "      <td>2500</td>\n",
              "      <td>266500</td>\n",
              "    </tr>\n",
              "    <tr>\n",
              "      <th>1458</th>\n",
              "      <td>1459</td>\n",
              "      <td>68.0</td>\n",
              "      <td>9717</td>\n",
              "      <td>0.0</td>\n",
              "      <td>49</td>\n",
              "      <td>1029</td>\n",
              "      <td>0</td>\n",
              "      <td>1078</td>\n",
              "      <td>1078</td>\n",
              "      <td>0</td>\n",
              "      <td>...</td>\n",
              "      <td>1078</td>\n",
              "      <td>240</td>\n",
              "      <td>366</td>\n",
              "      <td>0</td>\n",
              "      <td>112</td>\n",
              "      <td>0</td>\n",
              "      <td>0</td>\n",
              "      <td>0</td>\n",
              "      <td>0</td>\n",
              "      <td>142125</td>\n",
              "    </tr>\n",
              "    <tr>\n",
              "      <th>1459</th>\n",
              "      <td>1460</td>\n",
              "      <td>75.0</td>\n",
              "      <td>9937</td>\n",
              "      <td>0.0</td>\n",
              "      <td>830</td>\n",
              "      <td>290</td>\n",
              "      <td>136</td>\n",
              "      <td>1256</td>\n",
              "      <td>1256</td>\n",
              "      <td>0</td>\n",
              "      <td>...</td>\n",
              "      <td>1256</td>\n",
              "      <td>276</td>\n",
              "      <td>736</td>\n",
              "      <td>68</td>\n",
              "      <td>0</td>\n",
              "      <td>0</td>\n",
              "      <td>0</td>\n",
              "      <td>0</td>\n",
              "      <td>0</td>\n",
              "      <td>147500</td>\n",
              "    </tr>\n",
              "  </tbody>\n",
              "</table>\n",
              "<p>1460 rows × 21 columns</p>\n",
              "</div>\n",
              "      <button class=\"colab-df-convert\" onclick=\"convertToInteractive('df-79434f2c-0487-4baf-abb2-20322432b32c')\"\n",
              "              title=\"Convert this dataframe to an interactive table.\"\n",
              "              style=\"display:none;\">\n",
              "        \n",
              "  <svg xmlns=\"http://www.w3.org/2000/svg\" height=\"24px\"viewBox=\"0 0 24 24\"\n",
              "       width=\"24px\">\n",
              "    <path d=\"M0 0h24v24H0V0z\" fill=\"none\"/>\n",
              "    <path d=\"M18.56 5.44l.94 2.06.94-2.06 2.06-.94-2.06-.94-.94-2.06-.94 2.06-2.06.94zm-11 1L8.5 8.5l.94-2.06 2.06-.94-2.06-.94L8.5 2.5l-.94 2.06-2.06.94zm10 10l.94 2.06.94-2.06 2.06-.94-2.06-.94-.94-2.06-.94 2.06-2.06.94z\"/><path d=\"M17.41 7.96l-1.37-1.37c-.4-.4-.92-.59-1.43-.59-.52 0-1.04.2-1.43.59L10.3 9.45l-7.72 7.72c-.78.78-.78 2.05 0 2.83L4 21.41c.39.39.9.59 1.41.59.51 0 1.02-.2 1.41-.59l7.78-7.78 2.81-2.81c.8-.78.8-2.07 0-2.86zM5.41 20L4 18.59l7.72-7.72 1.47 1.35L5.41 20z\"/>\n",
              "  </svg>\n",
              "      </button>\n",
              "      \n",
              "  <style>\n",
              "    .colab-df-container {\n",
              "      display:flex;\n",
              "      flex-wrap:wrap;\n",
              "      gap: 12px;\n",
              "    }\n",
              "\n",
              "    .colab-df-convert {\n",
              "      background-color: #E8F0FE;\n",
              "      border: none;\n",
              "      border-radius: 50%;\n",
              "      cursor: pointer;\n",
              "      display: none;\n",
              "      fill: #1967D2;\n",
              "      height: 32px;\n",
              "      padding: 0 0 0 0;\n",
              "      width: 32px;\n",
              "    }\n",
              "\n",
              "    .colab-df-convert:hover {\n",
              "      background-color: #E2EBFA;\n",
              "      box-shadow: 0px 1px 2px rgba(60, 64, 67, 0.3), 0px 1px 3px 1px rgba(60, 64, 67, 0.15);\n",
              "      fill: #174EA6;\n",
              "    }\n",
              "\n",
              "    [theme=dark] .colab-df-convert {\n",
              "      background-color: #3B4455;\n",
              "      fill: #D2E3FC;\n",
              "    }\n",
              "\n",
              "    [theme=dark] .colab-df-convert:hover {\n",
              "      background-color: #434B5C;\n",
              "      box-shadow: 0px 1px 3px 1px rgba(0, 0, 0, 0.15);\n",
              "      filter: drop-shadow(0px 1px 2px rgba(0, 0, 0, 0.3));\n",
              "      fill: #FFFFFF;\n",
              "    }\n",
              "  </style>\n",
              "\n",
              "      <script>\n",
              "        const buttonEl =\n",
              "          document.querySelector('#df-79434f2c-0487-4baf-abb2-20322432b32c button.colab-df-convert');\n",
              "        buttonEl.style.display =\n",
              "          google.colab.kernel.accessAllowed ? 'block' : 'none';\n",
              "\n",
              "        async function convertToInteractive(key) {\n",
              "          const element = document.querySelector('#df-79434f2c-0487-4baf-abb2-20322432b32c');\n",
              "          const dataTable =\n",
              "            await google.colab.kernel.invokeFunction('convertToInteractive',\n",
              "                                                     [key], {});\n",
              "          if (!dataTable) return;\n",
              "\n",
              "          const docLinkHtml = 'Like what you see? Visit the ' +\n",
              "            '<a target=\"_blank\" href=https://colab.research.google.com/notebooks/data_table.ipynb>data table notebook</a>'\n",
              "            + ' to learn more about interactive tables.';\n",
              "          element.innerHTML = '';\n",
              "          dataTable['output_type'] = 'display_data';\n",
              "          await google.colab.output.renderOutput(dataTable, element);\n",
              "          const docLink = document.createElement('div');\n",
              "          docLink.innerHTML = docLinkHtml;\n",
              "          element.appendChild(docLink);\n",
              "        }\n",
              "      </script>\n",
              "    </div>\n",
              "  </div>\n",
              "  "
            ],
            "text/plain": [
              "        Id  LotFrontage  LotArea  MasVnrArea  BsmtFinSF1  BsmtFinSF2  \\\n",
              "0        1         65.0     8450       196.0         706           0   \n",
              "1        2         80.0     9600         0.0         978           0   \n",
              "2        3         68.0    11250       162.0         486           0   \n",
              "3        4         60.0     9550         0.0         216           0   \n",
              "4        5         84.0    14260       350.0         655           0   \n",
              "...    ...          ...      ...         ...         ...         ...   \n",
              "1455  1456         62.0     7917         0.0           0           0   \n",
              "1456  1457         85.0    13175       119.0         790         163   \n",
              "1457  1458         66.0     9042         0.0         275           0   \n",
              "1458  1459         68.0     9717         0.0          49        1029   \n",
              "1459  1460         75.0     9937         0.0         830         290   \n",
              "\n",
              "      BsmtUnfSF  TotalBsmtSF  1stFlrSF  2ndFlrSF  ...  GrLivArea  GarageArea  \\\n",
              "0           150          856       856       854  ...       1710         548   \n",
              "1           284         1262      1262         0  ...       1262         460   \n",
              "2           434          920       920       866  ...       1786         608   \n",
              "3           540          756       961       756  ...       1717         642   \n",
              "4           490         1145      1145      1053  ...       2198         836   \n",
              "...         ...          ...       ...       ...  ...        ...         ...   \n",
              "1455        953          953       953       694  ...       1647         460   \n",
              "1456        589         1542      2073         0  ...       2073         500   \n",
              "1457        877         1152      1188      1152  ...       2340         252   \n",
              "1458          0         1078      1078         0  ...       1078         240   \n",
              "1459        136         1256      1256         0  ...       1256         276   \n",
              "\n",
              "      WoodDeckSF  OpenPorchSF  EnclosedPorch  3SsnPorch  ScreenPorch  \\\n",
              "0              0           61              0          0            0   \n",
              "1            298            0              0          0            0   \n",
              "2              0           42              0          0            0   \n",
              "3              0           35            272          0            0   \n",
              "4            192           84              0          0            0   \n",
              "...          ...          ...            ...        ...          ...   \n",
              "1455           0           40              0          0            0   \n",
              "1456         349            0              0          0            0   \n",
              "1457           0           60              0          0            0   \n",
              "1458         366            0            112          0            0   \n",
              "1459         736           68              0          0            0   \n",
              "\n",
              "      PoolArea  MiscVal  SalePrice  \n",
              "0            0        0     208500  \n",
              "1            0        0     181500  \n",
              "2            0        0     223500  \n",
              "3            0        0     140000  \n",
              "4            0        0     250000  \n",
              "...        ...      ...        ...  \n",
              "1455         0        0     175000  \n",
              "1456         0        0     210000  \n",
              "1457         0     2500     266500  \n",
              "1458         0        0     142125  \n",
              "1459         0        0     147500  \n",
              "\n",
              "[1460 rows x 21 columns]"
            ]
          },
          "execution_count": 3,
          "metadata": {},
          "output_type": "execute_result"
        }
      ],
      "source": [
        "house_price_df = pd.read_csv('./house_price.csv', sep=';')\n",
        "house_price_df"
      ]
    },
    {
      "attachments": {},
      "cell_type": "markdown",
      "metadata": {
        "id": "KjLGOwydpyMY"
      },
      "source": [
        "¿hay alguna columna que no sea útil para el análisis?. Revise si existen casos faltantes en la base de datos, según la descripción de las variables, ¿qué pudiera significar un NA? Tome decisiones de qué hacer si existen casos faltantes. Si desea imputar los valores nulos de alguna variable por un valor puede utilizar data[\"columna\"].fillna('valor', inplace = True)."
      ]
    },
    {
      "cell_type": "code",
      "execution_count": 4,
      "metadata": {
        "colab": {
          "base_uri": "https://localhost:8080/",
          "height": 394
        },
        "id": "IYpAYGKjAfeW",
        "outputId": "07686520-c434-4afd-c215-a97bccf4681f"
      },
      "outputs": [
        {
          "data": {
            "text/html": [
              "\n",
              "  <div id=\"df-2312b605-deb4-4e6d-8c57-9de1919422b1\">\n",
              "    <div class=\"colab-df-container\">\n",
              "      <div>\n",
              "<style scoped>\n",
              "    .dataframe tbody tr th:only-of-type {\n",
              "        vertical-align: middle;\n",
              "    }\n",
              "\n",
              "    .dataframe tbody tr th {\n",
              "        vertical-align: top;\n",
              "    }\n",
              "\n",
              "    .dataframe thead th {\n",
              "        text-align: right;\n",
              "    }\n",
              "</style>\n",
              "<table border=\"1\" class=\"dataframe\">\n",
              "  <thead>\n",
              "    <tr style=\"text-align: right;\">\n",
              "      <th></th>\n",
              "      <th>Id</th>\n",
              "      <th>LotFrontage</th>\n",
              "      <th>LotArea</th>\n",
              "      <th>MasVnrArea</th>\n",
              "      <th>BsmtFinSF1</th>\n",
              "      <th>BsmtFinSF2</th>\n",
              "      <th>BsmtUnfSF</th>\n",
              "      <th>TotalBsmtSF</th>\n",
              "      <th>1stFlrSF</th>\n",
              "      <th>2ndFlrSF</th>\n",
              "      <th>...</th>\n",
              "      <th>GrLivArea</th>\n",
              "      <th>GarageArea</th>\n",
              "      <th>WoodDeckSF</th>\n",
              "      <th>OpenPorchSF</th>\n",
              "      <th>EnclosedPorch</th>\n",
              "      <th>3SsnPorch</th>\n",
              "      <th>ScreenPorch</th>\n",
              "      <th>PoolArea</th>\n",
              "      <th>MiscVal</th>\n",
              "      <th>SalePrice</th>\n",
              "    </tr>\n",
              "  </thead>\n",
              "  <tbody>\n",
              "    <tr>\n",
              "      <th>count</th>\n",
              "      <td>1460.000000</td>\n",
              "      <td>1201.000000</td>\n",
              "      <td>1460.000000</td>\n",
              "      <td>1452.000000</td>\n",
              "      <td>1460.000000</td>\n",
              "      <td>1460.000000</td>\n",
              "      <td>1460.000000</td>\n",
              "      <td>1460.000000</td>\n",
              "      <td>1460.000000</td>\n",
              "      <td>1460.000000</td>\n",
              "      <td>...</td>\n",
              "      <td>1460.000000</td>\n",
              "      <td>1460.000000</td>\n",
              "      <td>1460.000000</td>\n",
              "      <td>1460.000000</td>\n",
              "      <td>1460.000000</td>\n",
              "      <td>1460.000000</td>\n",
              "      <td>1460.000000</td>\n",
              "      <td>1460.000000</td>\n",
              "      <td>1460.000000</td>\n",
              "      <td>1460.000000</td>\n",
              "    </tr>\n",
              "    <tr>\n",
              "      <th>mean</th>\n",
              "      <td>730.500000</td>\n",
              "      <td>70.049958</td>\n",
              "      <td>10516.828082</td>\n",
              "      <td>103.685262</td>\n",
              "      <td>443.639726</td>\n",
              "      <td>46.549315</td>\n",
              "      <td>567.240411</td>\n",
              "      <td>1057.429452</td>\n",
              "      <td>1162.626712</td>\n",
              "      <td>346.992466</td>\n",
              "      <td>...</td>\n",
              "      <td>1515.463699</td>\n",
              "      <td>472.980137</td>\n",
              "      <td>94.244521</td>\n",
              "      <td>46.660274</td>\n",
              "      <td>21.954110</td>\n",
              "      <td>3.409589</td>\n",
              "      <td>15.060959</td>\n",
              "      <td>2.758904</td>\n",
              "      <td>43.489041</td>\n",
              "      <td>180921.195890</td>\n",
              "    </tr>\n",
              "    <tr>\n",
              "      <th>std</th>\n",
              "      <td>421.610009</td>\n",
              "      <td>24.284752</td>\n",
              "      <td>9981.264932</td>\n",
              "      <td>181.066207</td>\n",
              "      <td>456.098091</td>\n",
              "      <td>161.319273</td>\n",
              "      <td>441.866955</td>\n",
              "      <td>438.705324</td>\n",
              "      <td>386.587738</td>\n",
              "      <td>436.528436</td>\n",
              "      <td>...</td>\n",
              "      <td>525.480383</td>\n",
              "      <td>213.804841</td>\n",
              "      <td>125.338794</td>\n",
              "      <td>66.256028</td>\n",
              "      <td>61.119149</td>\n",
              "      <td>29.317331</td>\n",
              "      <td>55.757415</td>\n",
              "      <td>40.177307</td>\n",
              "      <td>496.123024</td>\n",
              "      <td>79442.502883</td>\n",
              "    </tr>\n",
              "    <tr>\n",
              "      <th>min</th>\n",
              "      <td>1.000000</td>\n",
              "      <td>21.000000</td>\n",
              "      <td>1300.000000</td>\n",
              "      <td>0.000000</td>\n",
              "      <td>0.000000</td>\n",
              "      <td>0.000000</td>\n",
              "      <td>0.000000</td>\n",
              "      <td>0.000000</td>\n",
              "      <td>334.000000</td>\n",
              "      <td>0.000000</td>\n",
              "      <td>...</td>\n",
              "      <td>334.000000</td>\n",
              "      <td>0.000000</td>\n",
              "      <td>0.000000</td>\n",
              "      <td>0.000000</td>\n",
              "      <td>0.000000</td>\n",
              "      <td>0.000000</td>\n",
              "      <td>0.000000</td>\n",
              "      <td>0.000000</td>\n",
              "      <td>0.000000</td>\n",
              "      <td>34900.000000</td>\n",
              "    </tr>\n",
              "    <tr>\n",
              "      <th>25%</th>\n",
              "      <td>365.750000</td>\n",
              "      <td>59.000000</td>\n",
              "      <td>7553.500000</td>\n",
              "      <td>0.000000</td>\n",
              "      <td>0.000000</td>\n",
              "      <td>0.000000</td>\n",
              "      <td>223.000000</td>\n",
              "      <td>795.750000</td>\n",
              "      <td>882.000000</td>\n",
              "      <td>0.000000</td>\n",
              "      <td>...</td>\n",
              "      <td>1129.500000</td>\n",
              "      <td>334.500000</td>\n",
              "      <td>0.000000</td>\n",
              "      <td>0.000000</td>\n",
              "      <td>0.000000</td>\n",
              "      <td>0.000000</td>\n",
              "      <td>0.000000</td>\n",
              "      <td>0.000000</td>\n",
              "      <td>0.000000</td>\n",
              "      <td>129975.000000</td>\n",
              "    </tr>\n",
              "    <tr>\n",
              "      <th>50%</th>\n",
              "      <td>730.500000</td>\n",
              "      <td>69.000000</td>\n",
              "      <td>9478.500000</td>\n",
              "      <td>0.000000</td>\n",
              "      <td>383.500000</td>\n",
              "      <td>0.000000</td>\n",
              "      <td>477.500000</td>\n",
              "      <td>991.500000</td>\n",
              "      <td>1087.000000</td>\n",
              "      <td>0.000000</td>\n",
              "      <td>...</td>\n",
              "      <td>1464.000000</td>\n",
              "      <td>480.000000</td>\n",
              "      <td>0.000000</td>\n",
              "      <td>25.000000</td>\n",
              "      <td>0.000000</td>\n",
              "      <td>0.000000</td>\n",
              "      <td>0.000000</td>\n",
              "      <td>0.000000</td>\n",
              "      <td>0.000000</td>\n",
              "      <td>163000.000000</td>\n",
              "    </tr>\n",
              "    <tr>\n",
              "      <th>75%</th>\n",
              "      <td>1095.250000</td>\n",
              "      <td>80.000000</td>\n",
              "      <td>11601.500000</td>\n",
              "      <td>166.000000</td>\n",
              "      <td>712.250000</td>\n",
              "      <td>0.000000</td>\n",
              "      <td>808.000000</td>\n",
              "      <td>1298.250000</td>\n",
              "      <td>1391.250000</td>\n",
              "      <td>728.000000</td>\n",
              "      <td>...</td>\n",
              "      <td>1776.750000</td>\n",
              "      <td>576.000000</td>\n",
              "      <td>168.000000</td>\n",
              "      <td>68.000000</td>\n",
              "      <td>0.000000</td>\n",
              "      <td>0.000000</td>\n",
              "      <td>0.000000</td>\n",
              "      <td>0.000000</td>\n",
              "      <td>0.000000</td>\n",
              "      <td>214000.000000</td>\n",
              "    </tr>\n",
              "    <tr>\n",
              "      <th>max</th>\n",
              "      <td>1460.000000</td>\n",
              "      <td>313.000000</td>\n",
              "      <td>215245.000000</td>\n",
              "      <td>1600.000000</td>\n",
              "      <td>5644.000000</td>\n",
              "      <td>1474.000000</td>\n",
              "      <td>2336.000000</td>\n",
              "      <td>6110.000000</td>\n",
              "      <td>4692.000000</td>\n",
              "      <td>2065.000000</td>\n",
              "      <td>...</td>\n",
              "      <td>5642.000000</td>\n",
              "      <td>1418.000000</td>\n",
              "      <td>857.000000</td>\n",
              "      <td>547.000000</td>\n",
              "      <td>552.000000</td>\n",
              "      <td>508.000000</td>\n",
              "      <td>480.000000</td>\n",
              "      <td>738.000000</td>\n",
              "      <td>15500.000000</td>\n",
              "      <td>755000.000000</td>\n",
              "    </tr>\n",
              "  </tbody>\n",
              "</table>\n",
              "<p>8 rows × 21 columns</p>\n",
              "</div>\n",
              "      <button class=\"colab-df-convert\" onclick=\"convertToInteractive('df-2312b605-deb4-4e6d-8c57-9de1919422b1')\"\n",
              "              title=\"Convert this dataframe to an interactive table.\"\n",
              "              style=\"display:none;\">\n",
              "        \n",
              "  <svg xmlns=\"http://www.w3.org/2000/svg\" height=\"24px\"viewBox=\"0 0 24 24\"\n",
              "       width=\"24px\">\n",
              "    <path d=\"M0 0h24v24H0V0z\" fill=\"none\"/>\n",
              "    <path d=\"M18.56 5.44l.94 2.06.94-2.06 2.06-.94-2.06-.94-.94-2.06-.94 2.06-2.06.94zm-11 1L8.5 8.5l.94-2.06 2.06-.94-2.06-.94L8.5 2.5l-.94 2.06-2.06.94zm10 10l.94 2.06.94-2.06 2.06-.94-2.06-.94-.94-2.06-.94 2.06-2.06.94z\"/><path d=\"M17.41 7.96l-1.37-1.37c-.4-.4-.92-.59-1.43-.59-.52 0-1.04.2-1.43.59L10.3 9.45l-7.72 7.72c-.78.78-.78 2.05 0 2.83L4 21.41c.39.39.9.59 1.41.59.51 0 1.02-.2 1.41-.59l7.78-7.78 2.81-2.81c.8-.78.8-2.07 0-2.86zM5.41 20L4 18.59l7.72-7.72 1.47 1.35L5.41 20z\"/>\n",
              "  </svg>\n",
              "      </button>\n",
              "      \n",
              "  <style>\n",
              "    .colab-df-container {\n",
              "      display:flex;\n",
              "      flex-wrap:wrap;\n",
              "      gap: 12px;\n",
              "    }\n",
              "\n",
              "    .colab-df-convert {\n",
              "      background-color: #E8F0FE;\n",
              "      border: none;\n",
              "      border-radius: 50%;\n",
              "      cursor: pointer;\n",
              "      display: none;\n",
              "      fill: #1967D2;\n",
              "      height: 32px;\n",
              "      padding: 0 0 0 0;\n",
              "      width: 32px;\n",
              "    }\n",
              "\n",
              "    .colab-df-convert:hover {\n",
              "      background-color: #E2EBFA;\n",
              "      box-shadow: 0px 1px 2px rgba(60, 64, 67, 0.3), 0px 1px 3px 1px rgba(60, 64, 67, 0.15);\n",
              "      fill: #174EA6;\n",
              "    }\n",
              "\n",
              "    [theme=dark] .colab-df-convert {\n",
              "      background-color: #3B4455;\n",
              "      fill: #D2E3FC;\n",
              "    }\n",
              "\n",
              "    [theme=dark] .colab-df-convert:hover {\n",
              "      background-color: #434B5C;\n",
              "      box-shadow: 0px 1px 3px 1px rgba(0, 0, 0, 0.15);\n",
              "      filter: drop-shadow(0px 1px 2px rgba(0, 0, 0, 0.3));\n",
              "      fill: #FFFFFF;\n",
              "    }\n",
              "  </style>\n",
              "\n",
              "      <script>\n",
              "        const buttonEl =\n",
              "          document.querySelector('#df-2312b605-deb4-4e6d-8c57-9de1919422b1 button.colab-df-convert');\n",
              "        buttonEl.style.display =\n",
              "          google.colab.kernel.accessAllowed ? 'block' : 'none';\n",
              "\n",
              "        async function convertToInteractive(key) {\n",
              "          const element = document.querySelector('#df-2312b605-deb4-4e6d-8c57-9de1919422b1');\n",
              "          const dataTable =\n",
              "            await google.colab.kernel.invokeFunction('convertToInteractive',\n",
              "                                                     [key], {});\n",
              "          if (!dataTable) return;\n",
              "\n",
              "          const docLinkHtml = 'Like what you see? Visit the ' +\n",
              "            '<a target=\"_blank\" href=https://colab.research.google.com/notebooks/data_table.ipynb>data table notebook</a>'\n",
              "            + ' to learn more about interactive tables.';\n",
              "          element.innerHTML = '';\n",
              "          dataTable['output_type'] = 'display_data';\n",
              "          await google.colab.output.renderOutput(dataTable, element);\n",
              "          const docLink = document.createElement('div');\n",
              "          docLink.innerHTML = docLinkHtml;\n",
              "          element.appendChild(docLink);\n",
              "        }\n",
              "      </script>\n",
              "    </div>\n",
              "  </div>\n",
              "  "
            ],
            "text/plain": [
              "                Id  LotFrontage        LotArea   MasVnrArea   BsmtFinSF1  \\\n",
              "count  1460.000000  1201.000000    1460.000000  1452.000000  1460.000000   \n",
              "mean    730.500000    70.049958   10516.828082   103.685262   443.639726   \n",
              "std     421.610009    24.284752    9981.264932   181.066207   456.098091   \n",
              "min       1.000000    21.000000    1300.000000     0.000000     0.000000   \n",
              "25%     365.750000    59.000000    7553.500000     0.000000     0.000000   \n",
              "50%     730.500000    69.000000    9478.500000     0.000000   383.500000   \n",
              "75%    1095.250000    80.000000   11601.500000   166.000000   712.250000   \n",
              "max    1460.000000   313.000000  215245.000000  1600.000000  5644.000000   \n",
              "\n",
              "        BsmtFinSF2    BsmtUnfSF  TotalBsmtSF     1stFlrSF     2ndFlrSF  ...  \\\n",
              "count  1460.000000  1460.000000  1460.000000  1460.000000  1460.000000  ...   \n",
              "mean     46.549315   567.240411  1057.429452  1162.626712   346.992466  ...   \n",
              "std     161.319273   441.866955   438.705324   386.587738   436.528436  ...   \n",
              "min       0.000000     0.000000     0.000000   334.000000     0.000000  ...   \n",
              "25%       0.000000   223.000000   795.750000   882.000000     0.000000  ...   \n",
              "50%       0.000000   477.500000   991.500000  1087.000000     0.000000  ...   \n",
              "75%       0.000000   808.000000  1298.250000  1391.250000   728.000000  ...   \n",
              "max    1474.000000  2336.000000  6110.000000  4692.000000  2065.000000  ...   \n",
              "\n",
              "         GrLivArea   GarageArea   WoodDeckSF  OpenPorchSF  EnclosedPorch  \\\n",
              "count  1460.000000  1460.000000  1460.000000  1460.000000    1460.000000   \n",
              "mean   1515.463699   472.980137    94.244521    46.660274      21.954110   \n",
              "std     525.480383   213.804841   125.338794    66.256028      61.119149   \n",
              "min     334.000000     0.000000     0.000000     0.000000       0.000000   \n",
              "25%    1129.500000   334.500000     0.000000     0.000000       0.000000   \n",
              "50%    1464.000000   480.000000     0.000000    25.000000       0.000000   \n",
              "75%    1776.750000   576.000000   168.000000    68.000000       0.000000   \n",
              "max    5642.000000  1418.000000   857.000000   547.000000     552.000000   \n",
              "\n",
              "         3SsnPorch  ScreenPorch     PoolArea       MiscVal      SalePrice  \n",
              "count  1460.000000  1460.000000  1460.000000   1460.000000    1460.000000  \n",
              "mean      3.409589    15.060959     2.758904     43.489041  180921.195890  \n",
              "std      29.317331    55.757415    40.177307    496.123024   79442.502883  \n",
              "min       0.000000     0.000000     0.000000      0.000000   34900.000000  \n",
              "25%       0.000000     0.000000     0.000000      0.000000  129975.000000  \n",
              "50%       0.000000     0.000000     0.000000      0.000000  163000.000000  \n",
              "75%       0.000000     0.000000     0.000000      0.000000  214000.000000  \n",
              "max     508.000000   480.000000   738.000000  15500.000000  755000.000000  \n",
              "\n",
              "[8 rows x 21 columns]"
            ]
          },
          "execution_count": 4,
          "metadata": {},
          "output_type": "execute_result"
        }
      ],
      "source": [
        "house_price_df.describe()"
      ]
    },
    {
      "cell_type": "code",
      "execution_count": 5,
      "metadata": {
        "colab": {
          "base_uri": "https://localhost:8080/"
        },
        "id": "iXOvcvIGu1Vy",
        "outputId": "15882ec1-6c47-4307-8d8e-6f325bf132c0"
      },
      "outputs": [
        {
          "name": "stdout",
          "output_type": "stream",
          "text": [
            "<class 'pandas.core.frame.DataFrame'>\n",
            "RangeIndex: 1460 entries, 0 to 1459\n",
            "Data columns (total 21 columns):\n",
            " #   Column         Non-Null Count  Dtype  \n",
            "---  ------         --------------  -----  \n",
            " 0   Id             1460 non-null   int64  \n",
            " 1   LotFrontage    1201 non-null   float64\n",
            " 2   LotArea        1460 non-null   int64  \n",
            " 3   MasVnrArea     1452 non-null   float64\n",
            " 4   BsmtFinSF1     1460 non-null   int64  \n",
            " 5   BsmtFinSF2     1460 non-null   int64  \n",
            " 6   BsmtUnfSF      1460 non-null   int64  \n",
            " 7   TotalBsmtSF    1460 non-null   int64  \n",
            " 8   1stFlrSF       1460 non-null   int64  \n",
            " 9   2ndFlrSF       1460 non-null   int64  \n",
            " 10  LowQualFinSF   1460 non-null   int64  \n",
            " 11  GrLivArea      1460 non-null   int64  \n",
            " 12  GarageArea     1460 non-null   int64  \n",
            " 13  WoodDeckSF     1460 non-null   int64  \n",
            " 14  OpenPorchSF    1460 non-null   int64  \n",
            " 15  EnclosedPorch  1460 non-null   int64  \n",
            " 16  3SsnPorch      1460 non-null   int64  \n",
            " 17  ScreenPorch    1460 non-null   int64  \n",
            " 18  PoolArea       1460 non-null   int64  \n",
            " 19  MiscVal        1460 non-null   int64  \n",
            " 20  SalePrice      1460 non-null   int64  \n",
            "dtypes: float64(2), int64(19)\n",
            "memory usage: 239.7 KB\n"
          ]
        }
      ],
      "source": [
        "# buscamos existencia de datos NaN\n",
        "house_price_df.info()"
      ]
    },
    {
      "cell_type": "code",
      "execution_count": 6,
      "metadata": {
        "colab": {
          "base_uri": "https://localhost:8080/"
        },
        "id": "A8y3T-cwpyCh",
        "outputId": "8ee9e13e-4a68-4a44-d83f-7f93ad650f48"
      },
      "outputs": [
        {
          "name": "stdout",
          "output_type": "stream",
          "text": [
            "registros en variable LotFrontage que contiene valores NaN: 259\n",
            "registros en variable MasVrnArea  que contiene valores NaN: 8\n"
          ]
        }
      ],
      "source": [
        "# Las variables \"LotFrontage\" y MasVnrArea\" presentan valores NaN\n",
        "print(f\"registros en variable LotFrontage que contiene valores NaN: {len(house_price_df[house_price_df.LotFrontage.isna()])}\")\n",
        "print(f\"registros en variable MasVrnArea  que contiene valores NaN: {len(house_price_df[house_price_df.MasVnrArea.isna()])}\")"
      ]
    },
    {
      "cell_type": "code",
      "execution_count": 7,
      "metadata": {
        "colab": {
          "base_uri": "https://localhost:8080/",
          "height": 435
        },
        "id": "uTKOFlKE6Rew",
        "outputId": "7d7b9095-7686-4ca2-e359-8b7c3815284a"
      },
      "outputs": [
        {
          "data": {
            "image/png": "[encoded data removed]",
            "text/plain": [
              "<Figure size 640x480 with 2 Axes>"
            ]
          },
          "metadata": {},
          "output_type": "display_data"
        }
      ],
      "source": [
        "# Calcular la matriz de correlación\n",
        "a = pd.DataFrame()\n",
        "a['SalePrice'] = house_price_df.SalePrice\n",
        "a['LotFrontage'] = house_price_df.LotFrontage\n",
        "a['MasVnrArea'] = house_price_df.MasVnrArea\n",
        "correlation_matrix = a.corr()\n",
        "\n",
        "# Crear el mapa de calor\n",
        "sns.heatmap(correlation_matrix, annot=True, cmap='coolwarm')\n",
        "\n",
        "# Mostrar el gráfico\n",
        "plt.show()"
      ]
    },
    {
      "cell_type": "code",
      "execution_count": 8,
      "metadata": {
        "id": "m3KYxAbtwO8v"
      },
      "outputs": [],
      "source": [
        "# revisada la información, dado que las variable son una característica importante para evaluar el precio de las casas,\n",
        "# se opta por reemplazar los valores faltante por el promedio de cada variable\n",
        "media = np.nanmean(house_price_df.LotFrontage)\n",
        "house_price_df.LotFrontage.fillna(np.nanmean(house_price_df.LotFrontage), inplace=True)\n",
        "# alternativa\n",
        "house_price_df[house_price_df.MasVnrArea.isna()] = house_price_df.MasVnrArea.mean()"
      ]
    },
    {
      "cell_type": "code",
      "execution_count": 9,
      "metadata": {
        "colab": {
          "base_uri": "https://localhost:8080/"
        },
        "id": "MqVKPI_owgm_",
        "outputId": "0089c86e-9c01-49e5-9f3e-2e2ce7337bf5"
      },
      "outputs": [
        {
          "name": "stdout",
          "output_type": "stream",
          "text": [
            "<class 'pandas.core.frame.DataFrame'>\n",
            "RangeIndex: 1460 entries, 0 to 1459\n",
            "Data columns (total 21 columns):\n",
            " #   Column         Non-Null Count  Dtype  \n",
            "---  ------         --------------  -----  \n",
            " 0   Id             1460 non-null   float64\n",
            " 1   LotFrontage    1460 non-null   float64\n",
            " 2   LotArea        1460 non-null   float64\n",
            " 3   MasVnrArea     1460 non-null   float64\n",
            " 4   BsmtFinSF1     1460 non-null   float64\n",
            " 5   BsmtFinSF2     1460 non-null   float64\n",
            " 6   BsmtUnfSF      1460 non-null   float64\n",
            " 7   TotalBsmtSF    1460 non-null   float64\n",
            " 8   1stFlrSF       1460 non-null   float64\n",
            " 9   2ndFlrSF       1460 non-null   float64\n",
            " 10  LowQualFinSF   1460 non-null   float64\n",
            " 11  GrLivArea      1460 non-null   float64\n",
            " 12  GarageArea     1460 non-null   float64\n",
            " 13  WoodDeckSF     1460 non-null   float64\n",
            " 14  OpenPorchSF    1460 non-null   float64\n",
            " 15  EnclosedPorch  1460 non-null   float64\n",
            " 16  3SsnPorch      1460 non-null   float64\n",
            " 17  ScreenPorch    1460 non-null   float64\n",
            " 18  PoolArea       1460 non-null   float64\n",
            " 19  MiscVal        1460 non-null   float64\n",
            " 20  SalePrice      1460 non-null   float64\n",
            "dtypes: float64(21)\n",
            "memory usage: 239.7 KB\n"
          ]
        }
      ],
      "source": [
        "# revisión de los cambios\n",
        "house_price_df.info()"
      ]
    },
    {
      "attachments": {},
      "cell_type": "markdown",
      "metadata": {
        "id": "a8Jrt-Znpx5o"
      },
      "source": [
        "b) La variable a modelar corresponde al precio de venta de la casa en dólares. En base a los modelos que hemos aprendido en clases, ¿qué modelo(s) podría(n) ser de utilidad para predecir el precio de venta de casas mediante las variables predictoras?"
      ]
    },
    {
      "cell_type": "code",
      "execution_count": 10,
      "metadata": {
        "id": "M_Oog2SYpxu4"
      },
      "outputs": [],
      "source": [
        "# Un modelo de aprendizaje supervisado como de regresion lineal puede ser empleado para predecir el precio de las viviendas ya que \n",
        "# contamos con la verdad o variable target numérica con el precio de venta."
      ]
    },
    {
      "attachments": {},
      "cell_type": "markdown",
      "metadata": {
        "id": "nQThuXPBpxOZ"
      },
      "source": [
        "c) Vamos a implementar un modelo de regresión lineal para modelar el\n",
        "precio de venta de casas. Considerando que en la base de datos tenemos varias variables que dependen de otras, ¿cuál pudiera ser el\n",
        "problema que surgiría en este contexto? ¿por qué esto es un problema? Discuta."
      ]
    },
    {
      "cell_type": "code",
      "execution_count": 11,
      "metadata": {
        "id": "CT3fvd5vrDIV"
      },
      "outputs": [],
      "source": [
        "# Al existir variables con dependencia entre ellas, es decir entre las variables explicativas, puede ser un problema por:\n",
        "# \n",
        "# - Afecta por decirlo de alguna forma, la sensibilidad de las estimaciones en el sentido de que, un cambios en los datos de entrada \n",
        "# o variables explicativas, pueden dar lugar a cambios drásticos en los coeficientes estimados, lo que dificulta la interpretación \n",
        "# precisa de la relación entre las variables independientes y la variable dependiente.\n",
        "\n",
        "# - Se dificulta la identificación de las variables importantes porque están altamente correlacionadas, se vuelve difícil identificar \n",
        "# qué variables tienen un efecto importante en la variable target, esto puede ocultar la verdadera importancia de las variables y \n",
        "# dificultar hallar los predictores relevantes que entrega el modelo.\n",
        "\n",
        "# Pero en general ocasiona problemas a la hora de intentar interpretar los coeficientes de regresión dificultando la interpretación \n",
        "# correcta de los efectos de las variables explicativas sobre la variable de verdad."
      ]
    },
    {
      "attachments": {},
      "cell_type": "markdown",
      "metadata": {
        "id": "933vcT1GrC_9"
      },
      "source": [
        "d) Realice un análisis de la correlación entre las variables. Comente."
      ]
    },
    {
      "cell_type": "code",
      "execution_count": 12,
      "metadata": {
        "colab": {
          "base_uri": "https://localhost:8080/",
          "height": 922
        },
        "id": "TomLVbRgrC2e",
        "outputId": "fa2773ca-da3b-44be-83f9-d3e12c0a630a"
      },
      "outputs": [
        {
          "data": {
            "image/png": "[encoded data removed]",
            "text/plain": [
              "<Figure size 1000x1000 with 2 Axes>"
            ]
          },
          "metadata": {},
          "output_type": "display_data"
        }
      ],
      "source": [
        "corr = house_price_df.corr()\n",
        "plt.figure(figsize=(10,10))\n",
        "sns.heatmap(corr, xticklabels=corr.columns, yticklabels=corr.columns)\n",
        "plt.show()"
      ]
    },
    {
      "cell_type": "code",
      "execution_count": 26,
      "metadata": {
        "colab": {
          "base_uri": "https://localhost:8080/",
          "height": 801
        },
        "id": "c8GwzdGvqTdL",
        "outputId": "209389ce-3caa-4870-b992-edc2b62831fa"
      },
      "outputs": [
        {
          "data": {
            "text/html": [
              "\n",
              "  <div id=\"df-54a543f5-caa9-4bfd-8953-5b09035f8c16\">\n",
              "    <div class=\"colab-df-container\">\n",
              "      <div>\n",
              "<style scoped>\n",
              "    .dataframe tbody tr th:only-of-type {\n",
              "        vertical-align: middle;\n",
              "    }\n",
              "\n",
              "    .dataframe tbody tr th {\n",
              "        vertical-align: top;\n",
              "    }\n",
              "\n",
              "    .dataframe thead th {\n",
              "        text-align: right;\n",
              "    }\n",
              "</style>\n",
              "<table border=\"1\" class=\"dataframe\">\n",
              "  <thead>\n",
              "    <tr style=\"text-align: right;\">\n",
              "      <th></th>\n",
              "      <th>Id</th>\n",
              "      <th>LotFrontage</th>\n",
              "      <th>LotArea</th>\n",
              "      <th>MasVnrArea</th>\n",
              "      <th>BsmtFinSF1</th>\n",
              "      <th>BsmtFinSF2</th>\n",
              "      <th>BsmtUnfSF</th>\n",
              "      <th>TotalBsmtSF</th>\n",
              "      <th>1stFlrSF</th>\n",
              "      <th>2ndFlrSF</th>\n",
              "      <th>...</th>\n",
              "      <th>GrLivArea</th>\n",
              "      <th>GarageArea</th>\n",
              "      <th>WoodDeckSF</th>\n",
              "      <th>OpenPorchSF</th>\n",
              "      <th>EnclosedPorch</th>\n",
              "      <th>3SsnPorch</th>\n",
              "      <th>ScreenPorch</th>\n",
              "      <th>PoolArea</th>\n",
              "      <th>MiscVal</th>\n",
              "      <th>SalePrice</th>\n",
              "    </tr>\n",
              "  </thead>\n",
              "  <tbody>\n",
              "    <tr>\n",
              "      <th>Id</th>\n",
              "      <td>1.000000</td>\n",
              "      <td>-0.023181</td>\n",
              "      <td>-0.024153</td>\n",
              "      <td>-0.049997</td>\n",
              "      <td>-0.001188</td>\n",
              "      <td>-0.008324</td>\n",
              "      <td>0.000253</td>\n",
              "      <td>-0.000224</td>\n",
              "      <td>0.030230</td>\n",
              "      <td>0.011788</td>\n",
              "      <td>...</td>\n",
              "      <td>0.029434</td>\n",
              "      <td>0.029003</td>\n",
              "      <td>-0.028575</td>\n",
              "      <td>-0.013128</td>\n",
              "      <td>-0.006266</td>\n",
              "      <td>-0.071599</td>\n",
              "      <td>-0.010978</td>\n",
              "      <td>0.036051</td>\n",
              "      <td>-0.007052</td>\n",
              "      <td>-0.006682</td>\n",
              "    </tr>\n",
              "    <tr>\n",
              "      <th>LotFrontage</th>\n",
              "      <td>-0.023181</td>\n",
              "      <td>1.000000</td>\n",
              "      <td>0.295420</td>\n",
              "      <td>0.178562</td>\n",
              "      <td>0.209169</td>\n",
              "      <td>0.046299</td>\n",
              "      <td>0.110115</td>\n",
              "      <td>0.337984</td>\n",
              "      <td>0.381594</td>\n",
              "      <td>0.068289</td>\n",
              "      <td>...</td>\n",
              "      <td>0.337068</td>\n",
              "      <td>0.304458</td>\n",
              "      <td>0.076164</td>\n",
              "      <td>0.141244</td>\n",
              "      <td>0.021079</td>\n",
              "      <td>0.087796</td>\n",
              "      <td>0.050574</td>\n",
              "      <td>0.197665</td>\n",
              "      <td>0.002231</td>\n",
              "      <td>0.307920</td>\n",
              "    </tr>\n",
              "    <tr>\n",
              "      <th>LotArea</th>\n",
              "      <td>-0.024153</td>\n",
              "      <td>0.295420</td>\n",
              "      <td>1.000000</td>\n",
              "      <td>0.103851</td>\n",
              "      <td>0.216335</td>\n",
              "      <td>0.109316</td>\n",
              "      <td>0.001748</td>\n",
              "      <td>0.266588</td>\n",
              "      <td>0.304448</td>\n",
              "      <td>0.055905</td>\n",
              "      <td>...</td>\n",
              "      <td>0.270378</td>\n",
              "      <td>0.188522</td>\n",
              "      <td>0.172231</td>\n",
              "      <td>0.080940</td>\n",
              "      <td>-0.030495</td>\n",
              "      <td>0.001062</td>\n",
              "      <td>0.034130</td>\n",
              "      <td>0.062334</td>\n",
              "      <td>0.037425</td>\n",
              "      <td>0.273001</td>\n",
              "    </tr>\n",
              "    <tr>\n",
              "      <th>MasVnrArea</th>\n",
              "      <td>-0.049997</td>\n",
              "      <td>0.178562</td>\n",
              "      <td>0.103851</td>\n",
              "      <td>1.000000</td>\n",
              "      <td>0.264337</td>\n",
              "      <td>-0.072294</td>\n",
              "      <td>0.114099</td>\n",
              "      <td>0.359313</td>\n",
              "      <td>0.337588</td>\n",
              "      <td>0.174413</td>\n",
              "      <td>...</td>\n",
              "      <td>0.383362</td>\n",
              "      <td>0.370068</td>\n",
              "      <td>0.159716</td>\n",
              "      <td>0.125444</td>\n",
              "      <td>-0.109667</td>\n",
              "      <td>0.018223</td>\n",
              "      <td>0.061047</td>\n",
              "      <td>0.011526</td>\n",
              "      <td>-0.029814</td>\n",
              "      <td>0.470849</td>\n",
              "    </tr>\n",
              "    <tr>\n",
              "      <th>BsmtFinSF1</th>\n",
              "      <td>-0.001188</td>\n",
              "      <td>0.209169</td>\n",
              "      <td>0.216335</td>\n",
              "      <td>0.264337</td>\n",
              "      <td>1.000000</td>\n",
              "      <td>-0.050626</td>\n",
              "      <td>-0.489652</td>\n",
              "      <td>0.521872</td>\n",
              "      <td>0.444630</td>\n",
              "      <td>-0.133129</td>\n",
              "      <td>...</td>\n",
              "      <td>0.212476</td>\n",
              "      <td>0.299625</td>\n",
              "      <td>0.204737</td>\n",
              "      <td>0.103791</td>\n",
              "      <td>-0.110351</td>\n",
              "      <td>0.012685</td>\n",
              "      <td>0.056374</td>\n",
              "      <td>0.128764</td>\n",
              "      <td>0.003413</td>\n",
              "      <td>0.387194</td>\n",
              "    </tr>\n",
              "    <tr>\n",
              "      <th>BsmtFinSF2</th>\n",
              "      <td>-0.008324</td>\n",
              "      <td>0.046299</td>\n",
              "      <td>0.109316</td>\n",
              "      <td>-0.072294</td>\n",
              "      <td>-0.050626</td>\n",
              "      <td>1.000000</td>\n",
              "      <td>-0.211020</td>\n",
              "      <td>0.100786</td>\n",
              "      <td>0.091619</td>\n",
              "      <td>-0.100516</td>\n",
              "      <td>...</td>\n",
              "      <td>-0.013810</td>\n",
              "      <td>-0.020719</td>\n",
              "      <td>0.067792</td>\n",
              "      <td>0.005953</td>\n",
              "      <td>0.039125</td>\n",
              "      <td>-0.022883</td>\n",
              "      <td>0.090880</td>\n",
              "      <td>0.045646</td>\n",
              "      <td>0.005032</td>\n",
              "      <td>-0.014497</td>\n",
              "    </tr>\n",
              "    <tr>\n",
              "      <th>BsmtUnfSF</th>\n",
              "      <td>0.000253</td>\n",
              "      <td>0.110115</td>\n",
              "      <td>0.001748</td>\n",
              "      <td>0.114099</td>\n",
              "      <td>-0.489652</td>\n",
              "      <td>-0.211020</td>\n",
              "      <td>1.000000</td>\n",
              "      <td>0.421756</td>\n",
              "      <td>0.326318</td>\n",
              "      <td>0.009316</td>\n",
              "      <td>...</td>\n",
              "      <td>0.250572</td>\n",
              "      <td>0.191709</td>\n",
              "      <td>-0.004603</td>\n",
              "      <td>0.124599</td>\n",
              "      <td>-0.011285</td>\n",
              "      <td>0.001213</td>\n",
              "      <td>-0.021398</td>\n",
              "      <td>-0.048565</td>\n",
              "      <td>-0.024475</td>\n",
              "      <td>0.224964</td>\n",
              "    </tr>\n",
              "    <tr>\n",
              "      <th>TotalBsmtSF</th>\n",
              "      <td>-0.000224</td>\n",
              "      <td>0.337984</td>\n",
              "      <td>0.266588</td>\n",
              "      <td>0.359313</td>\n",
              "      <td>0.521872</td>\n",
              "      <td>0.100786</td>\n",
              "      <td>0.421756</td>\n",
              "      <td>1.000000</td>\n",
              "      <td>0.823311</td>\n",
              "      <td>-0.162726</td>\n",
              "      <td>...</td>\n",
              "      <td>0.470448</td>\n",
              "      <td>0.496310</td>\n",
              "      <td>0.230334</td>\n",
              "      <td>0.231120</td>\n",
              "      <td>-0.113832</td>\n",
              "      <td>-0.002567</td>\n",
              "      <td>0.065655</td>\n",
              "      <td>0.094134</td>\n",
              "      <td>-0.019423</td>\n",
              "      <td>0.623177</td>\n",
              "    </tr>\n",
              "    <tr>\n",
              "      <th>1stFlrSF</th>\n",
              "      <td>0.030230</td>\n",
              "      <td>0.381594</td>\n",
              "      <td>0.304448</td>\n",
              "      <td>0.337588</td>\n",
              "      <td>0.444630</td>\n",
              "      <td>0.091619</td>\n",
              "      <td>0.326318</td>\n",
              "      <td>0.823311</td>\n",
              "      <td>1.000000</td>\n",
              "      <td>-0.186810</td>\n",
              "      <td>...</td>\n",
              "      <td>0.582692</td>\n",
              "      <td>0.502380</td>\n",
              "      <td>0.232815</td>\n",
              "      <td>0.193197</td>\n",
              "      <td>-0.090461</td>\n",
              "      <td>0.005258</td>\n",
              "      <td>0.064704</td>\n",
              "      <td>0.091478</td>\n",
              "      <td>-0.022289</td>\n",
              "      <td>0.619533</td>\n",
              "    </tr>\n",
              "    <tr>\n",
              "      <th>2ndFlrSF</th>\n",
              "      <td>0.011788</td>\n",
              "      <td>0.068289</td>\n",
              "      <td>0.055905</td>\n",
              "      <td>0.174413</td>\n",
              "      <td>-0.133129</td>\n",
              "      <td>-0.100516</td>\n",
              "      <td>0.009316</td>\n",
              "      <td>-0.162726</td>\n",
              "      <td>-0.186810</td>\n",
              "      <td>1.000000</td>\n",
              "      <td>...</td>\n",
              "      <td>0.684406</td>\n",
              "      <td>0.143838</td>\n",
              "      <td>0.090658</td>\n",
              "      <td>0.207257</td>\n",
              "      <td>0.059782</td>\n",
              "      <td>-0.033757</td>\n",
              "      <td>0.035655</td>\n",
              "      <td>0.072789</td>\n",
              "      <td>0.015875</td>\n",
              "      <td>0.324805</td>\n",
              "    </tr>\n",
              "    <tr>\n",
              "      <th>LowQualFinSF</th>\n",
              "      <td>-0.059435</td>\n",
              "      <td>0.052904</td>\n",
              "      <td>-0.006462</td>\n",
              "      <td>-0.068321</td>\n",
              "      <td>-0.071622</td>\n",
              "      <td>0.018282</td>\n",
              "      <td>0.016516</td>\n",
              "      <td>-0.055522</td>\n",
              "      <td>-0.042774</td>\n",
              "      <td>0.056762</td>\n",
              "      <td>...</td>\n",
              "      <td>0.102664</td>\n",
              "      <td>-0.084734</td>\n",
              "      <td>-0.024586</td>\n",
              "      <td>0.028028</td>\n",
              "      <td>0.074842</td>\n",
              "      <td>0.031784</td>\n",
              "      <td>0.043275</td>\n",
              "      <td>0.087207</td>\n",
              "      <td>-0.002498</td>\n",
              "      <td>-0.049068</td>\n",
              "    </tr>\n",
              "    <tr>\n",
              "      <th>GrLivArea</th>\n",
              "      <td>0.029434</td>\n",
              "      <td>0.337068</td>\n",
              "      <td>0.270378</td>\n",
              "      <td>0.383362</td>\n",
              "      <td>0.212476</td>\n",
              "      <td>-0.013810</td>\n",
              "      <td>0.250572</td>\n",
              "      <td>0.470448</td>\n",
              "      <td>0.582692</td>\n",
              "      <td>0.684406</td>\n",
              "      <td>...</td>\n",
              "      <td>1.000000</td>\n",
              "      <td>0.481379</td>\n",
              "      <td>0.242156</td>\n",
              "      <td>0.311292</td>\n",
              "      <td>-0.013543</td>\n",
              "      <td>-0.027748</td>\n",
              "      <td>0.077138</td>\n",
              "      <td>0.129183</td>\n",
              "      <td>-0.003889</td>\n",
              "      <td>0.719171</td>\n",
              "    </tr>\n",
              "    <tr>\n",
              "      <th>GarageArea</th>\n",
              "      <td>0.029003</td>\n",
              "      <td>0.304458</td>\n",
              "      <td>0.188522</td>\n",
              "      <td>0.370068</td>\n",
              "      <td>0.299625</td>\n",
              "      <td>-0.020719</td>\n",
              "      <td>0.191709</td>\n",
              "      <td>0.496310</td>\n",
              "      <td>0.502380</td>\n",
              "      <td>0.143838</td>\n",
              "      <td>...</td>\n",
              "      <td>0.481379</td>\n",
              "      <td>1.000000</td>\n",
              "      <td>0.222911</td>\n",
              "      <td>0.228377</td>\n",
              "      <td>-0.132514</td>\n",
              "      <td>0.003077</td>\n",
              "      <td>0.036621</td>\n",
              "      <td>0.036707</td>\n",
              "      <td>-0.028139</td>\n",
              "      <td>0.629930</td>\n",
              "    </tr>\n",
              "    <tr>\n",
              "      <th>WoodDeckSF</th>\n",
              "      <td>-0.028575</td>\n",
              "      <td>0.076164</td>\n",
              "      <td>0.172231</td>\n",
              "      <td>0.159716</td>\n",
              "      <td>0.204737</td>\n",
              "      <td>0.067792</td>\n",
              "      <td>-0.004603</td>\n",
              "      <td>0.230334</td>\n",
              "      <td>0.232815</td>\n",
              "      <td>0.090658</td>\n",
              "      <td>...</td>\n",
              "      <td>0.242156</td>\n",
              "      <td>0.222911</td>\n",
              "      <td>1.000000</td>\n",
              "      <td>0.059140</td>\n",
              "      <td>-0.124333</td>\n",
              "      <td>-0.030663</td>\n",
              "      <td>-0.073593</td>\n",
              "      <td>0.073220</td>\n",
              "      <td>-0.009645</td>\n",
              "      <td>0.319218</td>\n",
              "    </tr>\n",
              "    <tr>\n",
              "      <th>OpenPorchSF</th>\n",
              "      <td>-0.013128</td>\n",
              "      <td>0.141244</td>\n",
              "      <td>0.080940</td>\n",
              "      <td>0.125444</td>\n",
              "      <td>0.103791</td>\n",
              "      <td>0.005953</td>\n",
              "      <td>0.124599</td>\n",
              "      <td>0.231120</td>\n",
              "      <td>0.193197</td>\n",
              "      <td>0.207257</td>\n",
              "      <td>...</td>\n",
              "      <td>0.311292</td>\n",
              "      <td>0.228377</td>\n",
              "      <td>0.059140</td>\n",
              "      <td>1.000000</td>\n",
              "      <td>-0.083920</td>\n",
              "      <td>0.010470</td>\n",
              "      <td>0.082661</td>\n",
              "      <td>0.071939</td>\n",
              "      <td>-0.017724</td>\n",
              "      <td>0.295649</td>\n",
              "    </tr>\n",
              "    <tr>\n",
              "      <th>EnclosedPorch</th>\n",
              "      <td>-0.006266</td>\n",
              "      <td>0.021079</td>\n",
              "      <td>-0.030495</td>\n",
              "      <td>-0.109667</td>\n",
              "      <td>-0.110351</td>\n",
              "      <td>0.039125</td>\n",
              "      <td>-0.011285</td>\n",
              "      <td>-0.113832</td>\n",
              "      <td>-0.090461</td>\n",
              "      <td>0.059782</td>\n",
              "      <td>...</td>\n",
              "      <td>-0.013543</td>\n",
              "      <td>-0.132514</td>\n",
              "      <td>-0.124333</td>\n",
              "      <td>-0.083920</td>\n",
              "      <td>1.000000</td>\n",
              "      <td>-0.011936</td>\n",
              "      <td>-0.070620</td>\n",
              "      <td>0.071207</td>\n",
              "      <td>0.019234</td>\n",
              "      <td>-0.142760</td>\n",
              "    </tr>\n",
              "    <tr>\n",
              "      <th>3SsnPorch</th>\n",
              "      <td>-0.071599</td>\n",
              "      <td>0.087796</td>\n",
              "      <td>0.001062</td>\n",
              "      <td>0.018223</td>\n",
              "      <td>0.012685</td>\n",
              "      <td>-0.022883</td>\n",
              "      <td>0.001213</td>\n",
              "      <td>-0.002567</td>\n",
              "      <td>0.005258</td>\n",
              "      <td>-0.033757</td>\n",
              "      <td>...</td>\n",
              "      <td>-0.027748</td>\n",
              "      <td>0.003077</td>\n",
              "      <td>-0.030663</td>\n",
              "      <td>0.010470</td>\n",
              "      <td>-0.011936</td>\n",
              "      <td>1.000000</td>\n",
              "      <td>-0.001923</td>\n",
              "      <td>0.036992</td>\n",
              "      <td>0.002474</td>\n",
              "      <td>0.002554</td>\n",
              "    </tr>\n",
              "    <tr>\n",
              "      <th>ScreenPorch</th>\n",
              "      <td>-0.010978</td>\n",
              "      <td>0.050574</td>\n",
              "      <td>0.034130</td>\n",
              "      <td>0.061047</td>\n",
              "      <td>0.056374</td>\n",
              "      <td>0.090880</td>\n",
              "      <td>-0.021398</td>\n",
              "      <td>0.065655</td>\n",
              "      <td>0.064704</td>\n",
              "      <td>0.035655</td>\n",
              "      <td>...</td>\n",
              "      <td>0.077138</td>\n",
              "      <td>0.036621</td>\n",
              "      <td>-0.073593</td>\n",
              "      <td>0.082661</td>\n",
              "      <td>-0.070620</td>\n",
              "      <td>-0.001923</td>\n",
              "      <td>1.000000</td>\n",
              "      <td>0.071258</td>\n",
              "      <td>0.032644</td>\n",
              "      <td>0.091346</td>\n",
              "    </tr>\n",
              "    <tr>\n",
              "      <th>PoolArea</th>\n",
              "      <td>0.036051</td>\n",
              "      <td>0.197665</td>\n",
              "      <td>0.062334</td>\n",
              "      <td>0.011526</td>\n",
              "      <td>0.128764</td>\n",
              "      <td>0.045646</td>\n",
              "      <td>-0.048565</td>\n",
              "      <td>0.094134</td>\n",
              "      <td>0.091478</td>\n",
              "      <td>0.072789</td>\n",
              "      <td>...</td>\n",
              "      <td>0.129183</td>\n",
              "      <td>0.036707</td>\n",
              "      <td>0.073220</td>\n",
              "      <td>0.071939</td>\n",
              "      <td>0.071207</td>\n",
              "      <td>0.036992</td>\n",
              "      <td>0.071258</td>\n",
              "      <td>1.000000</td>\n",
              "      <td>0.030766</td>\n",
              "      <td>0.059956</td>\n",
              "    </tr>\n",
              "    <tr>\n",
              "      <th>MiscVal</th>\n",
              "      <td>-0.007052</td>\n",
              "      <td>0.002231</td>\n",
              "      <td>0.037425</td>\n",
              "      <td>-0.029814</td>\n",
              "      <td>0.003413</td>\n",
              "      <td>0.005032</td>\n",
              "      <td>-0.024475</td>\n",
              "      <td>-0.019423</td>\n",
              "      <td>-0.022289</td>\n",
              "      <td>0.015875</td>\n",
              "      <td>...</td>\n",
              "      <td>-0.003889</td>\n",
              "      <td>-0.028139</td>\n",
              "      <td>-0.009645</td>\n",
              "      <td>-0.017724</td>\n",
              "      <td>0.019234</td>\n",
              "      <td>0.002474</td>\n",
              "      <td>0.032644</td>\n",
              "      <td>0.030766</td>\n",
              "      <td>1.000000</td>\n",
              "      <td>-0.022142</td>\n",
              "    </tr>\n",
              "    <tr>\n",
              "      <th>SalePrice</th>\n",
              "      <td>-0.006682</td>\n",
              "      <td>0.307920</td>\n",
              "      <td>0.273001</td>\n",
              "      <td>0.470849</td>\n",
              "      <td>0.387194</td>\n",
              "      <td>-0.014497</td>\n",
              "      <td>0.224964</td>\n",
              "      <td>0.623177</td>\n",
              "      <td>0.619533</td>\n",
              "      <td>0.324805</td>\n",
              "      <td>...</td>\n",
              "      <td>0.719171</td>\n",
              "      <td>0.629930</td>\n",
              "      <td>0.319218</td>\n",
              "      <td>0.295649</td>\n",
              "      <td>-0.142760</td>\n",
              "      <td>0.002554</td>\n",
              "      <td>0.091346</td>\n",
              "      <td>0.059956</td>\n",
              "      <td>-0.022142</td>\n",
              "      <td>1.000000</td>\n",
              "    </tr>\n",
              "  </tbody>\n",
              "</table>\n",
              "<p>21 rows × 21 columns</p>\n",
              "</div>\n",
              "      <button class=\"colab-df-convert\" onclick=\"convertToInteractive('df-54a543f5-caa9-4bfd-8953-5b09035f8c16')\"\n",
              "              title=\"Convert this dataframe to an interactive table.\"\n",
              "              style=\"display:none;\">\n",
              "        \n",
              "  <svg xmlns=\"http://www.w3.org/2000/svg\" height=\"24px\"viewBox=\"0 0 24 24\"\n",
              "       width=\"24px\">\n",
              "    <path d=\"M0 0h24v24H0V0z\" fill=\"none\"/>\n",
              "    <path d=\"M18.56 5.44l.94 2.06.94-2.06 2.06-.94-2.06-.94-.94-2.06-.94 2.06-2.06.94zm-11 1L8.5 8.5l.94-2.06 2.06-.94-2.06-.94L8.5 2.5l-.94 2.06-2.06.94zm10 10l.94 2.06.94-2.06 2.06-.94-2.06-.94-.94-2.06-.94 2.06-2.06.94z\"/><path d=\"M17.41 7.96l-1.37-1.37c-.4-.4-.92-.59-1.43-.59-.52 0-1.04.2-1.43.59L10.3 9.45l-7.72 7.72c-.78.78-.78 2.05 0 2.83L4 21.41c.39.39.9.59 1.41.59.51 0 1.02-.2 1.41-.59l7.78-7.78 2.81-2.81c.8-.78.8-2.07 0-2.86zM5.41 20L4 18.59l7.72-7.72 1.47 1.35L5.41 20z\"/>\n",
              "  </svg>\n",
              "      </button>\n",
              "      \n",
              "  <style>\n",
              "    .colab-df-container {\n",
              "      display:flex;\n",
              "      flex-wrap:wrap;\n",
              "      gap: 12px;\n",
              "    }\n",
              "\n",
              "    .colab-df-convert {\n",
              "      background-color: #E8F0FE;\n",
              "      border: none;\n",
              "      border-radius: 50%;\n",
              "      cursor: pointer;\n",
              "      display: none;\n",
              "      fill: #1967D2;\n",
              "      height: 32px;\n",
              "      padding: 0 0 0 0;\n",
              "      width: 32px;\n",
              "    }\n",
              "\n",
              "    .colab-df-convert:hover {\n",
              "      background-color: #E2EBFA;\n",
              "      box-shadow: 0px 1px 2px rgba(60, 64, 67, 0.3), 0px 1px 3px 1px rgba(60, 64, 67, 0.15);\n",
              "      fill: #174EA6;\n",
              "    }\n",
              "\n",
              "    [theme=dark] .colab-df-convert {\n",
              "      background-color: #3B4455;\n",
              "      fill: #D2E3FC;\n",
              "    }\n",
              "\n",
              "    [theme=dark] .colab-df-convert:hover {\n",
              "      background-color: #434B5C;\n",
              "      box-shadow: 0px 1px 3px 1px rgba(0, 0, 0, 0.15);\n",
              "      filter: drop-shadow(0px 1px 2px rgba(0, 0, 0, 0.3));\n",
              "      fill: #FFFFFF;\n",
              "    }\n",
              "  </style>\n",
              "\n",
              "      <script>\n",
              "        const buttonEl =\n",
              "          document.querySelector('#df-54a543f5-caa9-4bfd-8953-5b09035f8c16 button.colab-df-convert');\n",
              "        buttonEl.style.display =\n",
              "          google.colab.kernel.accessAllowed ? 'block' : 'none';\n",
              "\n",
              "        async function convertToInteractive(key) {\n",
              "          const element = document.querySelector('#df-54a543f5-caa9-4bfd-8953-5b09035f8c16');\n",
              "          const dataTable =\n",
              "            await google.colab.kernel.invokeFunction('convertToInteractive',\n",
              "                                                     [key], {});\n",
              "          if (!dataTable) return;\n",
              "\n",
              "          const docLinkHtml = 'Like what you see? Visit the ' +\n",
              "            '<a target=\"_blank\" href=https://colab.research.google.com/notebooks/data_table.ipynb>data table notebook</a>'\n",
              "            + ' to learn more about interactive tables.';\n",
              "          element.innerHTML = '';\n",
              "          dataTable['output_type'] = 'display_data';\n",
              "          await google.colab.output.renderOutput(dataTable, element);\n",
              "          const docLink = document.createElement('div');\n",
              "          docLink.innerHTML = docLinkHtml;\n",
              "          element.appendChild(docLink);\n",
              "        }\n",
              "      </script>\n",
              "    </div>\n",
              "  </div>\n",
              "  "
            ],
            "text/plain": [
              "                     Id  LotFrontage   LotArea  MasVnrArea  BsmtFinSF1  \\\n",
              "Id             1.000000    -0.023181 -0.024153   -0.049997   -0.001188   \n",
              "LotFrontage   -0.023181     1.000000  0.295420    0.178562    0.209169   \n",
              "LotArea       -0.024153     0.295420  1.000000    0.103851    0.216335   \n",
              "MasVnrArea    -0.049997     0.178562  0.103851    1.000000    0.264337   \n",
              "BsmtFinSF1    -0.001188     0.209169  0.216335    0.264337    1.000000   \n",
              "BsmtFinSF2    -0.008324     0.046299  0.109316   -0.072294   -0.050626   \n",
              "BsmtUnfSF      0.000253     0.110115  0.001748    0.114099   -0.489652   \n",
              "TotalBsmtSF   -0.000224     0.337984  0.266588    0.359313    0.521872   \n",
              "1stFlrSF       0.030230     0.381594  0.304448    0.337588    0.444630   \n",
              "2ndFlrSF       0.011788     0.068289  0.055905    0.174413   -0.133129   \n",
              "LowQualFinSF  -0.059435     0.052904 -0.006462   -0.068321   -0.071622   \n",
              "GrLivArea      0.029434     0.337068  0.270378    0.383362    0.212476   \n",
              "GarageArea     0.029003     0.304458  0.188522    0.370068    0.299625   \n",
              "WoodDeckSF    -0.028575     0.076164  0.172231    0.159716    0.204737   \n",
              "OpenPorchSF   -0.013128     0.141244  0.080940    0.125444    0.103791   \n",
              "EnclosedPorch -0.006266     0.021079 -0.030495   -0.109667   -0.110351   \n",
              "3SsnPorch     -0.071599     0.087796  0.001062    0.018223    0.012685   \n",
              "ScreenPorch   -0.010978     0.050574  0.034130    0.061047    0.056374   \n",
              "PoolArea       0.036051     0.197665  0.062334    0.011526    0.128764   \n",
              "MiscVal       -0.007052     0.002231  0.037425   -0.029814    0.003413   \n",
              "SalePrice     -0.006682     0.307920  0.273001    0.470849    0.387194   \n",
              "\n",
              "               BsmtFinSF2  BsmtUnfSF  TotalBsmtSF  1stFlrSF  2ndFlrSF  ...  \\\n",
              "Id              -0.008324   0.000253    -0.000224  0.030230  0.011788  ...   \n",
              "LotFrontage      0.046299   0.110115     0.337984  0.381594  0.068289  ...   \n",
              "LotArea          0.109316   0.001748     0.266588  0.304448  0.055905  ...   \n",
              "MasVnrArea      -0.072294   0.114099     0.359313  0.337588  0.174413  ...   \n",
              "BsmtFinSF1      -0.050626  -0.489652     0.521872  0.444630 -0.133129  ...   \n",
              "BsmtFinSF2       1.000000  -0.211020     0.100786  0.091619 -0.100516  ...   \n",
              "BsmtUnfSF       -0.211020   1.000000     0.421756  0.326318  0.009316  ...   \n",
              "TotalBsmtSF      0.100786   0.421756     1.000000  0.823311 -0.162726  ...   \n",
              "1stFlrSF         0.091619   0.326318     0.823311  1.000000 -0.186810  ...   \n",
              "2ndFlrSF        -0.100516   0.009316    -0.162726 -0.186810  1.000000  ...   \n",
              "LowQualFinSF     0.018282   0.016516    -0.055522 -0.042774  0.056762  ...   \n",
              "GrLivArea       -0.013810   0.250572     0.470448  0.582692  0.684406  ...   \n",
              "GarageArea      -0.020719   0.191709     0.496310  0.502380  0.143838  ...   \n",
              "WoodDeckSF       0.067792  -0.004603     0.230334  0.232815  0.090658  ...   \n",
              "OpenPorchSF      0.005953   0.124599     0.231120  0.193197  0.207257  ...   \n",
              "EnclosedPorch    0.039125  -0.011285    -0.113832 -0.090461  0.059782  ...   \n",
              "3SsnPorch       -0.022883   0.001213    -0.002567  0.005258 -0.033757  ...   \n",
              "ScreenPorch      0.090880  -0.021398     0.065655  0.064704  0.035655  ...   \n",
              "PoolArea         0.045646  -0.048565     0.094134  0.091478  0.072789  ...   \n",
              "MiscVal          0.005032  -0.024475    -0.019423 -0.022289  0.015875  ...   \n",
              "SalePrice       -0.014497   0.224964     0.623177  0.619533  0.324805  ...   \n",
              "\n",
              "               GrLivArea  GarageArea  WoodDeckSF  OpenPorchSF  EnclosedPorch  \\\n",
              "Id              0.029434    0.029003   -0.028575    -0.013128      -0.006266   \n",
              "LotFrontage     0.337068    0.304458    0.076164     0.141244       0.021079   \n",
              "LotArea         0.270378    0.188522    0.172231     0.080940      -0.030495   \n",
              "MasVnrArea      0.383362    0.370068    0.159716     0.125444      -0.109667   \n",
              "BsmtFinSF1      0.212476    0.299625    0.204737     0.103791      -0.110351   \n",
              "BsmtFinSF2     -0.013810   -0.020719    0.067792     0.005953       0.039125   \n",
              "BsmtUnfSF       0.250572    0.191709   -0.004603     0.124599      -0.011285   \n",
              "TotalBsmtSF     0.470448    0.496310    0.230334     0.231120      -0.113832   \n",
              "1stFlrSF        0.582692    0.502380    0.232815     0.193197      -0.090461   \n",
              "2ndFlrSF        0.684406    0.143838    0.090658     0.207257       0.059782   \n",
              "LowQualFinSF    0.102664   -0.084734   -0.024586     0.028028       0.074842   \n",
              "GrLivArea       1.000000    0.481379    0.242156     0.311292      -0.013543   \n",
              "GarageArea      0.481379    1.000000    0.222911     0.228377      -0.132514   \n",
              "WoodDeckSF      0.242156    0.222911    1.000000     0.059140      -0.124333   \n",
              "OpenPorchSF     0.311292    0.228377    0.059140     1.000000      -0.083920   \n",
              "EnclosedPorch  -0.013543   -0.132514   -0.124333    -0.083920       1.000000   \n",
              "3SsnPorch      -0.027748    0.003077   -0.030663     0.010470      -0.011936   \n",
              "ScreenPorch     0.077138    0.036621   -0.073593     0.082661      -0.070620   \n",
              "PoolArea        0.129183    0.036707    0.073220     0.071939       0.071207   \n",
              "MiscVal        -0.003889   -0.028139   -0.009645    -0.017724       0.019234   \n",
              "SalePrice       0.719171    0.629930    0.319218     0.295649      -0.142760   \n",
              "\n",
              "               3SsnPorch  ScreenPorch  PoolArea   MiscVal  SalePrice  \n",
              "Id             -0.071599    -0.010978  0.036051 -0.007052  -0.006682  \n",
              "LotFrontage     0.087796     0.050574  0.197665  0.002231   0.307920  \n",
              "LotArea         0.001062     0.034130  0.062334  0.037425   0.273001  \n",
              "MasVnrArea      0.018223     0.061047  0.011526 -0.029814   0.470849  \n",
              "BsmtFinSF1      0.012685     0.056374  0.128764  0.003413   0.387194  \n",
              "BsmtFinSF2     -0.022883     0.090880  0.045646  0.005032  -0.014497  \n",
              "BsmtUnfSF       0.001213    -0.021398 -0.048565 -0.024475   0.224964  \n",
              "TotalBsmtSF    -0.002567     0.065655  0.094134 -0.019423   0.623177  \n",
              "1stFlrSF        0.005258     0.064704  0.091478 -0.022289   0.619533  \n",
              "2ndFlrSF       -0.033757     0.035655  0.072789  0.015875   0.324805  \n",
              "LowQualFinSF    0.031784     0.043275  0.087207 -0.002498  -0.049068  \n",
              "GrLivArea      -0.027748     0.077138  0.129183 -0.003889   0.719171  \n",
              "GarageArea      0.003077     0.036621  0.036707 -0.028139   0.629930  \n",
              "WoodDeckSF     -0.030663    -0.073593  0.073220 -0.009645   0.319218  \n",
              "OpenPorchSF     0.010470     0.082661  0.071939 -0.017724   0.295649  \n",
              "EnclosedPorch  -0.011936    -0.070620  0.071207  0.019234  -0.142760  \n",
              "3SsnPorch       1.000000    -0.001923  0.036992  0.002474   0.002554  \n",
              "ScreenPorch    -0.001923     1.000000  0.071258  0.032644   0.091346  \n",
              "PoolArea        0.036992     0.071258  1.000000  0.030766   0.059956  \n",
              "MiscVal         0.002474     0.032644  0.030766  1.000000  -0.022142  \n",
              "SalePrice       0.002554     0.091346  0.059956 -0.022142   1.000000  \n",
              "\n",
              "[21 rows x 21 columns]"
            ]
          },
          "execution_count": 26,
          "metadata": {},
          "output_type": "execute_result"
        }
      ],
      "source": [
        "house_price_df.corr()"
      ]
    },
    {
      "attachments": {},
      "cell_type": "markdown",
      "metadata": {
        "id": "t4wHWM5ImWrB"
      },
      "source": [
        "¿existen variables muy correlacionadas entre sí?"
      ]
    },
    {
      "cell_type": "code",
      "execution_count": null,
      "metadata": {
        "id": "dpYh_T2gmYJJ"
      },
      "outputs": [],
      "source": [
        "# Aunque se observa que existen bastante interrelación entre las variables explicativas, tanto positivas y negativas, estas correlaciones\n",
        "# no lo son fuerte o muy correlacionadas entre si.\n",
        "# Opcionalmente, se pueden tomar algunas medidas para evitar esto, como por ejemplo eliminar variables redundantes, realizar algunas\n",
        "# transformaciones de variables, esto puede ayuda a reducir lo efectos no deseados y mejorar la interpretación del modelo de regresión \n",
        "# lineal."
      ]
    },
    {
      "attachments": {},
      "cell_type": "markdown",
      "metadata": {
        "id": "BFQjlu7Lmyuz"
      },
      "source": [
        "¿Por qué cree que ocurre?"
      ]
    },
    {
      "cell_type": "code",
      "execution_count": null,
      "metadata": {
        "id": "eWeLJmCJmzOA"
      },
      "outputs": [],
      "source": [
        "# Algunas variables antiene una dependencia entre ellas porque, en este caso, algunas valores corresponden a medidas de las\n",
        "# viviendas, las que van definiendo sus características y tratandose de medidas, algunas de estas pueden depender de otras para\n",
        "# determinar su valor, es el caso de la medida de la superficie de la vivienda, esta esta relacionada con las medidas o distancias\n",
        "# de el frente y el fondo del terreno, medidas que determina las colindantes del terreno. \n",
        "# otro ejemplo, son las medidas del sótano, que se prenta en varias configuraciones.\n",
        "# En resumen, muchas variables estan descriven sus medidas en distancias, por lo que al aumentar estas unidades, lo hacen todas \n",
        "# las que dependen de esta unidad, es decir, si aumenta la superficie, aumentan todas que dependen de las superficies y viceversa."
      ]
    },
    {
      "attachments": {},
      "cell_type": "markdown",
      "metadata": {
        "id": "5492ygjkorGa"
      },
      "source": [
        "\n",
        "e) Suponga que este es un problema de gran volumen, donde tenemos\n",
        "muchas columnas y registros. Cuando existen variables muy\n",
        "correlacionadas el costo computacional para obtener el modelo puede\n",
        "ser muy elevado. Obtenga el tiempo de procesamiento para obtener\n",
        "una regresión lineal. Para esto, podemos obtener la regresión lineal\n",
        "utilizando la función LinearRegression de sklearn.linear_model y\n",
        "calcular el tiempo de procesamiento de la siguiente forma:\n",
        "\n",
        "`from datetime import datetime`\n",
        "\n",
        "`start=datetime.now()`\n",
        "\n",
        "[aquí va el código del modelo]\n",
        "\n",
        "`print(datetime.now()-start)` #esto entrega el tiempo que demoró\n",
        "en correr el modelo."
      ]
    },
    {
      "cell_type": "code",
      "execution_count": 13,
      "metadata": {
        "id": "lQZc5hzwyR21"
      },
      "outputs": [],
      "source": [
        "# definición de variables predictoras\n",
        "X = house_price_df.drop('SalePrice', axis=1).values\n",
        "# definición de variable objetivo\n",
        "y = house_price_df.SalePrice.values\n",
        "\n",
        "# X_train, X_test, y_train, y_test = split_dataset(X,y, 0.8)"
      ]
    },
    {
      "cell_type": "code",
      "execution_count": 18,
      "metadata": {
        "colab": {
          "base_uri": "https://localhost:8080/",
          "height": 712
        },
        "id": "ttEHmEEQrQfV",
        "outputId": "14355c81-0dd2-4361-daf8-794403e517c7"
      },
      "outputs": [
        {
          "data": {
            "application/vnd.google.colaboratory.intrinsic+json": {
              "type": "string"
            },
            "text/plain": [
              "'Cross-Validation Scores:'"
            ]
          },
          "metadata": {},
          "output_type": "display_data"
        },
        {
          "data": {
            "text/plain": [
              "array([0.75603412, 0.69874944, 0.75977168, 0.68804342, 0.44732613])"
            ]
          },
          "metadata": {},
          "output_type": "display_data"
        },
        {
          "data": {
            "application/vnd.google.colaboratory.intrinsic+json": {
              "type": "string"
            },
            "text/plain": [
              "'Average Score:'"
            ]
          },
          "metadata": {},
          "output_type": "display_data"
        },
        {
          "data": {
            "text/plain": [
              "0.6699849594791816"
            ]
          },
          "metadata": {},
          "output_type": "display_data"
        },
        {
          "name": "stdout",
          "output_type": "stream",
          "text": [
            "Model Score: 0.7694922365002874\n"
          ]
        },
        {
          "data": {
            "application/vnd.google.colaboratory.intrinsic+json": {
              "type": "string"
            },
            "text/plain": [
              "'Coefficients:'"
            ]
          },
          "metadata": {},
          "output_type": "display_data"
        },
        {
          "data": {
            "text/plain": [
              "array([ -4.44484862, -92.60735149,   0.20546782,  39.45078454,\n",
              "       -45.58332364, -65.70365719, -55.6422756 ,  94.60531317,\n",
              "       -39.58043971, -30.60693798, -96.86200126,  94.48519065,\n",
              "        90.48003892,  51.41449803,  36.7436932 , -61.71422139,\n",
              "        61.84543185,  53.95447821, -61.53642123,  -0.74990037])"
            ]
          },
          "metadata": {},
          "output_type": "display_data"
        },
        {
          "data": {
            "application/vnd.google.colaboratory.intrinsic+json": {
              "type": "string"
            },
            "text/plain": [
              "'Intercept:'"
            ]
          },
          "metadata": {},
          "output_type": "display_data"
        },
        {
          "data": {
            "text/plain": [
              "3405.696091551392"
            ]
          },
          "metadata": {},
          "output_type": "display_data"
        },
        {
          "name": "stdout",
          "output_type": "stream",
          "text": [
            "(292,) (292,) (292,)\n",
            "\n",
            "Tiempo que demoró en correr el modelo: 0:00:00.184587\n"
          ]
        },
        {
          "data": {
            "image/png": "[encoded data removed]",
            "text/plain": [
              "<Figure size 640x480 with 1 Axes>"
            ]
          },
          "metadata": {},
          "output_type": "display_data"
        }
      ],
      "source": [
        "start=datetime.now()\n",
        "##########################################################################\n",
        "\n",
        "# crear datos de entrenamiento y prueba, luego crear modelo t predecir\n",
        "crear_entrenar_pred_modelo(X,y, train_size=0.8)\n",
        "\n",
        "##########################################################################\n",
        "print(f\"\\nTiempo que demoró en correr el modelo: {datetime.now()-start}\")"
      ]
    },
    {
      "attachments": {},
      "cell_type": "markdown",
      "metadata": {
        "id": "o0dCjQlUrP31"
      },
      "source": [
        "f) Obtenga las componentes principales utilizando las variables\n",
        "estandarizadas, si desea explicar un 80% de la variabilidad."
      ]
    },
    {
      "cell_type": "code",
      "execution_count": 19,
      "metadata": {
        "colab": {
          "base_uri": "https://localhost:8080/"
        },
        "id": "YGkGxdyfrReF",
        "outputId": "5f1baf1a-f8b4-4dd2-fd64-637fbdd1d731"
      },
      "outputs": [
        {
          "name": "stdout",
          "output_type": "stream",
          "text": [
            "Number of components: 1\n"
          ]
        }
      ],
      "source": [
        "# determinar mínimo de variables mediante compresor PCA\n",
        "pca, X_pca = pca(X)"
      ]
    },
    {
      "cell_type": "code",
      "execution_count": 20,
      "metadata": {
        "id": "dOOBcxVPtWer"
      },
      "outputs": [],
      "source": [
        "# Generar set de variables para emplear en el modelo\n",
        "X_reconstructed = pca.inverse_transform(X_pca)"
      ]
    },
    {
      "cell_type": "code",
      "execution_count": 22,
      "metadata": {
        "colab": {
          "base_uri": "https://localhost:8080/",
          "height": 712
        },
        "id": "Q9xHCL3ALjMK",
        "outputId": "56046f7a-cf36-4c9e-d267-15c017b12209"
      },
      "outputs": [
        {
          "data": {
            "application/vnd.google.colaboratory.intrinsic+json": {
              "type": "string"
            },
            "text/plain": [
              "'Cross-Validation Scores:'"
            ]
          },
          "metadata": {},
          "output_type": "display_data"
        },
        {
          "data": {
            "text/plain": [
              "array([ 0.08484942, -0.11244776,  0.09499486,  0.05569006,  0.0746489 ])"
            ]
          },
          "metadata": {},
          "output_type": "display_data"
        },
        {
          "data": {
            "application/vnd.google.colaboratory.intrinsic+json": {
              "type": "string"
            },
            "text/plain": [
              "'Average Score:'"
            ]
          },
          "metadata": {},
          "output_type": "display_data"
        },
        {
          "data": {
            "text/plain": [
              "0.039547096782677316"
            ]
          },
          "metadata": {},
          "output_type": "display_data"
        },
        {
          "name": "stdout",
          "output_type": "stream",
          "text": [
            "Model Score: 0.0694250385468439\n"
          ]
        },
        {
          "data": {
            "application/vnd.google.colaboratory.intrinsic+json": {
              "type": "string"
            },
            "text/plain": [
              "'Coefficients:'"
            ]
          },
          "metadata": {},
          "output_type": "display_data"
        },
        {
          "data": {
            "text/plain": [
              "array([-8.41538246e+11, -5.15565092e+10,  5.03265897e+10, -4.10565523e+10,\n",
              "        4.62323615e+11,  1.55639915e+10, -1.22358227e+12, -7.61548860e+12,\n",
              "       -2.33894221e+10, -5.52832615e+11, -9.23928533e+09,  2.72041586e+12,\n",
              "       -7.94760889e+11, -3.18990406e+10, -1.55439906e+10,  3.75534021e+10,\n",
              "       -2.40451545e+09, -6.05870806e+10,  3.70960363e+09,  1.41496216e+11])"
            ]
          },
          "metadata": {},
          "output_type": "display_data"
        },
        {
          "data": {
            "application/vnd.google.colaboratory.intrinsic+json": {
              "type": "string"
            },
            "text/plain": [
              "'Intercept:'"
            ]
          },
          "metadata": {},
          "output_type": "display_data"
        },
        {
          "data": {
            "text/plain": [
              "5072560795400318.0"
            ]
          },
          "metadata": {},
          "output_type": "display_data"
        },
        {
          "name": "stdout",
          "output_type": "stream",
          "text": [
            "(292,) (292,) (292,)\n",
            "\n",
            "Tiempo que demoró en correr el modelo: 0:00:00.161591\n"
          ]
        },
        {
          "data": {
            "image/png": "[encoded data removed]",
            "text/plain": [
              "<Figure size 640x480 with 1 Axes>"
            ]
          },
          "metadata": {},
          "output_type": "display_data"
        }
      ],
      "source": [
        "start=datetime.now()\n",
        "##########################################################################\n",
        "\n",
        "# crear datos de entrenamiento y prueba, luego crear modelo t predecir\n",
        "# empleando las variable mínimas generadas por el compresor PCA\n",
        "crear_entrenar_pred_modelo(X_reconstructed, y, train_size=0.8)\n",
        "\n",
        "##########################################################################\n",
        "print(f\"\\nTiempo que demoró en correr el modelo: {datetime.now()-start}\")"
      ]
    },
    {
      "attachments": {},
      "cell_type": "markdown",
      "metadata": {
        "id": "zvls8TeMmAmT"
      },
      "source": [
        "¿cuántas componentes debería elegir? Argumente."
      ]
    },
    {
      "cell_type": "code",
      "execution_count": null,
      "metadata": {
        "id": "892LtY6qShVv"
      },
      "outputs": [],
      "source": [
        "# Para minimizar el espacio de almacenamiento y tiempo de procesamiento con menos variables\n",
        "# la representación empleando con compresor PCA, si bien redujo considerablemente el número de variables a 1 de las 20 variables, \n",
        "# el resultado mantiene la tendencia y redujo el número de elementos lo que mejora notoriamente el rendimiento del modelo."
      ]
    },
    {
      "attachments": {},
      "cell_type": "markdown",
      "metadata": {
        "id": "IvWCEmB5rRQ9"
      },
      "source": [
        "g) Corra el modelo de regresión lineal con las componentes principales como variables predictoras. Vuelva a calcular el tiempo de procesamiento."
      ]
    },
    {
      "cell_type": "code",
      "execution_count": 23,
      "metadata": {
        "colab": {
          "base_uri": "https://localhost:8080/"
        },
        "id": "Vj0SJkp8tWb2",
        "outputId": "a87a6c57-6fe0-42ac-c796-82f6e0e41a03"
      },
      "outputs": [
        {
          "data": {
            "text/plain": [
              "(1460, 2)"
            ]
          },
          "execution_count": 23,
          "metadata": {},
          "output_type": "execute_result"
        }
      ],
      "source": [
        "reducer = umap.UMAP()\n",
        "reducer.fit(X)\n",
        "X_umap = reducer.transform(X)\n",
        "X_umap.shape"
      ]
    },
    {
      "cell_type": "code",
      "execution_count": 24,
      "metadata": {
        "id": "yYpk3XRuRD9a"
      },
      "outputs": [],
      "source": [
        "X_reconstructed = reducer.inverse_transform(X_umap)"
      ]
    },
    {
      "cell_type": "code",
      "execution_count": 25,
      "metadata": {
        "colab": {
          "base_uri": "https://localhost:8080/",
          "height": 729
        },
        "id": "oWyvcVtktWYj",
        "outputId": "7e7bafdf-561a-4e82-92df-27c58878581e"
      },
      "outputs": [
        {
          "data": {
            "application/vnd.google.colaboratory.intrinsic+json": {
              "type": "string"
            },
            "text/plain": [
              "'Cross-Validation Scores:'"
            ]
          },
          "metadata": {},
          "output_type": "display_data"
        },
        {
          "data": {
            "text/plain": [
              "array([0.52365277, 0.53725512, 0.48126203, 0.49806312, 0.53071112])"
            ]
          },
          "metadata": {},
          "output_type": "display_data"
        },
        {
          "data": {
            "application/vnd.google.colaboratory.intrinsic+json": {
              "type": "string"
            },
            "text/plain": [
              "'Average Score:'"
            ]
          },
          "metadata": {},
          "output_type": "display_data"
        },
        {
          "data": {
            "text/plain": [
              "0.5141888336060546"
            ]
          },
          "metadata": {},
          "output_type": "display_data"
        },
        {
          "name": "stdout",
          "output_type": "stream",
          "text": [
            "Model Score: 0.5332691707707915\n"
          ]
        },
        {
          "data": {
            "application/vnd.google.colaboratory.intrinsic+json": {
              "type": "string"
            },
            "text/plain": [
              "'Coefficients:'"
            ]
          },
          "metadata": {},
          "output_type": "display_data"
        },
        {
          "data": {
            "text/plain": [
              "array([  -5.413624 ,  105.12101  ,   -1.2110176,   43.469044 ,\n",
              "       -100.52632  , -207.77971  , -127.97697  ,  160.0188   ,\n",
              "        -49.704155 ,  -82.769165 , -195.43341  ,  160.33931  ,\n",
              "         51.688015 ,   91.58609  ,  144.15823  ,  -46.338196 ,\n",
              "        -48.558342 , -103.7955   ,  471.4744   ,    8.623023 ],\n",
              "      dtype=float32)"
            ]
          },
          "metadata": {},
          "output_type": "display_data"
        },
        {
          "data": {
            "application/vnd.google.colaboratory.intrinsic+json": {
              "type": "string"
            },
            "text/plain": [
              "'Intercept:'"
            ]
          },
          "metadata": {},
          "output_type": "display_data"
        },
        {
          "data": {
            "text/plain": [
              "-49473.17"
            ]
          },
          "metadata": {},
          "output_type": "display_data"
        },
        {
          "name": "stdout",
          "output_type": "stream",
          "text": [
            "(292,) (292,) (292,)\n",
            "\n",
            "Tiempo que demoró en correr el modelo: 0:00:00.183888\n"
          ]
        },
        {
          "data": {
            "image/png": "[encoded data removed]",
            "text/plain": [
              "<Figure size 640x480 with 1 Axes>"
            ]
          },
          "metadata": {},
          "output_type": "display_data"
        }
      ],
      "source": [
        "start=datetime.now()\n",
        "##########################################################################\n",
        "\n",
        "# crear datos de entrenamiento y prueba, luego crear modelo t predecir\n",
        "crear_entrenar_pred_modelo(X_reconstructed,y, train_size=0.8)\n",
        "\n",
        "##########################################################################\n",
        "print(f\"\\nTiempo que demoró en correr el modelo: {datetime.now()-start}\")"
      ]
    },
    {
      "cell_type": "code",
      "execution_count": null,
      "metadata": {
        "id": "zccRJzndSOHY"
      },
      "outputs": [],
      "source": [
        "# la representación empleando con compresor UMAP es la màs cercada a la representación original, siendo que emplea 2 de las 20 \n",
        "# variables, el resultado es muy satisfactorio."
      ]
    },
    {
      "attachments": {},
      "cell_type": "markdown",
      "metadata": {
        "id": "3wzKSN9zjNZv"
      },
      "source": [
        "¿En cuál caso suele demorarse menos?"
      ]
    },
    {
      "cell_type": "code",
      "execution_count": null,
      "metadata": {
        "id": "IE4wUFR4jffV"
      },
      "outputs": [],
      "source": [
        "# el que suele demorar menos es el que contiene una dimensionalidad menor."
      ]
    },
    {
      "attachments": {},
      "cell_type": "markdown",
      "metadata": {
        "id": "tH5GeDI1jgMN"
      },
      "source": [
        "¿Qué ganamos al realizar componentes principales? Concluya."
      ]
    },
    {
      "cell_type": "code",
      "execution_count": null,
      "metadata": {
        "id": "f9mszfFojuH_"
      },
      "outputs": [],
      "source": [
        "# Lo que ganamos se puede resumir en estos puntos:\n",
        "# 1. reduccion de dimensiones, \n",
        "# 2. identificacion de patrones y tendencia, \n",
        "# 3. eliminacion de variables altamente correlacionadas\n",
        "# 4. poder visualizacion de datos de alta dimensionalidad en menor dimensionalidad\n",
        "# 5. por último, la compresion de grandes volumenes de datos, posbilita optimizar su almacenamiento y su transmisión como\n",
        "#    por ejemplo una API utilizadas en la web."
      ]
    }
  ],
  "metadata": {
    "colab": {
      "provenance": []
    },
    "kernelspec": {
      "display_name": "Python 3",
      "name": "python3"
    },
    "language_info": {
      "name": "python"
    }
  },
  "nbformat": 4,
  "nbformat_minor": 0
}
