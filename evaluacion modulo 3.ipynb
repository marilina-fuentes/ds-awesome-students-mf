{
 "cells": [
  {
   "cell_type": "code",
   "execution_count": 75,
   "metadata": {},
   "outputs": [
    {
     "name": "stdout",
     "output_type": "stream",
     "text": [
      "   calorias  tiempo\n",
      "L       420      60\n",
      "M       380      40\n",
      "X       390      75\n",
      "J       490      55\n",
      "V       300      45\n"
     ]
    }
   ],
   "source": [
    "import pandas as pd\n",
    "import numpy as np\n",
    "import matplotlib.pyplot as plt\n",
    "\n",
    "\n",
    "# Creando el DataFrame\n",
    "calorias = [420, 380, 390, 490, 300]\n",
    "tiempo = [60, 40, 75, 55, 45]\n",
    "datos = {'calorias': calorias, 'tiempo': tiempo}\n",
    "index = ['L', 'M', 'X', 'J', 'V']\n",
    "df = pd.DataFrame(datos, index)\n",
    "\n",
    "print(df)\n"
   ]
  },
  {
   "cell_type": "code",
   "execution_count": 76,
   "metadata": {},
   "outputs": [
    {
     "name": "stdout",
     "output_type": "stream",
     "text": [
      "calorias    396.0\n",
      "tiempo       55.0\n",
      "dtype: float64\n",
      "calorias    390.0\n",
      "tiempo       55.0\n",
      "dtype: float64\n",
      "calorias    68.774995\n",
      "tiempo      13.693064\n",
      "dtype: float64\n"
     ]
    }
   ],
   "source": [
    "# Calculo la media, mediana y desviacion tipica\n",
    "media = df.mean()\n",
    "mediana = df.median()\n",
    "desv_tip = df.std()\n",
    "\n",
    "# Imprimo resultados\n",
    "print(media)\n",
    "print(mediana)\n",
    "print(desv_tip)"
   ]
  },
  {
   "cell_type": "code",
   "execution_count": 78,
   "metadata": {},
   "outputs": [
    {
     "name": "stdout",
     "output_type": "stream",
     "text": [
      "   calorias  tiempo   reto\n",
      "L       420      60   True\n",
      "M       380      40   True\n",
      "X       390      75  False\n",
      "J       490      55   True\n",
      "V       300      45  False\n"
     ]
    }
   ],
   "source": [
    "# 3. Añadir columna booleana\n",
    "\n",
    "# Añadir columna booleana para ver si se ha cumplido el reto de quemar mas de 400 calorías por hora\n",
    "df['reto'] = df['calorias'] / (df['tiempo']/60) > 400\n",
    "print(df)\n"
   ]
  },
  {
   "cell_type": "code",
   "execution_count": 97,
   "metadata": {},
   "outputs": [
    {
     "name": "stdout",
     "output_type": "stream",
     "text": [
      "   calorias  tiempo  reto\n",
      "L       420      60  True\n"
     ]
    },
    {
     "name": "stderr",
     "output_type": "stream",
     "text": [
      "C:\\Users\\bebit\\AppData\\Local\\Temp\\ipykernel_18200\\191628668.py:4: UserWarning: Boolean Series key will be reindexed to match DataFrame index.\n",
      "  df_filtrado = df.iloc[::2][df['calorias'] > 400]\n"
     ]
    }
   ],
   "source": [
    "#4. Filtrar el DataFrame y devolver otro DataFrame con las filas pares que cumplan que el número de calorías es mayor de 400.\n",
    "\n",
    "df_filtrado = df.iloc[::2][df['calorias'] > 400]\n",
    "# Imprimir el resultado\n",
    "print(df_filtrado)\n"
   ]
  },
  {
   "cell_type": "code",
   "execution_count": 103,
   "metadata": {},
   "outputs": [
    {
     "name": "stdout",
     "output_type": "stream",
     "text": [
      "reto\n",
      "False    40.0\n",
      "True     60.0\n",
      "Name: reto, dtype: float64\n"
     ]
    }
   ],
   "source": [
    "#5. Crear a partir del DataFrame una serie con los porcentajes de días que se ha conseguido el reto y los que no.\n",
    "\n",
    "porcentaje_reto = df.groupby('reto')['reto'].count() / len(df) * 100\n",
    "print(porcentaje_reto)\n"
   ]
  },
  {
   "cell_type": "code",
   "execution_count": 104,
   "metadata": {},
   "outputs": [
    {
     "data": {
      "text/plain": [
       "<matplotlib.legend.Legend at 0x15bebfcaad0>"
      ]
     },
     "execution_count": 104,
     "metadata": {},
     "output_type": "execute_result"
    },
    {
     "data": {
      "image/png": "[encoded data removed]",
      "text/plain": [
       "<Figure size 640x480 with 1 Axes>"
      ]
     },
     "metadata": {},
     "output_type": "display_data"
    }
   ],
   "source": [
    "#grafico de progresión de calorías y tiempo durante la semana.\n",
    "fig, ax = plt.subplots()\n",
    "\n",
    "ax.plot(df['calorias'], label='Calorías')\n",
    "ax.plot(df['tiempo'], label='Tiempo')\n",
    "\n",
    "ax.set_xlabel('Día de la semana')\n",
    "ax.set_ylabel('Valor')\n",
    "ax.legend()\n"
   ]
  }
 ],
 "metadata": {
  "kernelspec": {
   "display_name": "Python 3",
   "language": "python",
   "name": "python3"
  },
  "language_info": {
   "codemirror_mode": {
    "name": "ipython",
    "version": 3
   },
   "file_extension": ".py",
   "mimetype": "text/x-python",
   "name": "python",
   "nbconvert_exporter": "python",
   "pygments_lexer": "ipython3",
   "version": "3.10.11"
  },
  "orig_nbformat": 4
 },
 "nbformat": 4,
 "nbformat_minor": 2
}
