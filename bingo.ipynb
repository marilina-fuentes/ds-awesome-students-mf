{
 "cells": [
  {
   "cell_type": "code",
   "execution_count": 4,
   "metadata": {},
   "outputs": [
    {
     "name": "stdout",
     "output_type": "stream",
     "text": [
      "Tabla de Bingo\n",
      "4 28 37 51 66\n",
      "10 21 31 48 75\n",
      "7 19 libre 59 61\n",
      "12 18 41 55 69\n",
      "14 24 42 58 72\n"
     ]
    }
   ],
   "source": [
    "import random\n",
    "\n",
    "# rangos \n",
    "B = list(range(1, 16))\n",
    "I = list(range(16, 31))\n",
    "N = list(range(31, 46))\n",
    "G = list(range(46, 61))\n",
    "O = list(range(61, 76))\n",
    "\n",
    "# Genera numeros aleatorios\n",
    "b_column = random.sample(B, 5)\n",
    "i_column = random.sample(I, 5)\n",
    "n_column = random.sample(N, 5)\n",
    "g_column = random.sample(G, 5)\n",
    "o_column = random.sample(O, 5)\n",
    "\n",
    "# para dejar una casilla libre\n",
    "n_column[2] = 'libre'\n",
    "\n",
    "# tabla crada con diccionario\n",
    "tabla_bingo = {'B': b_column,\n",
    "               'I': i_column,\n",
    "               'N': n_column,\n",
    "               'G': g_column,\n",
    "               'O': o_column}\n",
    "\n",
    "# Imprime la tabla de bingo formateada\n",
    "print('Tabla de Bingo')\n",
    "for i in range(5):\n",
    "    print(tabla_bingo['B'][i], tabla_bingo['I'][i], tabla_bingo['N'][i], tabla_bingo['G'][i], tabla_bingo['O'][i])\n"
   ]
  },
  {
   "cell_type": "code",
   "execution_count": null,
   "metadata": {},
   "outputs": [],
   "source": []
  }
 ],
 "metadata": {
  "kernelspec": {
   "display_name": "Python 3",
   "language": "python",
   "name": "python3"
  },
  "language_info": {
   "codemirror_mode": {
    "name": "ipython",
    "version": 3
   },
   "file_extension": ".py",
   "mimetype": "text/x-python",
   "name": "python",
   "nbconvert_exporter": "python",
   "pygments_lexer": "ipython3",
   "version": "3.10.11"
  },
  "orig_nbformat": 4
 },
 "nbformat": 4,
 "nbformat_minor": 2
}
