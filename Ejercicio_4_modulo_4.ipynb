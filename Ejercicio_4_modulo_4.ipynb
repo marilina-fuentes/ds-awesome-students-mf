{
 "cells": [
  {
   "cell_type": "code",
   "execution_count": 19,
   "metadata": {},
   "outputs": [
    {
     "name": "stdout",
     "output_type": "stream",
     "text": [
      "El tamaño mínimo de la muestra es de: 2401.0\n"
     ]
    }
   ],
   "source": [
    "# Caso 1\n",
    "# Para estimar la proporción de habitantes de una ciudad que poseen ordenador\n",
    "# personal se toma una muestra de tamaño n. Calcula el valor mínimo de n para\n",
    "# garantizar, con un nivel de confianza del 95 %, que el error de estimación no\n",
    "# supera el 2 %. (Como se desconoce la proporción, se hará a partir del caso más\n",
    "# desfavorable, que será 0,5).\n",
    "\n",
    "# Para determinar el tamaño mínimo de la muestra, necesitamos utilizar la fórmula para el tamaño de muestra requerido para estimar una proporción, que es:\n",
    "\n",
    "# n = [ z² * p * (1-p) ] / E²\n",
    "\n",
    "# Donde:\n",
    "\n",
    "# z es el valor z crítico correspondiente al nivel de confianza deseado. Para un nivel de confianza del 95%, z es igual a 1.96.\n",
    "# p es la proporción desconocida de la población que se espera estar en la muestra. Como no se conoce esta proporción, utilizaremos el valor de 0.5, que es el \n",
    "# caso más desfavorable y genera el tamaño de muestra más grande.\n",
    "# E es el error de estimación deseado, que en este caso es del 2%, o 0.02 en términos decimales.\n",
    "# Sustituyendo los valores en la fórmula, obtenemos:\n",
    "\n",
    "# n = [ 1.96² * 0.5 * (1-0.5) ] / 0.02²\n",
    "\n",
    "# n = 600.25\n",
    "\n",
    "# Redondeando hacia arriba, el tamaño mínimo de la muestra es de n = 601 para garantizar que el error de estimación no supere el 2% con un nivel de confianza del 95%.\n",
    "\n",
    "import math\n",
    "\n",
    "# Nivel de confianza del 95%\n",
    "z = 1.96\n",
    "\n",
    "# caso más desfavorable\n",
    "p = 0.5\n",
    "\n",
    "# Error de estimación deseado del 2%\n",
    "E = 0.02\n",
    "\n",
    "# Cálculo del tamaño de la muestra\n",
    "n = ((z**2 * p * (1-p)) / E**2)\n",
    "# n = (1.96 ** 2 * 0.5 * (1 - 0.5)) / 0.02 ** 2\n",
    "\n",
    "\n",
    "# Imprimir el resultado\n",
    "print(\"El tamaño mínimo de la muestra es de:\",round(n, 4))\n"
   ]
  },
  {
   "cell_type": "code",
   "execution_count": 49,
   "metadata": {},
   "outputs": [
    {
     "name": "stdout",
     "output_type": "stream",
     "text": [
      "Se necesita una muestra de al menos 7.818 electrodomésticos para garantizar una probabilidad del 0,98 de vida media de los electrodomésticos\n"
     ]
    }
   ],
   "source": [
    "# Caso 2\n",
    "# Un fabricante de electrodomésticos sabe que la vida media de estos sigue una\n",
    "# distribución normal con media 100 meses y desviación típica 12 meses.\n",
    "# Determina el mínimo tamaño muestral que garantiza, con una probabilidad\n",
    "# de 0,98, que la vida media de los electrodomésticos en dicha muestra se\n",
    "# encuentre entre 90 y 100 meses.\n",
    "\n",
    "\n",
    "# Los valores necesarios para calcular el tamaño mínimo de la muestra son los siguientes:\n",
    "# Media poblacional (μ) = 100 meses\n",
    "# Desviación estándar de la población (σ) = 12 meses\n",
    "# Probabilidad de que la vida media de la muestra esté entre 90 y 100 meses = 0,98\n",
    "# Intervalo de confianza = 90 a 100 meses\n",
    "# Nivel de confianza = 0,98\n",
    "\n",
    "# n = ((2.33^2 * 12^2) / 10^2)\n",
    "\n",
    "import math\n",
    "\n",
    "# Definir la media y la desviación típica\n",
    "media = 100\n",
    "desviacion_tipica = 12\n",
    "\n",
    "# Definir la estadística de prueba z para una probabilidad acumulada del 0,98\n",
    "z = 2.33\n",
    "\n",
    "# Definir el tamaño de muestra mínimo requerido\n",
    "error_estandar = 10\n",
    "n = (z * desviacion_tipica / error_estandar) ** 2\n",
    "\n",
    "print(f\"Se necesita una muestra de al menos {round(n, 3)} electrodomésticos para garantizar una probabilidad del 0,98 de vida media de los electrodomésticos\")\n"
   ]
  },
  {
   "cell_type": "code",
   "execution_count": 85,
   "metadata": {},
   "outputs": [
    {
     "name": "stdout",
     "output_type": "stream",
     "text": [
      "Por lo tanto el nivel de confianza es del 99.0000%\n"
     ]
    }
   ],
   "source": [
    "# a) ¿Con qué nivel de confianza se puede afirmar que la media de la\n",
    "# población está entre 31,5 y 33,5?\n",
    "\n",
    "\n",
    "import math\n",
    "from scipy.stats import norm\n",
    "\n",
    "# Caso a)\n",
    "\n",
    "import math\n",
    "from scipy.stats import norm\n",
    "\n",
    "# Datos del problema\n",
    "x_bar = 32.5 # media muestral\n",
    "sigma = 3.2 # desviación típica\n",
    "n = 64 # tamaño de la muestra\n",
    "intervalo = [31.5, 33.5] # intervalo de confianza deseado\n",
    "\n",
    "# Calcular el valor crítico de la distribución normal estándar\n",
    "z_critico = abs(norm.ppf((1 - confianza)/2))\n",
    "\n",
    "# Calcular el error estándar de la media muestral\n",
    "error_estandar = sigma / math.sqrt(n)\n",
    "\n",
    "# Calcular los límites del intervalo de confianza para la media poblacional\n",
    "limite_inferior = x_bar - z_critico * error_estandar\n",
    "limite_superior = x_bar + z_critico * error_estandar\n",
    "\n",
    "# Verificar si el intervalo de confianza deseado está contenido en el intervalo calculado\n",
    "if intervalo[0] >= limite_inferior and intervalo[1] <= limite_superior:\n",
    "    print(f\"Por lo tanto el nivel de confianza es del {confianza*100:.4f}%\")\n",
    "else:\n",
    "    print(f\"No se puede afirmar con un nivel de confianza del {confianza*100:.4f}%\")\n",
    "\n"
   ]
  },
  {
   "cell_type": "code",
   "execution_count": 86,
   "metadata": {},
   "outputs": [
    {
     "name": "stdout",
     "output_type": "stream",
     "text": [
      "La muestra debe ser de 107 para que el error no supere el valor de 0.75\n"
     ]
    }
   ],
   "source": [
    "# b) Si la desviación típica de la población fuera 3, ¿qué tamaño mínimo\n",
    "# debería tener la muestra con la cual estimamos la media poblacional si\n",
    "# queremos que el nivel de confianza sea del 99 %, y el error admisible no\n",
    "# supere el valor de 0,75?\n",
    "\n",
    "import math\n",
    "from scipy.stats import norm\n",
    "\n",
    "# Datos del problema\n",
    "sigma = 3 # desviación típica\n",
    "confianza = 0.99 # nivel de confianza\n",
    "error_admisible = 0.75 # error admisible\n",
    "\n",
    "# Calcular el valor crítico de la distribución normal estándar\n",
    "z_critico = abs(norm.ppf((1 - confianza)/2))\n",
    "\n",
    "# Calcular el tamaño mínimo de muestra necesario\n",
    "n = math.ceil((z_critico * sigma / error_admisible)**2)\n",
    "\n",
    "# Imprimir el resultado\n",
    "print(f\"La muestra debe ser de {n} para que el error no supere el valor de 0.75\")\n",
    "\n",
    "\n"
   ]
  }
 ],
 "metadata": {
  "kernelspec": {
   "display_name": "Python 3",
   "language": "python",
   "name": "python3"
  },
  "language_info": {
   "codemirror_mode": {
    "name": "ipython",
    "version": 3
   },
   "file_extension": ".py",
   "mimetype": "text/x-python",
   "name": "python",
   "nbconvert_exporter": "python",
   "pygments_lexer": "ipython3",
   "version": "3.10.11"
  },
  "orig_nbformat": 4
 },
 "nbformat": 4,
 "nbformat_minor": 2
}
