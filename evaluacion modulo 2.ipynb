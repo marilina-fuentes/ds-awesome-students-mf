{
 "cells": [
  {
   "cell_type": "code",
   "execution_count": 14,
   "metadata": {},
   "outputs": [],
   "source": [
    "import pandas as pd\n",
    "import numpy as np"
   ]
  },
  {
   "cell_type": "code",
   "execution_count": 30,
   "metadata": {},
   "outputs": [],
   "source": [
    "#1- Cargue los tres datasets usando pandas\n",
    "\n",
    "abbrevs_df = pd.read_csv(\"C:/Users/bebit/Desktop/tareas/csv/state-abbrevs.csv\")\n",
    "area_df = pd.read_csv(\"C:/Users/bebit/Desktop/tareas/csv/state-areas.csv\")\n",
    "pop_df = pd.read_csv(\"C:/Users/bebit/Desktop/tareas/csv/state-population.csv\")"
   ]
  },
  {
   "cell_type": "code",
   "execution_count": 44,
   "metadata": {},
   "outputs": [
    {
     "name": "stdout",
     "output_type": "stream",
     "text": [
      "<class 'pandas.core.frame.DataFrame'>\n",
      "Index: 2524 entries, 0 to 2543\n",
      "Data columns (total 4 columns):\n",
      " #   Column      Non-Null Count  Dtype  \n",
      "---  ------      --------------  -----  \n",
      " 0   state       2524 non-null   object \n",
      " 1   ages        2524 non-null   object \n",
      " 2   year        2524 non-null   int64  \n",
      " 3   population  2524 non-null   float64\n",
      "dtypes: float64(1), int64(1), object(2)\n",
      "memory usage: 98.6+ KB\n"
     ]
    }
   ],
   "source": [
    "#2- Revise los datos cargados y realice las modificaciones necesarias para empezar a trabajar\n",
    "\n",
    "pop_df.info()"
   ]
  },
  {
   "cell_type": "code",
   "execution_count": 45,
   "metadata": {},
   "outputs": [],
   "source": [
    "# renombre columna 'state/region' a 'state'\n",
    "\n",
    "pop_df.rename(columns={'state/region': 'state'}, inplace=True)\n",
    "\n",
    "# Eliminar los registros con valores nulos en la columna 'population'\n",
    "pop_df.dropna(subset=['population'], inplace=True)"
   ]
  },
  {
   "cell_type": "code",
   "execution_count": 39,
   "metadata": {},
   "outputs": [
    {
     "name": "stdout",
     "output_type": "stream",
     "text": [
      "<class 'pandas.core.frame.DataFrame'>\n",
      "RangeIndex: 52 entries, 0 to 51\n",
      "Data columns (total 2 columns):\n",
      " #   Column         Non-Null Count  Dtype \n",
      "---  ------         --------------  ----- \n",
      " 0   state          52 non-null     object\n",
      " 1   area (sq. mi)  52 non-null     int64 \n",
      "dtypes: int64(1), object(1)\n",
      "memory usage: 960.0+ bytes\n"
     ]
    }
   ],
   "source": [
    "area_df.info()"
   ]
  },
  {
   "cell_type": "code",
   "execution_count": 46,
   "metadata": {},
   "outputs": [],
   "source": [
    "# Renombrar la columna 'area (sq. mi)' a 'area'\n",
    "area_df.rename(columns={'area (sq. mi)': 'area'}, inplace=True)\n"
   ]
  },
  {
   "cell_type": "code",
   "execution_count": 40,
   "metadata": {},
   "outputs": [
    {
     "name": "stdout",
     "output_type": "stream",
     "text": [
      "<class 'pandas.core.frame.DataFrame'>\n",
      "RangeIndex: 51 entries, 0 to 50\n",
      "Data columns (total 2 columns):\n",
      " #   Column        Non-Null Count  Dtype \n",
      "---  ------        --------------  ----- \n",
      " 0   state         51 non-null     object\n",
      " 1   abbreviation  51 non-null     object\n",
      "dtypes: object(2)\n",
      "memory usage: 944.0+ bytes\n"
     ]
    }
   ],
   "source": [
    "abbrevs_df.info()"
   ]
  },
  {
   "cell_type": "code",
   "execution_count": 48,
   "metadata": {},
   "outputs": [],
   "source": [
    "#3- Elimine las columnas que no aportan información\n",
    "\n",
    "pop_df.drop('year', axis=1, inplace=True)\n"
   ]
  },
  {
   "cell_type": "code",
   "execution_count": null,
   "metadata": {},
   "outputs": [],
   "source": [
    "# DataFrame area_df, no se identifican columnas que no aporten información, ya que ambas columnas (state y area (sq. mi))"
   ]
  },
  {
   "cell_type": "code",
   "execution_count": null,
   "metadata": {},
   "outputs": [],
   "source": [
    "#DataFrame abbrevs_df, no se identifican columnas que no aporten información, ya que ambas columnas (state y abbreviation)"
   ]
  },
  {
   "cell_type": "code",
   "execution_count": 50,
   "metadata": {},
   "outputs": [
    {
     "data": {
      "text/html": [
       "<div>\n",
       "<style scoped>\n",
       "    .dataframe tbody tr th:only-of-type {\n",
       "        vertical-align: middle;\n",
       "    }\n",
       "\n",
       "    .dataframe tbody tr th {\n",
       "        vertical-align: top;\n",
       "    }\n",
       "\n",
       "    .dataframe thead tr th {\n",
       "        text-align: left;\n",
       "    }\n",
       "\n",
       "    .dataframe thead tr:last-of-type th {\n",
       "        text-align: right;\n",
       "    }\n",
       "</style>\n",
       "<table border=\"1\" class=\"dataframe\">\n",
       "  <thead>\n",
       "    <tr>\n",
       "      <th></th>\n",
       "      <th></th>\n",
       "      <th colspan=\"4\" halign=\"left\">population</th>\n",
       "    </tr>\n",
       "    <tr>\n",
       "      <th></th>\n",
       "      <th></th>\n",
       "      <th>mean</th>\n",
       "      <th>min</th>\n",
       "      <th>max</th>\n",
       "      <th>count</th>\n",
       "    </tr>\n",
       "    <tr>\n",
       "      <th>state</th>\n",
       "      <th>ages</th>\n",
       "      <th></th>\n",
       "      <th></th>\n",
       "      <th></th>\n",
       "      <th></th>\n",
       "    </tr>\n",
       "  </thead>\n",
       "  <tbody>\n",
       "    <tr>\n",
       "      <th rowspan=\"2\" valign=\"top\">AK</th>\n",
       "      <th>total</th>\n",
       "      <td>6.462048e+05</td>\n",
       "      <td>553290.0</td>\n",
       "      <td>735132.0</td>\n",
       "      <td>24</td>\n",
       "    </tr>\n",
       "    <tr>\n",
       "      <th>under18</th>\n",
       "      <td>1.866730e+05</td>\n",
       "      <td>177502.0</td>\n",
       "      <td>192636.0</td>\n",
       "      <td>24</td>\n",
       "    </tr>\n",
       "    <tr>\n",
       "      <th rowspan=\"2\" valign=\"top\">AL</th>\n",
       "      <th>total</th>\n",
       "      <td>4.484528e+06</td>\n",
       "      <td>4050055.0</td>\n",
       "      <td>4833722.0</td>\n",
       "      <td>24</td>\n",
       "    </tr>\n",
       "    <tr>\n",
       "      <th>under18</th>\n",
       "      <td>1.111197e+06</td>\n",
       "      <td>1050041.0</td>\n",
       "      <td>1134927.0</td>\n",
       "      <td>24</td>\n",
       "    </tr>\n",
       "    <tr>\n",
       "      <th>AR</th>\n",
       "      <th>total</th>\n",
       "      <td>2.693178e+06</td>\n",
       "      <td>2356586.0</td>\n",
       "      <td>2959373.0</td>\n",
       "      <td>24</td>\n",
       "    </tr>\n",
       "    <tr>\n",
       "      <th>...</th>\n",
       "      <th>...</th>\n",
       "      <td>...</td>\n",
       "      <td>...</td>\n",
       "      <td>...</td>\n",
       "      <td>...</td>\n",
       "    </tr>\n",
       "    <tr>\n",
       "      <th>WI</th>\n",
       "      <th>under18</th>\n",
       "      <td>1.344394e+06</td>\n",
       "      <td>1302869.0</td>\n",
       "      <td>1370440.0</td>\n",
       "      <td>24</td>\n",
       "    </tr>\n",
       "    <tr>\n",
       "      <th rowspan=\"2\" valign=\"top\">WV</th>\n",
       "      <th>total</th>\n",
       "      <td>1.823426e+06</td>\n",
       "      <td>1792548.0</td>\n",
       "      <td>1856680.0</td>\n",
       "      <td>24</td>\n",
       "    </tr>\n",
       "    <tr>\n",
       "      <th>under18</th>\n",
       "      <td>4.049168e+05</td>\n",
       "      <td>381678.0</td>\n",
       "      <td>436797.0</td>\n",
       "      <td>24</td>\n",
       "    </tr>\n",
       "    <tr>\n",
       "      <th rowspan=\"2\" valign=\"top\">WY</th>\n",
       "      <th>total</th>\n",
       "      <td>5.103280e+05</td>\n",
       "      <td>453690.0</td>\n",
       "      <td>582658.0</td>\n",
       "      <td>24</td>\n",
       "    </tr>\n",
       "    <tr>\n",
       "      <th>under18</th>\n",
       "      <td>1.322450e+05</td>\n",
       "      <td>123974.0</td>\n",
       "      <td>137733.0</td>\n",
       "      <td>24</td>\n",
       "    </tr>\n",
       "  </tbody>\n",
       "</table>\n",
       "<p>106 rows × 4 columns</p>\n",
       "</div>"
      ],
      "text/plain": [
       "                 population                            \n",
       "                       mean        min        max count\n",
       "state ages                                             \n",
       "AK    total    6.462048e+05   553290.0   735132.0    24\n",
       "      under18  1.866730e+05   177502.0   192636.0    24\n",
       "AL    total    4.484528e+06  4050055.0  4833722.0    24\n",
       "      under18  1.111197e+06  1050041.0  1134927.0    24\n",
       "AR    total    2.693178e+06  2356586.0  2959373.0    24\n",
       "...                     ...        ...        ...   ...\n",
       "WI    under18  1.344394e+06  1302869.0  1370440.0    24\n",
       "WV    total    1.823426e+06  1792548.0  1856680.0    24\n",
       "      under18  4.049168e+05   381678.0   436797.0    24\n",
       "WY    total    5.103280e+05   453690.0   582658.0    24\n",
       "      under18  1.322450e+05   123974.0   137733.0    24\n",
       "\n",
       "[106 rows x 4 columns]"
      ]
     },
     "execution_count": 50,
     "metadata": {},
     "output_type": "execute_result"
    }
   ],
   "source": [
    "#4-Agrupe por state/region y ages, para luego agregar usando promedio, mínimo, máximo y contar\n",
    "\n",
    "#cree un nuevo DataFrame que agrupa los datos state y ages agregando los valores de population\n",
    "\n",
    "pop_df.groupby(['state', 'ages']).agg({'population': ['mean', 'min', 'max', 'count']})\n"
   ]
  },
  {
   "cell_type": "code",
   "execution_count": 52,
   "metadata": {},
   "outputs": [],
   "source": [
    "#5- Forme un nuevo dataset llamado df que tenga la información de los 3 sets importados. Use las llaves necesarias.\n",
    "\n",
    "\n",
    "# Union de pop_df con abbrevs_df\n",
    "df = pop_df.merge(abbrevs_df, on='state')\n",
    "\n",
    "# Union de el resultado con area_df\n",
    "df = df.merge(area_df, on='state')\n"
   ]
  },
  {
   "cell_type": "code",
   "execution_count": 54,
   "metadata": {},
   "outputs": [],
   "source": [
    "#6- Calcule la población por área para cada estado. Para esto agrupe por state/region y calcule el promedio de la población. Guarde dicha\n",
    "#información en un data frame con las columnas 'state' y 'pop/area' (hint: puede extraer los valores de un objeto groupby, finalizando su\n",
    "#sentencia con .values, o extraer sus etiquetas con .index)\n",
    "\n",
    "#se agrupa DataFrame df por state y se calcula el promedio de la columna population y la columna area para dividir el promedio de la población \n",
    "#por el promedio del área para obtener la población por área para cada estado.\n",
    "\n",
    "\n",
    "# Calculo promedio de la población por state/region\n",
    "pop_avg = df.groupby('state')['population'].mean()\n",
    "\n",
    "# Calculo el promedio del área por state/region\n",
    "area_avg = df.groupby('state')['area'].mean()\n",
    "\n",
    "# Calculo la población por área para cada estado\n",
    "pop_area = pop_avg / area_avg\n",
    "\n",
    "# se crea nuevo DataFrame con las columnas 'state' y 'pop/area'\n",
    "pop_area_df = pd.DataFrame({'state': pop_area.index, 'pop/area': pop_area.values})\n"
   ]
  },
  {
   "cell_type": "code",
   "execution_count": 55,
   "metadata": {},
   "outputs": [],
   "source": [
    "#7- Finalmente, cree un dataframe que posea: El estado, el área, la población, la población por área y como índice la abreviación del\n",
    "#nombre del estado.\n",
    "\n",
    "# se genera 'abbreviation' como índice del DataFrame\n",
    "df.set_index('abbreviation', inplace=True)\n",
    "\n",
    "# Agrego la columna de la población por área \n",
    "df['pop/area'] = pop_area_df['pop/area']\n",
    "\n",
    "# Selecciono las columnas que necesito para un nuevo DataFrame\n",
    "new_df = df[['state', 'area', 'population', 'pop/area']].copy()\n",
    "\n",
    "# Renombro columna 'state' a 'nombre'\n",
    "new_df.rename(columns={'state': 'nombre'}, inplace=True)\n"
   ]
  },
  {
   "cell_type": "code",
   "execution_count": 56,
   "metadata": {},
   "outputs": [
    {
     "name": "stdout",
     "output_type": "stream",
     "text": [
      "Empty DataFrame\n",
      "Columns: [nombre, area, population, pop/area]\n",
      "Index: []\n"
     ]
    }
   ],
   "source": [
    "#muestro como quedo el nuevo dataframe\n",
    "\n",
    "print(new_df)\n"
   ]
  }
 ],
 "metadata": {
  "kernelspec": {
   "display_name": "Python 3",
   "language": "python",
   "name": "python3"
  },
  "language_info": {
   "codemirror_mode": {
    "name": "ipython",
    "version": 3
   },
   "file_extension": ".py",
   "mimetype": "text/x-python",
   "name": "python",
   "nbconvert_exporter": "python",
   "pygments_lexer": "ipython3",
   "version": "3.10.11"
  },
  "orig_nbformat": 4
 },
 "nbformat": 4,
 "nbformat_minor": 2
}
