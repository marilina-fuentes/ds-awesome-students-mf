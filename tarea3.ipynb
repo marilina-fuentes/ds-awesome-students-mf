{
 "cells": [
  {
   "cell_type": "code",
   "execution_count": 1,
   "metadata": {},
   "outputs": [
    {
     "name": "stdout",
     "output_type": "stream",
     "text": [
      "85.7 pertenece a la lista L\n",
      "True pertenece a la lista L\n",
      "[(0, 0, 1)] NO pertenece a la lista L\n",
      "[1, 2, 3] pertenece a la lista L\n",
      "0 NO pertenece a la lista L\n",
      "[True] NO pertenece a la lista L\n",
      "85 NO pertenece a la lista L\n",
      "a pertenece a la lista L\n"
     ]
    }
   ],
   "source": [
    "L = [\"almacenar\", 8, \"a\", [1,2,3], True, (0,0,1), 85.7]\n",
    "Buscar = [85.7, True, [(0,0,1)], [1,2,3], 0, [True], 85, \"a\"]\n",
    "for elemento in Buscar:\n",
    "    if elemento in L:\n",
    "        print(f\"{elemento} pertenece a la lista L\")\n",
    "    else:\n",
    "        print(f\"{elemento} NO pertenece a la lista L\")"
   ]
  },
  {
   "cell_type": "code",
   "execution_count": 2,
   "metadata": {},
   "outputs": [
    {
     "name": "stdout",
     "output_type": "stream",
     "text": [
      " es un palíndromo.\n"
     ]
    }
   ],
   "source": [
    "#b"
   ]
  },
  {
   "cell_type": "code",
   "execution_count": null,
   "metadata": {},
   "outputs": [],
   "source": [
    "#c"
   ]
  },
  {
   "cell_type": "code",
   "execution_count": null,
   "metadata": {},
   "outputs": [],
   "source": [
    "#d\n"
   ]
  },
  {
   "cell_type": "code",
   "execution_count": 1,
   "metadata": {},
   "outputs": [
    {
     "name": "stdout",
     "output_type": "stream",
     "text": [
      "kabak es un palíndromo.\n"
     ]
    }
   ],
   "source": [
    "#Ejercicio 2\n",
    "\n",
    "palabra = input('Introduce una palabra: ')\n",
    "if palabra == palabra[::-1]:\n",
    "    print(f\"{palabra} es un palíndromo.\")\n",
    "else:\n",
    "    print(f\"{palabra} no es un palíndromo.\")"
   ]
  },
  {
   "cell_type": "code",
   "execution_count": 4,
   "metadata": {},
   "outputs": [
    {
     "name": "stdout",
     "output_type": "stream",
     "text": [
      "La lista invertida quedaria asi [10, 9, 8, 7, 6, 5, 4, 3, 2, 1]\n"
     ]
    }
   ],
   "source": [
    "#Ejercicio 3\n",
    "lista=list(range(1,11))\n",
    "print(f\"La lista invertida quedaria asi {lista[::-1]}\")\n"
   ]
  },
  {
   "cell_type": "code",
   "execution_count": 6,
   "metadata": {},
   "outputs": [
    {
     "name": "stdout",
     "output_type": "stream",
     "text": [
      "Tu nota en la asignatura de Matemáticas es de 50\n",
      "Tu nota en la asignatura de Física es de 20\n",
      "Tu nota en la asignatura de Química es de 64\n",
      "Tu nota en la asignatura de Historia es de 58\n",
      "Tu nota en la asignatura de Lengua es de 58\n"
     ]
    }
   ],
   "source": [
    "#Ejercicio 4\n",
    "asignaturas = ['Matemáticas', 'Física', 'Química', 'Historia' , 'Lengua']\n",
    "notas = []\n",
    "for ramo in asignaturas:\n",
    "    nota = input(f\"ingresa tu nota en la asignatura {ramo}: \")\n",
    "    notas.append(nota)\n",
    "for i in range(len(asignaturas)):\n",
    "    print(f\"Tu nota en la asignatura de {asignaturas[i]} es de {notas[i]}\")"
   ]
  },
  {
   "cell_type": "code",
   "execution_count": 8,
   "metadata": {},
   "outputs": [
    {
     "name": "stdout",
     "output_type": "stream",
     "text": [
      "Su producto es:\n",
      "[2, 5]\n",
      "[2, 11]\n"
     ]
    }
   ],
   "source": [
    "#Ejercicio 5\n",
    "A = [[1, 2, 3], [4, 5, 6]]\n",
    "B = [[-1, 0], [0, 1], [1, 1]]\n",
    "C = [[0, 0], [0, 0]]\n",
    "\n",
    "for i in range(len(A)):\n",
    "    for j in range(len(B[0])):\n",
    "        for k in range(len(B)):\n",
    "            C[i][j] += A[i][k] * B[k][j]\n",
    "print(\"Su producto es:\")\n",
    "for row in C:\n",
    "    print(row)"
   ]
  },
  {
   "cell_type": "code",
   "execution_count": 13,
   "metadata": {},
   "outputs": [
    {
     "name": "stdout",
     "output_type": "stream",
     "text": [
      "El símbolo de yen es ¥\n"
     ]
    }
   ],
   "source": [
    "#Ejercicio 6\n",
    "divisas = {'euro': '€', 'dolar': '$', 'yen': '¥'}\n",
    "divisa = input(\"Ingrese una divisa para buscar su símbolo: \")\n",
    "if divisa in divisas:\n",
    "    print(\"El símbolo de\", divisa, \"es\", divisas[divisa])\n",
    "else:\n",
    "    print(\"La divisa ingresada no se encuentra en el diccionario.\")"
   ]
  },
  {
   "cell_type": "code",
   "execution_count": 14,
   "metadata": {},
   "outputs": [
    {
     "name": "stdout",
     "output_type": "stream",
     "text": [
      "12 de December de 2022\n"
     ]
    }
   ],
   "source": [
    "#Ejercicio 7\n",
    "import datetime\n",
    "fecha_str = input(\"Ingrese una fecha en formato dd/mm/aaaa: \")\n",
    "fecha = datetime.datetime.strptime(fecha_str, '%d/%m/%Y')\n",
    "mes = fecha.strftime('%B')\n",
    "print(fecha.strftime('%d de {} de %Y').format(mes))"
   ]
  }
 ],
 "metadata": {
  "kernelspec": {
   "display_name": "base",
   "language": "python",
   "name": "python3"
  },
  "language_info": {
   "codemirror_mode": {
    "name": "ipython",
    "version": 3
   },
   "file_extension": ".py",
   "mimetype": "text/x-python",
   "name": "python",
   "nbconvert_exporter": "python",
   "pygments_lexer": "ipython3",
   "version": "3.10.9"
  },
  "orig_nbformat": 4
 },
 "nbformat": 4,
 "nbformat_minor": 2
}
