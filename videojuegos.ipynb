{
 "cells": [
  {
   "cell_type": "code",
   "execution_count": 22,
   "metadata": {},
   "outputs": [],
   "source": [
    "import pandas as pd\n"
   ]
  },
  {
   "cell_type": "code",
   "execution_count": 35,
   "metadata": {},
   "outputs": [
    {
     "data": {
      "text/html": [
       "<div>\n",
       "<style scoped>\n",
       "    .dataframe tbody tr th:only-of-type {\n",
       "        vertical-align: middle;\n",
       "    }\n",
       "\n",
       "    .dataframe tbody tr th {\n",
       "        vertical-align: top;\n",
       "    }\n",
       "\n",
       "    .dataframe thead th {\n",
       "        text-align: right;\n",
       "    }\n",
       "</style>\n",
       "<table border=\"1\" class=\"dataframe\">\n",
       "  <thead>\n",
       "    <tr style=\"text-align: right;\">\n",
       "      <th></th>\n",
       "      <th>Nombre</th>\n",
       "      <th>year</th>\n",
       "      <th>Consola</th>\n",
       "      <th>Calificacion</th>\n",
       "      <th>Tags(separados por\\t)\\t\\t\\t</th>\n",
       "    </tr>\n",
       "  </thead>\n",
       "  <tbody>\n",
       "    <tr>\n",
       "      <th>La leyenda de Zelda</th>\n",
       "      <td>86</td>\n",
       "      <td>Famicom</td>\n",
       "      <td>Sistema de disco</td>\n",
       "      <td>3.5</td>\n",
       "      <td>RPG\\tEnlace\\tzelda\\tHyrule\\ttrifuerza</td>\n",
       "    </tr>\n",
       "    <tr>\n",
       "      <th>Double Dragon</th>\n",
       "      <td>87</td>\n",
       "      <td>Arcade</td>\n",
       "      <td>3.7</td>\n",
       "      <td>Peleas\\tPorra\\tPalanqueta\\tPuñete\\t</td>\n",
       "      <td>NaN</td>\n",
       "    </tr>\n",
       "    <tr>\n",
       "      <th>La leyenda de Zelda</th>\n",
       "      <td>88</td>\n",
       "      <td>NES</td>\n",
       "      <td>4.3</td>\n",
       "      <td>RPG\\tEnlace\\tzelda\\tHyrule\\ttrifuerza</td>\n",
       "      <td>NaN</td>\n",
       "    </tr>\n",
       "    <tr>\n",
       "      <th>Halo 5: Guardianes</th>\n",
       "      <td>15</td>\n",
       "      <td>Xbox One</td>\n",
       "      <td>4</td>\n",
       "      <td>FPS\\tJefe principal\\tCortana\\tPacto\\t</td>\n",
       "      <td>NaN</td>\n",
       "    </tr>\n",
       "    <tr>\n",
       "      <th>Maldición de Ra</th>\n",
       "      <td>82</td>\n",
       "      <td>Commodore PET</td>\n",
       "      <td>3</td>\n",
       "      <td>RPG\\taventura\\tTemplo\\tApshai\\t</td>\n",
       "      <td>NaN</td>\n",
       "    </tr>\n",
       "  </tbody>\n",
       "</table>\n",
       "</div>"
      ],
      "text/plain": [
       "                     Nombre           year           Consola   \n",
       "La leyenda de Zelda      86        Famicom  Sistema de disco  \\\n",
       "Double Dragon            87         Arcade               3.7   \n",
       "La leyenda de Zelda      88            NES               4.3   \n",
       "Halo 5: Guardianes       15       Xbox One                 4   \n",
       "Maldición de Ra          82  Commodore PET                 3   \n",
       "\n",
       "                                               Calificacion   \n",
       "La leyenda de Zelda                                     3.5  \\\n",
       "Double Dragon           Peleas\\tPorra\\tPalanqueta\\tPuñete\\t   \n",
       "La leyenda de Zelda   RPG\\tEnlace\\tzelda\\tHyrule\\ttrifuerza   \n",
       "Halo 5: Guardianes    FPS\\tJefe principal\\tCortana\\tPacto\\t   \n",
       "Maldición de Ra             RPG\\taventura\\tTemplo\\tApshai\\t   \n",
       "\n",
       "                               Tags(separados por\\t)\\t\\t\\t  \n",
       "La leyenda de Zelda  RPG\\tEnlace\\tzelda\\tHyrule\\ttrifuerza  \n",
       "Double Dragon                                          NaN  \n",
       "La leyenda de Zelda                                    NaN  \n",
       "Halo 5: Guardianes                                     NaN  \n",
       "Maldición de Ra                                        NaN  "
      ]
     },
     "execution_count": 35,
     "metadata": {},
     "output_type": "execute_result"
    }
   ],
   "source": [
    "juegos2_df = pd.read_csv('C:/Users/bebit/Downloads/videojuegos2.csv')\n",
    "juegos2_df.head(5)"
   ]
  },
  {
   "cell_type": "code",
   "execution_count": 37,
   "metadata": {},
   "outputs": [],
   "source": [
    "with open('C:/Users/bebit/Downloads/videojuegos2.csv', 'r') as archivo:\n",
    "\n",
    "    lineas = archivo.readlines()"
   ]
  },
  {
   "cell_type": "code",
   "execution_count": 38,
   "metadata": {},
   "outputs": [
    {
     "data": {
      "text/plain": [
       "['Nombre,year,Consola,Calificacion,Tags(separados por\\t)\\t\\t\\t\\n',\n",
       " 'La leyenda de Zelda,86,Famicom,Sistema de disco,3.5,RPG\\tEnlace\\tzelda\\tHyrule\\ttrifuerza\\n',\n",
       " 'Double Dragon, 87, Arcade, 3.7, Peleas\\tPorra\\tPalanqueta\\tPuÃ±ete\\t\\n',\n",
       " 'La leyenda de Zelda,88,NES,4.3,RPG\\tEnlace\\tzelda\\tHyrule\\ttrifuerza\\n',\n",
       " 'Halo 5: Guardianes, 15, Xbox One, 4, FPS\\tJefe principal\\tCortana\\tPacto\\t\\n']"
      ]
     },
     "execution_count": 38,
     "metadata": {},
     "output_type": "execute_result"
    }
   ],
   "source": [
    "lineas[:5]"
   ]
  },
  {
   "cell_type": "code",
   "execution_count": 39,
   "metadata": {},
   "outputs": [
    {
     "name": "stdout",
     "output_type": "stream",
     "text": [
      "Nombre,year,Consola,Calificacion,Tags(separados por\t)\t\t\t\n",
      "\n",
      "['Nombre,year,Consola,Calificacion,Tags(separados por\\t)\\t\\t\\t\\n']\n",
      "La leyenda de Zelda,86,Famicom,Sistema de disco,3.5,RPG\tEnlace\tzelda\tHyrule\ttrifuerza\n",
      "\n",
      "['La leyenda de Zelda,86,Famicom,Sistema de disco,3.5,RPG\\tEnlace\\tzelda\\tHyrule\\ttrifuerza\\n']\n",
      "Double Dragon, 87, Arcade, 3.7, Peleas\tPorra\tPalanqueta\tPuÃ±ete\t\n",
      "\n",
      "['Double Dragon, 87, Arcade, 3.7, Peleas\\tPorra\\tPalanqueta\\tPuÃ±ete\\t\\n']\n",
      "La leyenda de Zelda,88,NES,4.3,RPG\tEnlace\tzelda\tHyrule\ttrifuerza\n",
      "\n",
      "['La leyenda de Zelda,88,NES,4.3,RPG\\tEnlace\\tzelda\\tHyrule\\ttrifuerza\\n']\n",
      "Halo 5: Guardianes, 15, Xbox One, 4, FPS\tJefe principal\tCortana\tPacto\t\n",
      "\n",
      "['Halo 5: Guardianes, 15, Xbox One, 4, FPS\\tJefe principal\\tCortana\\tPacto\\t\\n']\n",
      "MaldiciÃ³n de Ra,82,Commodore PET,3,RPG\taventura\tTemplo\tApshai\t\n",
      "\n",
      "['MaldiciÃ³n de Ra,82,Commodore PET,3,RPG\\taventura\\tTemplo\\tApshai\\t\\n']\n",
      "Campo de batalla 1,16, Xbox One, 4.8, FPS\tprimera guerra mundial\t\t\t\n",
      "['Campo de batalla 1,16, Xbox One, 4.8, FPS\\tprimera guerra mundial\\t\\t\\t']\n"
     ]
    }
   ],
   "source": [
    "for linea in lineas:\n",
    "\n",
    "    print(linea)\n",
    "\n",
    "    print(linea.split('\"'))"
   ]
  },
  {
   "cell_type": "code",
   "execution_count": 40,
   "metadata": {},
   "outputs": [
    {
     "data": {
      "text/plain": [
       "['Nombre,year,Consola,Calificacion,Tags(separados por\\t)\\t\\t\\t\\n',\n",
       " 'La leyenda de Zelda,86,Famicom,Sistema de disco,3.5,RPG\\tEnlace\\tzelda\\tHyrule\\ttrifuerza\\n',\n",
       " 'Double Dragon, 87, Arcade, 3.7, Peleas\\tPorra\\tPalanqueta\\tPuÃ±ete\\t\\n',\n",
       " 'La leyenda de Zelda,88,NES,4.3,RPG\\tEnlace\\tzelda\\tHyrule\\ttrifuerza\\n',\n",
       " 'Halo 5: Guardianes, 15, Xbox One, 4, FPS\\tJefe principal\\tCortana\\tPacto\\t\\n',\n",
       " 'MaldiciÃ³n de Ra,82,Commodore PET,3,RPG\\taventura\\tTemplo\\tApshai\\t\\n',\n",
       " 'Campo de batalla 1,16, Xbox One, 4.8, FPS\\tprimera guerra mundial\\t\\t\\t']"
      ]
     },
     "execution_count": 40,
     "metadata": {},
     "output_type": "execute_result"
    }
   ],
   "source": [
    "tags = []\n",
    "\n",
    "for linea in lineas:\n",
    "    \n",
    "    tags.append(linea.split('\"')[-1])\n",
    "\n",
    "tags"
   ]
  },
  {
   "cell_type": "code",
   "execution_count": 41,
   "metadata": {},
   "outputs": [],
   "source": [
    "tags = [tag.strip(',') for tag in tags]\n",
    "tags = [tag.strip('\\n') for tag in tags]\n",
    "tags[0] = 'Tag'"
   ]
  },
  {
   "cell_type": "code",
   "execution_count": 42,
   "metadata": {},
   "outputs": [
    {
     "data": {
      "text/plain": [
       "['Tag',\n",
       " 'La leyenda de Zelda,86,Famicom,Sistema de disco,3.5,RPG\\tEnlace\\tzelda\\tHyrule\\ttrifuerza',\n",
       " 'Double Dragon, 87, Arcade, 3.7, Peleas\\tPorra\\tPalanqueta\\tPuÃ±ete\\t',\n",
       " 'La leyenda de Zelda,88,NES,4.3,RPG\\tEnlace\\tzelda\\tHyrule\\ttrifuerza',\n",
       " 'Halo 5: Guardianes, 15, Xbox One, 4, FPS\\tJefe principal\\tCortana\\tPacto\\t',\n",
       " 'MaldiciÃ³n de Ra,82,Commodore PET,3,RPG\\taventura\\tTemplo\\tApshai\\t',\n",
       " 'Campo de batalla 1,16, Xbox One, 4.8, FPS\\tprimera guerra mundial\\t\\t\\t']"
      ]
     },
     "execution_count": 42,
     "metadata": {},
     "output_type": "execute_result"
    }
   ],
   "source": [
    "tags"
   ]
  },
  {
   "cell_type": "code",
   "execution_count": 45,
   "metadata": {},
   "outputs": [
    {
     "data": {
      "text/plain": [
       "[['Nombre',\n",
       "  'year',\n",
       "  'Consola',\n",
       "  'Calificacion',\n",
       "  'Tags(separados por\\t)\\t\\t\\t\\n'],\n",
       " ['La leyenda de Zelda',\n",
       "  '86',\n",
       "  'Famicom',\n",
       "  'Sistema de disco',\n",
       "  '3.5',\n",
       "  'RPG\\tEnlace\\tzelda\\tHyrule\\ttrifuerza\\n'],\n",
       " ['Double Dragon',\n",
       "  ' 87',\n",
       "  ' Arcade',\n",
       "  ' 3.7',\n",
       "  ' Peleas\\tPorra\\tPalanqueta\\tPuÃ±ete\\t\\n'],\n",
       " ['La leyenda de Zelda',\n",
       "  '88',\n",
       "  'NES',\n",
       "  '4.3',\n",
       "  'RPG\\tEnlace\\tzelda\\tHyrule\\ttrifuerza\\n'],\n",
       " ['Halo 5: Guardianes',\n",
       "  ' 15',\n",
       "  ' Xbox One',\n",
       "  ' 4',\n",
       "  ' FPS\\tJefe principal\\tCortana\\tPacto\\t\\n'],\n",
       " ['MaldiciÃ³n de Ra',\n",
       "  '82',\n",
       "  'Commodore PET',\n",
       "  '3',\n",
       "  'RPG\\taventura\\tTemplo\\tApshai\\t\\n'],\n",
       " ['Campo de batalla 1',\n",
       "  '16',\n",
       "  ' Xbox One',\n",
       "  ' 4.8',\n",
       "  ' FPS\\tprimera guerra mundial\\t\\t\\t']]"
      ]
     },
     "execution_count": 45,
     "metadata": {},
     "output_type": "execute_result"
    }
   ],
   "source": [
    "columnas = []\n",
    "for linea in lineas:\n",
    "\n",
    "    columna = linea.split('\"')[0]\n",
    "\n",
    "    columnas.append(columna.split(','))\n",
    "\n",
    "columnas"
   ]
  },
  {
   "cell_type": "code",
   "execution_count": 46,
   "metadata": {},
   "outputs": [
    {
     "data": {
      "text/plain": [
       "['Tag',\n",
       " 'La leyenda de Zelda,86,Famicom,Sistema de disco,3.5,RPG\\tEnlace\\tzelda\\tHyrule\\ttrifuerza, RPG\\tEnlace\\tzelda\\tHyrule\\ttrifuerza\\n',\n",
       " 'Double Dragon, 87, Arcade, 3.7, Peleas\\tPorra\\tPalanqueta\\tPuÃ±ete\\t,  Peleas\\tPorra\\tPalanqueta\\tPuÃ±ete\\t\\n',\n",
       " 'La leyenda de Zelda,88,NES,4.3,RPG\\tEnlace\\tzelda\\tHyrule\\ttrifuerza, RPG\\tEnlace\\tzelda\\tHyrule\\ttrifuerza\\n',\n",
       " 'Halo 5: Guardianes, 15, Xbox One, 4, FPS\\tJefe principal\\tCortana\\tPacto\\t,  FPS\\tJefe principal\\tCortana\\tPacto\\t\\n',\n",
       " 'MaldiciÃ³n de Ra,82,Commodore PET,3,RPG\\taventura\\tTemplo\\tApshai\\t, RPG\\taventura\\tTemplo\\tApshai\\t\\n',\n",
       " 'Campo de batalla 1,16, Xbox One, 4.8, FPS\\tprimera guerra mundial\\t\\t\\t,  FPS\\tprimera guerra mundial\\t\\t\\t']"
      ]
     },
     "execution_count": 46,
     "metadata": {},
     "output_type": "execute_result"
    }
   ],
   "source": [
    "for idx, columna in enumerate(columnas):\n",
    "\n",
    "    if idx == 0:\n",
    "        continue\n",
    "\n",
    "    tag = columna[-1]\n",
    "    tags[idx] = f\"{tags[idx]}, {tag}\"\n",
    "\n",
    "tags"
   ]
  },
  {
   "cell_type": "code",
   "execution_count": 47,
   "metadata": {},
   "outputs": [],
   "source": [
    "nombre = []\n",
    "year = []\n",
    "consola = []\n",
    "calificacion = []\n",
    "\n",
    "for columna in columnas:\n",
    "\n",
    "    nombre.append(columna[0])\n",
    "    year.append(columna[1])\n",
    "    consola.append(columna[2])\n",
    "    calificacion.append(columna[3])"
   ]
  },
  {
   "cell_type": "code",
   "execution_count": 48,
   "metadata": {},
   "outputs": [],
   "source": [
    "datos = {\n",
    "    'nombre': nombre[1:],\n",
    "    'year': year[1:],\n",
    "    'consola': consola[1:],\n",
    "    'calificacion': calificacion[1:],\n",
    "    'tags': tags[1:],\n",
    "}\n",
    "\n",
    "df = pd.DataFrame(datos)"
   ]
  },
  {
   "cell_type": "code",
   "execution_count": 49,
   "metadata": {},
   "outputs": [
    {
     "data": {
      "text/html": [
       "<div>\n",
       "<style scoped>\n",
       "    .dataframe tbody tr th:only-of-type {\n",
       "        vertical-align: middle;\n",
       "    }\n",
       "\n",
       "    .dataframe tbody tr th {\n",
       "        vertical-align: top;\n",
       "    }\n",
       "\n",
       "    .dataframe thead th {\n",
       "        text-align: right;\n",
       "    }\n",
       "</style>\n",
       "<table border=\"1\" class=\"dataframe\">\n",
       "  <thead>\n",
       "    <tr style=\"text-align: right;\">\n",
       "      <th></th>\n",
       "      <th>nombre</th>\n",
       "      <th>year</th>\n",
       "      <th>consola</th>\n",
       "      <th>calificacion</th>\n",
       "      <th>tags</th>\n",
       "    </tr>\n",
       "  </thead>\n",
       "  <tbody>\n",
       "    <tr>\n",
       "      <th>0</th>\n",
       "      <td>La leyenda de Zelda</td>\n",
       "      <td>86</td>\n",
       "      <td>Famicom</td>\n",
       "      <td>Sistema de disco</td>\n",
       "      <td>La leyenda de Zelda,86,Famicom,Sistema de disc...</td>\n",
       "    </tr>\n",
       "    <tr>\n",
       "      <th>1</th>\n",
       "      <td>Double Dragon</td>\n",
       "      <td>87</td>\n",
       "      <td>Arcade</td>\n",
       "      <td>3.7</td>\n",
       "      <td>Double Dragon, 87, Arcade, 3.7, Peleas\\tPorra\\...</td>\n",
       "    </tr>\n",
       "    <tr>\n",
       "      <th>2</th>\n",
       "      <td>La leyenda de Zelda</td>\n",
       "      <td>88</td>\n",
       "      <td>NES</td>\n",
       "      <td>4.3</td>\n",
       "      <td>La leyenda de Zelda,88,NES,4.3,RPG\\tEnlace\\tze...</td>\n",
       "    </tr>\n",
       "    <tr>\n",
       "      <th>3</th>\n",
       "      <td>Halo 5: Guardianes</td>\n",
       "      <td>15</td>\n",
       "      <td>Xbox One</td>\n",
       "      <td>4</td>\n",
       "      <td>Halo 5: Guardianes, 15, Xbox One, 4, FPS\\tJefe...</td>\n",
       "    </tr>\n",
       "    <tr>\n",
       "      <th>4</th>\n",
       "      <td>MaldiciÃ³n de Ra</td>\n",
       "      <td>82</td>\n",
       "      <td>Commodore PET</td>\n",
       "      <td>3</td>\n",
       "      <td>MaldiciÃ³n de Ra,82,Commodore PET,3,RPG\\tavent...</td>\n",
       "    </tr>\n",
       "    <tr>\n",
       "      <th>5</th>\n",
       "      <td>Campo de batalla 1</td>\n",
       "      <td>16</td>\n",
       "      <td>Xbox One</td>\n",
       "      <td>4.8</td>\n",
       "      <td>Campo de batalla 1,16, Xbox One, 4.8, FPS\\tpri...</td>\n",
       "    </tr>\n",
       "  </tbody>\n",
       "</table>\n",
       "</div>"
      ],
      "text/plain": [
       "                nombre year        consola      calificacion   \n",
       "0  La leyenda de Zelda   86        Famicom  Sistema de disco  \\\n",
       "1        Double Dragon   87         Arcade               3.7   \n",
       "2  La leyenda de Zelda   88            NES               4.3   \n",
       "3   Halo 5: Guardianes   15       Xbox One                 4   \n",
       "4     MaldiciÃ³n de Ra   82  Commodore PET                 3   \n",
       "5   Campo de batalla 1   16       Xbox One               4.8   \n",
       "\n",
       "                                                tags  \n",
       "0  La leyenda de Zelda,86,Famicom,Sistema de disc...  \n",
       "1  Double Dragon, 87, Arcade, 3.7, Peleas\\tPorra\\...  \n",
       "2  La leyenda de Zelda,88,NES,4.3,RPG\\tEnlace\\tze...  \n",
       "3  Halo 5: Guardianes, 15, Xbox One, 4, FPS\\tJefe...  \n",
       "4  MaldiciÃ³n de Ra,82,Commodore PET,3,RPG\\tavent...  \n",
       "5  Campo de batalla 1,16, Xbox One, 4.8, FPS\\tpri...  "
      ]
     },
     "execution_count": 49,
     "metadata": {},
     "output_type": "execute_result"
    }
   ],
   "source": [
    "df"
   ]
  }
 ],
 "metadata": {
  "kernelspec": {
   "display_name": "Python 3",
   "language": "python",
   "name": "python3"
  },
  "language_info": {
   "codemirror_mode": {
    "name": "ipython",
    "version": 3
   },
   "file_extension": ".py",
   "mimetype": "text/x-python",
   "name": "python",
   "nbconvert_exporter": "python",
   "pygments_lexer": "ipython3",
   "version": "3.10.11"
  },
  "orig_nbformat": 4
 },
 "nbformat": 4,
 "nbformat_minor": 2
}
