{
 "cells": [
  {
   "cell_type": "code",
   "execution_count": 33,
   "metadata": {},
   "outputs": [],
   "source": [
    "from pyspark.sql import SparkSession\n",
    "from pyspark.ml.feature import VectorAssembler\n",
    "from pyspark.ml.classification import LogisticRegression\n",
    "from pyspark.sql.functions import when\n",
    "\n",
    "from pyspark.ml.feature import StandardScaler\n",
    "from pyspark.sql.functions import expr\n"
   ]
  },
  {
   "cell_type": "code",
   "execution_count": 34,
   "metadata": {},
   "outputs": [
    {
     "name": "stdout",
     "output_type": "stream",
     "text": [
      "+----+---+---+-----+-----+---+---+-----+---+---+----+----+----+----+\n",
      "| _c0|_c1|_c2|  _c3|  _c4|_c5|_c6|  _c7|_c8|_c9|_c10|_c11|_c12|_c13|\n",
      "+----+---+---+-----+-----+---+---+-----+---+---+----+----+----+----+\n",
      "|70.0|1.0|4.0|130.0|322.0|0.0|2.0|109.0|0.0|2.4| 2.0| 3.0| 3.0|   2|\n",
      "|67.0|0.0|3.0|115.0|564.0|0.0|2.0|160.0|0.0|1.6| 2.0| 0.0| 7.0|   1|\n",
      "|57.0|1.0|2.0|124.0|261.0|0.0|0.0|141.0|0.0|0.3| 1.0| 0.0| 7.0|   2|\n",
      "|64.0|1.0|4.0|128.0|263.0|0.0|0.0|105.0|1.0|0.2| 2.0| 1.0| 7.0|   1|\n",
      "|74.0|0.0|2.0|120.0|269.0|0.0|2.0|121.0|1.0|0.2| 1.0| 1.0| 3.0|   1|\n",
      "+----+---+---+-----+-----+---+---+-----+---+---+----+----+----+----+\n",
      "only showing top 5 rows\n",
      "\n"
     ]
    }
   ],
   "source": [
    "spark = SparkSession.builder.appName(\n",
    "    \"ClasificaciónEnfermedadCardiaca\"\n",
    ").getOrCreate()\n",
    "\n",
    "# Leer los datos\n",
    "df = spark.read.option(\n",
    "    \"delimiter\", \" \"\n",
    ").csv('C:/Users/bebit/Desktop/tareas/csv/heart.svc', inferSchema=True, header=False)\n",
    "df.show(5)"
   ]
  },
  {
   "cell_type": "code",
   "execution_count": 35,
   "metadata": {},
   "outputs": [
    {
     "name": "stdout",
     "output_type": "stream",
     "text": [
      "+----+----+---------+---------------+----------+----------------+---------------------+-----------+------+-----------+-----------+--------+----+\n",
      "| año|sexo|tipoDolor|presionDescanso|colesterol|azucarSangreL120|electrocardioDescanso|frecCardMax|angina|depresionST|pendienteST|numVasos|thal|\n",
      "+----+----+---------+---------------+----------+----------------+---------------------+-----------+------+-----------+-----------+--------+----+\n",
      "|70.0| 1.0|      4.0|          130.0|     322.0|             0.0|                  2.0|      109.0|   0.0|        2.4|        2.0|     3.0| 3.0|\n",
      "|67.0| 0.0|      3.0|          115.0|     564.0|             0.0|                  2.0|      160.0|   0.0|        1.6|        2.0|     0.0| 7.0|\n",
      "|57.0| 1.0|      2.0|          124.0|     261.0|             0.0|                  0.0|      141.0|   0.0|        0.3|        1.0|     0.0| 7.0|\n",
      "|64.0| 1.0|      4.0|          128.0|     263.0|             0.0|                  0.0|      105.0|   1.0|        0.2|        2.0|     1.0| 7.0|\n",
      "|74.0| 0.0|      2.0|          120.0|     269.0|             0.0|                  2.0|      121.0|   1.0|        0.2|        1.0|     1.0| 3.0|\n",
      "+----+----+---------+---------------+----------+----------------+---------------------+-----------+------+-----------+-----------+--------+----+\n",
      "only showing top 5 rows\n",
      "\n"
     ]
    }
   ],
   "source": [
    "# Renombrar las columnas\n",
    "new_column_names = [\n",
    "    'año',\n",
    "    'sexo',\n",
    "    'tipoDolor',\n",
    "    'presionDescanso', \n",
    "    'colesterol',\n",
    "    'azucarSangreL120', \n",
    "    'electrocardioDescanso',\n",
    "    'frecCardMax', \n",
    "    'angina',\n",
    "    'depresionST',\n",
    "    'pendienteST', \n",
    "    'numVasos',\n",
    "    'thal'\n",
    "]\n",
    "\n",
    "for i in range(len(new_column_names)):\n",
    "    df = df.withColumnRenamed(df.columns[i], new_column_names[i])\n",
    "\n",
    "df = df.drop(df.columns[-1])\n",
    "df.show(5)"
   ]
  },
  {
   "cell_type": "code",
   "execution_count": 36,
   "metadata": {},
   "outputs": [
    {
     "name": "stdout",
     "output_type": "stream",
     "text": [
      "+----+----+---------+---------------+----------+----------------+---------------------+-----------+------+-----------+-----------+--------+----+-------+\n",
      "| año|sexo|tipoDolor|presionDescanso|colesterol|azucarSangreL120|electrocardioDescanso|frecCardMax|angina|depresionST|pendienteST|numVasos|thal|enfermo|\n",
      "+----+----+---------+---------------+----------+----------------+---------------------+-----------+------+-----------+-----------+--------+----+-------+\n",
      "|70.0| 1.0|      4.0|          130.0|     322.0|             0.0|                  2.0|      109.0|   0.0|        2.4|        2.0|     3.0| 3.0|      0|\n",
      "|67.0| 0.0|      3.0|          115.0|     564.0|             0.0|                  2.0|      160.0|   0.0|        1.6|        2.0|     0.0| 7.0|      1|\n",
      "|57.0| 1.0|      2.0|          124.0|     261.0|             0.0|                  0.0|      141.0|   0.0|        0.3|        1.0|     0.0| 7.0|      1|\n",
      "|64.0| 1.0|      4.0|          128.0|     263.0|             0.0|                  0.0|      105.0|   1.0|        0.2|        2.0|     1.0| 7.0|      1|\n",
      "|74.0| 0.0|      2.0|          120.0|     269.0|             0.0|                  2.0|      121.0|   1.0|        0.2|        1.0|     1.0| 3.0|      0|\n",
      "+----+----+---------+---------------+----------+----------------+---------------------+-----------+------+-----------+-----------+--------+----+-------+\n",
      "only showing top 5 rows\n",
      "\n"
     ]
    }
   ],
   "source": [
    "df = df.withColumn(\n",
    "    'enfermo',\n",
    "    when((df['thal'] == 3) | (df['thal'] == 6), 0).otherwise(1)\n",
    ")\n",
    "df.show(5)"
   ]
  },
  {
   "cell_type": "code",
   "execution_count": 37,
   "metadata": {},
   "outputs": [
    {
     "name": "stdout",
     "output_type": "stream",
     "text": [
      "+----+----+---------+---------------+----------+----------------+---------------------+-----------+------+-----------+-----------+--------+----+-------+------------+\n",
      "| año|sexo|tipoDolor|presionDescanso|colesterol|azucarSangreL120|electrocardioDescanso|frecCardMax|angina|depresionST|pendienteST|numVasos|thal|enfermo|enfermoNuevo|\n",
      "+----+----+---------+---------------+----------+----------------+---------------------+-----------+------+-----------+-----------+--------+----+-------+------------+\n",
      "|70.0| 1.0|      4.0|          130.0|     322.0|             0.0|                  2.0|      109.0|   0.0|        2.4|        2.0|     3.0| 3.0|      0|           0|\n",
      "|67.0| 0.0|      3.0|          115.0|     564.0|             0.0|                  2.0|      160.0|   0.0|        1.6|        2.0|     0.0| 7.0|      1|           1|\n",
      "|57.0| 1.0|      2.0|          124.0|     261.0|             0.0|                  0.0|      141.0|   0.0|        0.3|        1.0|     0.0| 7.0|      1|           1|\n",
      "|64.0| 1.0|      4.0|          128.0|     263.0|             0.0|                  0.0|      105.0|   1.0|        0.2|        2.0|     1.0| 7.0|      1|           1|\n",
      "|74.0| 0.0|      2.0|          120.0|     269.0|             0.0|                  2.0|      121.0|   1.0|        0.2|        1.0|     1.0| 3.0|      0|           0|\n",
      "+----+----+---------+---------------+----------+----------------+---------------------+-----------+------+-----------+-----------+--------+----+-------+------------+\n",
      "only showing top 5 rows\n",
      "\n"
     ]
    }
   ],
   "source": [
    "df = df.transform(\n",
    "    lambda df: df.withColumn(\n",
    "        'enfermoNuevo',\n",
    "        when((df['thal'] == 3) | (df['thal'] == 6), 0).otherwise(1))\n",
    ")\n",
    "\n",
    "df.show(5)"
   ]
  },
  {
   "cell_type": "code",
   "execution_count": 38,
   "metadata": {},
   "outputs": [
    {
     "name": "stdout",
     "output_type": "stream",
     "text": [
      "+----+----+---------+---------------+----------+----------------+---------------------+-----------+------+-----------+-----------+--------+----+-------+\n",
      "| año|sexo|tipoDolor|presionDescanso|colesterol|azucarSangreL120|electrocardioDescanso|frecCardMax|angina|depresionST|pendienteST|numVasos|thal|enfermo|\n",
      "+----+----+---------+---------------+----------+----------------+---------------------+-----------+------+-----------+-----------+--------+----+-------+\n",
      "|70.0| 1.0|      4.0|          130.0|     322.0|             0.0|                  2.0|      109.0|   0.0|        2.4|        2.0|     3.0| 3.0|      0|\n",
      "|67.0| 0.0|      3.0|          115.0|     564.0|             0.0|                  2.0|      160.0|   0.0|        1.6|        2.0|     0.0| 7.0|      1|\n",
      "|57.0| 1.0|      2.0|          124.0|     261.0|             0.0|                  0.0|      141.0|   0.0|        0.3|        1.0|     0.0| 7.0|      1|\n",
      "|64.0| 1.0|      4.0|          128.0|     263.0|             0.0|                  0.0|      105.0|   1.0|        0.2|        2.0|     1.0| 7.0|      1|\n",
      "|74.0| 0.0|      2.0|          120.0|     269.0|             0.0|                  2.0|      121.0|   1.0|        0.2|        1.0|     1.0| 3.0|      0|\n",
      "+----+----+---------+---------------+----------+----------------+---------------------+-----------+------+-----------+-----------+--------+----+-------+\n",
      "only showing top 5 rows\n",
      "\n"
     ]
    }
   ],
   "source": [
    "# Eliminar la columna 'enfermoNuevo'\n",
    "df = df.drop('enfermoNuevo')\n",
    "df.show(5)"
   ]
  },
  {
   "cell_type": "code",
   "execution_count": 39,
   "metadata": {},
   "outputs": [
    {
     "name": "stdout",
     "output_type": "stream",
     "text": [
      "+----+----+---------+---------------+----------+----------------+---------------------+-----------+------+-----------+-----------+--------+----+-------+--------------------+\n",
      "| año|sexo|tipoDolor|presionDescanso|colesterol|azucarSangreL120|electrocardioDescanso|frecCardMax|angina|depresionST|pendienteST|numVasos|thal|enfermo|     caracteristicas|\n",
      "+----+----+---------+---------------+----------+----------------+---------------------+-----------+------+-----------+-----------+--------+----+-------+--------------------+\n",
      "|70.0| 1.0|      4.0|          130.0|     322.0|             0.0|                  2.0|      109.0|   0.0|        2.4|        2.0|     3.0| 3.0|      0|[70.0,1.0,4.0,130...|\n",
      "|67.0| 0.0|      3.0|          115.0|     564.0|             0.0|                  2.0|      160.0|   0.0|        1.6|        2.0|     0.0| 7.0|      1|[67.0,0.0,3.0,115...|\n",
      "|57.0| 1.0|      2.0|          124.0|     261.0|             0.0|                  0.0|      141.0|   0.0|        0.3|        1.0|     0.0| 7.0|      1|[57.0,1.0,2.0,124...|\n",
      "|64.0| 1.0|      4.0|          128.0|     263.0|             0.0|                  0.0|      105.0|   1.0|        0.2|        2.0|     1.0| 7.0|      1|[64.0,1.0,4.0,128...|\n",
      "|74.0| 0.0|      2.0|          120.0|     269.0|             0.0|                  2.0|      121.0|   1.0|        0.2|        1.0|     1.0| 3.0|      0|[74.0,0.0,2.0,120...|\n",
      "+----+----+---------+---------------+----------+----------------+---------------------+-----------+------+-----------+-----------+--------+----+-------+--------------------+\n",
      "only showing top 5 rows\n",
      "\n"
     ]
    }
   ],
   "source": [
    "# Ensamblar todas las características en un solo vector\n",
    "assembler = VectorAssembler(\n",
    "    inputCols=[\n",
    "        'año', 'sexo', 'tipoDolor', 'presionDescanso',\n",
    "        'colesterol', 'azucarSangreL120', 'electrocardioDescanso',\n",
    "        'frecCardMax', 'angina', 'depresionST', 'pendienteST',\n",
    "        'numVasos'\n",
    "    ],\n",
    "    outputCol='caracteristicas'\n",
    ")\n",
    "\n",
    "df = assembler.transform(df)\n",
    "df.show(5)"
   ]
  },
  {
   "cell_type": "code",
   "execution_count": 40,
   "metadata": {},
   "outputs": [
    {
     "name": "stdout",
     "output_type": "stream",
     "text": [
      "+--------------------+-------+\n",
      "|     caracteristicas|enfermo|\n",
      "+--------------------+-------+\n",
      "|[70.0,1.0,4.0,130...|      0|\n",
      "|[67.0,0.0,3.0,115...|      1|\n",
      "|[57.0,1.0,2.0,124...|      1|\n",
      "|[64.0,1.0,4.0,128...|      1|\n",
      "|[74.0,0.0,2.0,120...|      0|\n",
      "+--------------------+-------+\n",
      "only showing top 5 rows\n",
      "\n"
     ]
    }
   ],
   "source": [
    "# Seleccionar solo las 'caracteristicas' y la columna 'enfermo' para el modelo\n",
    "datos_modelo = df.select('caracteristicas', 'enfermo')\n",
    "datos_modelo.show(5)"
   ]
  },
  {
   "cell_type": "code",
   "execution_count": 62,
   "metadata": {},
   "outputs": [],
   "source": [
    "# 1. Use Standard Scaler para poner todos los números en la misma escala. Esto toma la observación y resta la media, y luego la divide por la\n",
    "# desviación estándar.\n",
    "scaler = StandardScaler(inputCol='caracteristicas', outputCol='caracteristicas_esc')\n",
    "scaler_model = scaler.fit(datos_modelo)\n",
    "datos_entrenamiento_esc = scaler_model.transform(datos_modelo)\n",
    "datos_prueba_esc = scaler_model.transform(datos_prueba)"
   ]
  },
  {
   "cell_type": "code",
   "execution_count": 63,
   "metadata": {},
   "outputs": [
    {
     "name": "stdout",
     "output_type": "stream",
     "text": [
      "+--------------------+-------+--------------------+\n",
      "|     caracteristicas|enfermo| caracteristicas_esc|\n",
      "+--------------------+-------+--------------------+\n",
      "|[70.0,1.0,4.0,130...|      0|[7.68465131046640...|\n",
      "|[67.0,0.0,3.0,115...|      1|[7.35530911144641...|\n",
      "|[57.0,1.0,2.0,124...|      1|[6.25750178137978...|\n",
      "|[64.0,1.0,4.0,128...|      1|[7.02596691242642...|\n",
      "|[74.0,0.0,2.0,120...|      0|[8.12377424249305...|\n",
      "+--------------------+-------+--------------------+\n",
      "only showing top 5 rows\n",
      "\n",
      "+--------------------+--------+--------------------+\n",
      "|     caracteristicas|etiqueta| caracteristicas_esc|\n",
      "+--------------------+--------+--------------------+\n",
      "|(12,[0,2,3,4,7,10...|       0|(12,[0,2,3,4,7,10...|\n",
      "|(12,[0,2,3,4,7,10...|       0|(12,[0,2,3,4,7,10...|\n",
      "|(12,[0,2,3,4,7,10...|       0|(12,[0,2,3,4,7,10...|\n",
      "|[29.0,1.0,2.0,130...|       0|[3.18364125719322...|\n",
      "|[34.0,0.0,2.0,118...|       0|[3.73254492222653...|\n",
      "+--------------------+--------+--------------------+\n",
      "only showing top 5 rows\n",
      "\n"
     ]
    }
   ],
   "source": [
    "# Imprima el estado actual de sus datos\n",
    "datos_entrenamiento_esc.show(5)\n",
    "datos_prueba_esc.show(5)"
   ]
  },
  {
   "cell_type": "code",
   "execution_count": 65,
   "metadata": {},
   "outputs": [],
   "source": [
    "# Divida los datos en conjuntos de datos de entrenamiento y prueba. Use 50/50.\n",
    "train_data, test_data = datos_modelo.randomSplit([0.5, 0.5])\n"
   ]
  },
  {
   "cell_type": "code",
   "execution_count": 47,
   "metadata": {},
   "outputs": [],
   "source": [
    "#  Cree un modelo de regresión logística y entrénalo.\n",
    "rl = LogisticRegression(featuresCol='caracteristicas', labelCol='enfermo')\n",
    "\n",
    "# Ajustar el modelo a los datos de entrenamiento\n",
    "modelo_rl = rl.fit(datos_entrenamiento_div)"
   ]
  },
  {
   "cell_type": "code",
   "execution_count": 69,
   "metadata": {},
   "outputs": [
    {
     "name": "stdout",
     "output_type": "stream",
     "text": [
      "+--------------------+--------+--------------------+--------------------+----------+\n",
      "|     caracteristicas|etiqueta|       rawPrediction|         probability|prediction|\n",
      "+--------------------+--------+--------------------+--------------------+----------+\n",
      "|(12,[0,2,3,4,7,10...|       0|[3.33700562000298...|[0.96567673131360...|       0.0|\n",
      "|(12,[0,2,3,4,7,10...|       0|[3.84525573468476...|[0.97906664171550...|       0.0|\n",
      "|(12,[0,2,3,4,7,10...|       0|[2.31676665790501...|[0.91025615946216...|       0.0|\n",
      "|[29.0,1.0,2.0,130...|       0|[1.76436478788113...|[0.85375547670381...|       0.0|\n",
      "|[34.0,0.0,2.0,118...|       0|[3.23682149295224...|[0.96219666339790...|       0.0|\n",
      "|[35.0,1.0,4.0,126...|       1|[0.13931292281631...|[0.53477201069284...|       0.0|\n",
      "|[38.0,1.0,1.0,120...|       1|[-1.1360018561565...|[0.24305518108066...|       1.0|\n",
      "|[40.0,1.0,4.0,152...|       1|[0.38560443416449...|[0.59522410999911...|       0.0|\n",
      "|[41.0,0.0,3.0,112...|       0|[2.61976013698929...|[0.93212253183506...|       0.0|\n",
      "|[41.0,1.0,2.0,110...|       0|[1.81623460774689...|[0.86011369611629...|       0.0|\n",
      "|[41.0,1.0,3.0,130...|       0|[0.17257579176304...|[0.54303718834493...|       0.0|\n",
      "|[42.0,0.0,4.0,102...|       0|[2.87529794998283...|[0.94661172998913...|       0.0|\n",
      "|[42.0,1.0,2.0,120...|       0|[1.25690091404286...|[0.77849215609605...|       0.0|\n",
      "|[42.0,1.0,4.0,140...|       0|[0.41416283193686...|[0.60208562655032...|       0.0|\n",
      "|[43.0,1.0,4.0,115...|       0|[-1.1812540913442...|[0.23482678220263...|       1.0|\n",
      "|[44.0,0.0,3.0,108...|       0|[2.93398297669107...|[0.94950099651692...|       0.0|\n",
      "|[44.0,1.0,2.0,120...|       1|[1.28456451407582...|[0.78322575592747...|       0.0|\n",
      "|[44.0,1.0,2.0,130...|       0|[1.76691502153718...|[0.85407360421326...|       0.0|\n",
      "|[44.0,1.0,3.0,120...|       0|[1.07937346687072...|[0.74637539944974...|       0.0|\n",
      "|[44.0,1.0,3.0,130...|       0|[-0.0774097475265...|[0.48065722108173...|       1.0|\n",
      "+--------------------+--------+--------------------+--------------------+----------+\n",
      "only showing top 20 rows\n",
      "\n"
     ]
    }
   ],
   "source": [
    "# Finalmente Use la función F de Spark SQL para crear una nueva columna correcta cuando ENFERMO() es igual a la predicción, lo que significa que\n",
    "# el resultado predicho es igual a los resultados reales.\n",
    "\n",
    "lr = LogisticRegression(featuresCol='caracteristicas', labelCol='etiqueta')\n",
    "modelo_lr = lr.fit(datos_entrenamiento)\n",
    "\n",
    "# Realizar predicciones en los datos de prueba\n",
    "predicciones = modelo_lr.transform(datos_prueba)\n",
    "\n",
    "# Mostrar algunas predicciones\n",
    "predicciones.show()\n",
    "\n",
    "\n"
   ]
  }
 ],
 "metadata": {
  "kernelspec": {
   "display_name": "Python 3",
   "language": "python",
   "name": "python3"
  },
  "language_info": {
   "codemirror_mode": {
    "name": "ipython",
    "version": 3
   },
   "file_extension": ".py",
   "mimetype": "text/x-python",
   "name": "python",
   "nbconvert_exporter": "python",
   "pygments_lexer": "ipython3",
   "version": "3.10.11"
  },
  "orig_nbformat": 4
 },
 "nbformat": 4,
 "nbformat_minor": 2
}
