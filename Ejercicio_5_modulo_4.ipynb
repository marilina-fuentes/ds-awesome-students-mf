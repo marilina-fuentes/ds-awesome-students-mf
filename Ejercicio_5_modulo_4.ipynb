{
 "cells": [
  {
   "cell_type": "code",
   "execution_count": 4,
   "metadata": {},
   "outputs": [
    {
     "name": "stdout",
     "output_type": "stream",
     "text": [
      "Se rechaza la hipótesis nula.\n",
      "El valor p es: 0.02225218278641426\n"
     ]
    }
   ],
   "source": [
    "# Se sabe que la media del consumo de energía eléctrica en cierta provincia es\n",
    "# de 721 kwh.\n",
    "# Una empresa tecnológica de la región cree que sus empleados consumen más\n",
    "# que el promedio provincial. Recoge información sobre los consumos de 20\n",
    "# empleados escogidos al azar, y obtiene los siguientes datos:\n",
    "# 710 774 814 768 823 \n",
    "# 732 675 755 770 660\n",
    "# 654 757 736 677 797\n",
    "# 760 718 774 747 796\n",
    "\n",
    "#Si la distribución del consumo mensual de energía eléctrica es normal:\n",
    "\n",
    "# a) ¿Hay evidencias para afirmar que el promedio del consumo de energía eléctrica hogareño de los empleados de la empresa es superior a la media del consumo a nivel provincial? Usar un nivel de significación del 10%.\n",
    "# b) ¿Cuál es el valor p de la decisión?\n",
    "\n",
    "import numpy as np\n",
    "import scipy.stats as st\n",
    "\n",
    "# Datos\n",
    "sample = np.array([710, 774, 814, 768, 823, 732, 675, 755, 770, 660, 654, 757, 736, 677, 797, 760, 718, 774, 747, 796])\n",
    "\n",
    "# Media de la población y nivel de significancia\n",
    "mu = 721\n",
    "alpha = 0.1\n",
    "\n",
    "# Prueba de una muestra de una cola\n",
    "t_stat, p_value = st.ttest_1samp(sample, mu, alternative='greater')\n",
    "\n",
    "# Valor crítico\n",
    "t_critico = st.t.ppf(1 - alpha, df=len(sample)-1)\n",
    "\n",
    "# Comparar el valor crítico con la estadística de prueba y tomar una decisión\n",
    "if t_stat > t_critico:\n",
    "    print(\"Se rechaza la hipótesis nula\")\n",
    "else:\n",
    "    print(\"No se rechaza la hipótesis nula\")\n",
    "\n",
    "# Imprimir el valor p\n",
    "print(\"El valor p es:\", p_value)\n",
    "\n",
    "\n",
    "\n",
    "\n",
    "#Las pruebas de hipótesis \n",
    "# son una técnica estadística que se utiliza para evaluar la validez de una afirmación \n",
    "# acerca de una población. Se comparan dos hipótesis: una afirmación a probar (hipótesis nula) y la negación de \n",
    "# esta afirmación (hipótesis alternativa). Luego se utiliza una muestra de datos para calcular una estadística \n",
    "# de prueba y evaluar si los datos muestrales son consistentes con la hipótesis nula. Si la estadística de \n",
    "# prueba indica que la hipótesis nula es improbable, se rechaza y se acepta la hipótesis alternativa. \n",
    "# Las pruebas de hipótesis se utilizan en diversas áreas para tomar decisiones informadas basadas en la evidencia.\n",
    "\n",
    "\n",
    "\n",
    "#Las hipótesis nulas y alternativas \n",
    "# son dos afirmaciones opuestas que se comparan en una prueba de hipótesis. La hipótesis nula es la afirmación inicial \n",
    "# que se desea poner a prueba y la hipótesis alternativa es la negación de la hipótesis nula. Si se rechaza la hipótesis \n",
    "# nula, se acepta la hipótesis alternativa. En resumen, son dos afirmaciones opuestas que se comparan para evaluar la \n",
    "# validez de una afirmación acerca de una población.\n",
    "\n",
    "\n",
    "\n",
    "#El valor P \n",
    "# es una medida que indica la probabilidad de obtener una estadística de prueba al menos tan extrema como la observada, \n",
    "# bajo la hipótesis nula. Si el valor P es menor que el nivel de significancia elegido, se rechaza la hipótesis nula, \n",
    "# lo que significa que es poco probable que la diferencia observada entre los datos muestrales y la hipótesis nula sea \n",
    "# debida al azar. Si el valor P es mayor que el nivel de significancia elegido, no se rechaza la hipótesis nula, lo que \n",
    "# significa que no hay suficiente evidencia para concluir que la hipótesis nula es falsa."
   ]
  }
 ],
 "metadata": {
  "kernelspec": {
   "display_name": "Python 3",
   "language": "python",
   "name": "python3"
  },
  "language_info": {
   "codemirror_mode": {
    "name": "ipython",
    "version": 3
   },
   "file_extension": ".py",
   "mimetype": "text/x-python",
   "name": "python",
   "nbconvert_exporter": "python",
   "pygments_lexer": "ipython3",
   "version": "3.10.11"
  },
  "orig_nbformat": 4
 },
 "nbformat": 4,
 "nbformat_minor": 2
}
