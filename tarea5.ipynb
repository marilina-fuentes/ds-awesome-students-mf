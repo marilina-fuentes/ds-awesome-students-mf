{
 "cells": [
  {
   "cell_type": "code",
   "execution_count": 1,
   "metadata": {},
   "outputs": [
    {
     "ename": "ZeroDivisionError",
     "evalue": "division by zero",
     "output_type": "error",
     "traceback": [
      "\u001b[1;31m---------------------------------------------------------------------------\u001b[0m",
      "\u001b[1;31mZeroDivisionError\u001b[0m                         Traceback (most recent call last)",
      "Cell \u001b[1;32mIn[1], line 3\u001b[0m\n\u001b[0;32m      1\u001b[0m a\u001b[39m=\u001b[39m\u001b[39m10\u001b[39m\n\u001b[0;32m      2\u001b[0m b\u001b[39m=\u001b[39m\u001b[39m0\u001b[39m\n\u001b[1;32m----> 3\u001b[0m c\u001b[39m=\u001b[39ma\u001b[39m/\u001b[39;49mb\n\u001b[0;32m      4\u001b[0m \u001b[39mprint\u001b[39m(\u001b[39m\"\u001b[39m\u001b[39ma/b=\u001b[39m\u001b[39m%d\u001b[39;00m\u001b[39m\"\u001b[39m\u001b[39m%\u001b[39mc)\n",
      "\u001b[1;31mZeroDivisionError\u001b[0m: division by zero"
     ]
    }
   ],
   "source": [
    "#Para el siguientes ejemplo, proporcione la(s) excepción(es) adecuada(s):\n",
    "a=10\n",
    "b=0\n",
    "c=a/b\n",
    "print(\"a/b=%d\"%c)"
   ]
  },
  {
   "cell_type": "code",
   "execution_count": 2,
   "metadata": {},
   "outputs": [
    {
     "name": "stdout",
     "output_type": "stream",
     "text": [
      "Error: división por cero\n"
     ]
    }
   ],
   "source": [
    "#La excepcion adecuada es try \n",
    "a=10\n",
    "b=0\n",
    "try:\n",
    "    c = a/b\n",
    "except ZeroDivisionError:\n",
    "    print(\"Error: división por cero\")\n",
    "else:\n",
    "    print(\"a/b=%d\" % c)"
   ]
  },
  {
   "cell_type": "code",
   "execution_count": 3,
   "metadata": {},
   "outputs": [
    {
     "name": "stdout",
     "output_type": "stream",
     "text": [
      "Error: división por cero\n"
     ]
    }
   ],
   "source": [
    "#Con el ejercicio anterior, cree un programa que le pida ingresar los valores al usuario.\n",
    "\n",
    "try:\n",
    "    a = int(input(\"Ingrese el valor de a: \"))\n",
    "    b = int(input(\"Ingrese el valor de b: \"))\n",
    "    c = a / b\n",
    "except ValueError:\n",
    "    print(\"Error: los valores deben ser números enteros\")\n",
    "except ZeroDivisionError:\n",
    "    print(\"Error: división por cero\")\n",
    "else:\n",
    "    print(\"a/b = %.2f\" % c)\n"
   ]
  },
  {
   "cell_type": "code",
   "execution_count": 10,
   "metadata": {},
   "outputs": [
    {
     "name": "stdout",
     "output_type": "stream",
     "text": [
      "La tasa de interés no puede ser mayor que 100\n"
     ]
    }
   ],
   "source": [
    "#Cree una función de interés simple, entregando una excepción si la tasa es superior a 100.\n",
    "#● El programa debe recibir: monto, año y tasa.\n",
    "#● El cálculo de i nt er és será: (monto * año * tasa) / 100\n",
    "#● Agregue mensajes adecuados al contexto, para la interacción del programa.\n",
    "\n",
    "\n",
    "def interes_simple(capital, tasa, tiempo):\n",
    "    if tasa > 100:\n",
    "        raise ValueError(\"La tasa de interés no puede ser mayor que 100\")\n",
    "    interes = capital * tasa * tiempo / 100\n",
    "    return interes\n",
    "\n",
    "#usuario ingresa valores\n",
    "capital = float(input(\"Ingrese el capital: \"))\n",
    "tasa = float(input(\"Ingrese la tasa de interés: \"))\n",
    "tiempo = float(input(\"Ingrese el tiempo en años: \"))\n",
    "\n",
    "#Excepcion\n",
    "try:\n",
    "    interes = interes_simple(capital, tasa, tiempo)\n",
    "except ValueError as e:\n",
    "    print(e)\n",
    "else:\n",
    "    print(\"El interés simple es %.2f\" % interes)"
   ]
  }
 ],
 "metadata": {
  "kernelspec": {
   "display_name": "Python 3",
   "language": "python",
   "name": "python3"
  },
  "language_info": {
   "codemirror_mode": {
    "name": "ipython",
    "version": 3
   },
   "file_extension": ".py",
   "mimetype": "text/x-python",
   "name": "python",
   "nbconvert_exporter": "python",
   "pygments_lexer": "ipython3",
   "version": "3.10.11"
  },
  "orig_nbformat": 4
 },
 "nbformat": 4,
 "nbformat_minor": 2
}
