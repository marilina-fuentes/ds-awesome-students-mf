{
 "cells": [
  {
   "cell_type": "code",
   "execution_count": 8,
   "metadata": {},
   "outputs": [
    {
     "name": "stdout",
     "output_type": "stream",
     "text": [
      "La probabilidad de que durante el año la cantidad total de pasajeros sea de al menos 699500 es del 5.21%\n"
     ]
    }
   ],
   "source": [
    "# 1.- Cierta compañía aérea ha requerido de sus servicios profesionales para llevar a cabo un estudio relacionado con la cantidad de pasajeros que llegan al país en\n",
    "# vuelos internacionales, dicho estudio tiene relación con la enfermedad de COVID-19. De acuerdo a la información que maneja la compañía, la cantidad de pasajeros\n",
    "# que llegan en vuelos internacionales se comporta aproximadamente normal con una media de 120 pasajeros y una varianza de 25.\n",
    "\n",
    "# a. Asumiendo que cada día llegan a Santiago 16 vuelos internacionales, determine la probabilidad de que durante el año (52 semanas) la cantidad total de pasajeros \n",
    "#sea de al menos de 699500.\n",
    "\n",
    "import math\n",
    "import scipy.stats as st\n",
    "\n",
    "# Definir parámetros del problema\n",
    "media = 120\n",
    "varianza = 25\n",
    "vuelos_diarios = 16\n",
    "semanas_anuales = 52\n",
    "min_pasajeros = 699500\n",
    "\n",
    "# Calcular la media y la desviación estándar de la cantidad total de pasajeros\n",
    "n = vuelos_diarios * 7 * semanas_anuales\n",
    "media_total = media * n\n",
    "desv_total = math.sqrt(varianza) * math.sqrt(n)\n",
    "\n",
    "# Calcular la probabilidad de que la cantidad total de pasajeros sea de al menos min_pasajeros\n",
    "z = (min_pasajeros - media_total) / desv_total\n",
    "probabilidad = 1 - st.norm.cdf(z)\n",
    "\n",
    "# Imprimir la probabilidad\n",
    "print(\"La probabilidad de que durante el año la cantidad total de pasajeros sea de al menos {} es del {:.2f}%\".format(min_pasajeros, probabilidad*100))\n"
   ]
  },
  {
   "cell_type": "code",
   "execution_count": 1,
   "metadata": {},
   "outputs": [
    {
     "name": "stdout",
     "output_type": "stream",
     "text": [
      "La probabilidad de que menos de un 5% de los pasajeros sean niños es del 6.57%\n"
     ]
    }
   ],
   "source": [
    "# b. De acuerdo con registros históricos se sabe que aproximadamente un 7% de los pasajeros son niños. Considerando un potencial de 400 pasajeros que\n",
    "# llegarían en los próximos días, determine la probabilidad que menos de un # 5% sean niños.\n",
    "\n",
    "import scipy.stats as st\n",
    "\n",
    "# Datos del problema\n",
    "n = 400 # tamaño de la muestra\n",
    "p = 0.07 # probabilidad de que un pasajero sea niño\n",
    "k = 20 # número de niños que deben haber o menos para que la probabilidad sea menor al 5%\n",
    "\n",
    "# Calcular la probabilidad\n",
    "probabilidad = st.binom.cdf(k, n, p)\n",
    "\n",
    "# Imprimir la probabilidad\n",
    "print(f\"La probabilidad de que menos de un 5% de los pasajeros sean niños es del {probabilidad*100:.2f}%\")\n"
   ]
  },
  {
   "cell_type": "code",
   "execution_count": 3,
   "metadata": {},
   "outputs": [
    {
     "name": "stdout",
     "output_type": "stream",
     "text": [
      "Con un nivel de significancia de 0.05, la cantidad media de entrevistas realizadas por los agentes 53 por semana. Valor p: 0.00283\n"
     ]
    }
   ],
   "source": [
    "# 2.- Una empresa que se dedica a hacer en cuestas se queja de que un agente\n",
    "# realiza en promedio 53 encuestas por semana. Se ha introducido una forma más\n",
    "# moderna de realizar las encuestas y la empresa quiere evaluar su efectividad. Los\n",
    "# números de encuestas realizadas en una semana por una muestra aleatoria de\n",
    "# agentes son:\n",
    "#   53\t57\t50\t55\t58\t54\t60\t52\t59\t62\n",
    "#   60\t60\t51\t59\t\t\t\t\t\t\n",
    "# En el nivel de significancia 0,05, puede concluirse que la cantidad media de entrevistas\n",
    "# realizadas por los agentes es superior a 53 por semana? Evalúe el valor p.\n",
    "\n",
    "import scipy.stats as st\n",
    "\n",
    "# Datos del problema\n",
    "encuestas = [53, 57, 50, 55, 58, 54, 60, 52, 59, 62, 60, 60, 51, 59]\n",
    "mu = 53 # valor de referencia\n",
    "alpha = 0.05 # nivel de significancia\n",
    "\n",
    "# Realizar la prueba de hipótesis\n",
    "t_stat, p_valor = st.ttest_1samp(encuestas, mu)\n",
    "\n",
    "# Imprimir los resultados\n",
    "if p_valor/2 < alpha and t_stat > 0:\n",
    "    print(f\"Con un nivel de significancia de {alpha}, la cantidad media de entrevistas realizadas por los agentes {mu} por semana. Valor p: {p_valor/2:.5f}\")\n",
    "else:\n",
    "    print(f\"No se puede concluir que la cantidad media de entrevistas realizadas por los agentes es mayor a {mu} por semana. Valor p: {p_valor/2:.5f}\")\n"
   ]
  }
 ],
 "metadata": {
  "kernelspec": {
   "display_name": "Python 3",
   "language": "python",
   "name": "python3"
  },
  "language_info": {
   "codemirror_mode": {
    "name": "ipython",
    "version": 3
   },
   "file_extension": ".py",
   "mimetype": "text/x-python",
   "name": "python",
   "nbconvert_exporter": "python",
   "pygments_lexer": "ipython3",
   "version": "3.10.11"
  },
  "orig_nbformat": 4
 },
 "nbformat": 4,
 "nbformat_minor": 2
}
